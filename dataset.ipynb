{
 "cells": [
  {
   "cell_type": "code",
   "execution_count": 8,
   "id": "9c3654cb-9203-4bcc-89c0-abc10b5850ed",
   "metadata": {},
   "outputs": [],
   "source": [
    "from dataset import Photoshopped_Faces"
   ]
  },
  {
   "cell_type": "code",
   "execution_count": 9,
   "id": "59b7ae21-3d43-4483-9474-8ac3def407a6",
   "metadata": {},
   "outputs": [
    {
     "data": {
      "text/plain": [
       "999"
      ]
     },
     "execution_count": 9,
     "metadata": {},
     "output_type": "execute_result"
    }
   ],
   "source": [
    "sources = \"../sources\"\n",
    "images_dir = sources+\"/images\"\n",
    "flow_res = sources+\"/flows\"\n",
    "m_dir = flow_res + \"/M\"\n",
    "flow_res_fwd = flow_res + \"/fwd\"\n",
    "flow_res_bwd = flow_res + \"/bwd\"\n",
    "mod = images_dir + \"/modified\"\n",
    "ref = images_dir + \"/reference\"\n",
    "tmp_mod = images_dir+ \"/demo_mod/openimage_0995.png\"\n",
    "tmp_ref = images_dir+ \"/demo_ref/openimage_0995.png\"\n",
    "dir_lst = [ref,mod]\n",
    "normalize = v2.Normalize(mean=[0.485, 0.456, 0.406],std=[0.229, 0.224, 0.225])\n",
    "ds = Photoshopped_Faces_with_optical_flow(dir_lst,size = (750,750),transform=normalize)\n",
    "len(ds)"
   ]
  },
  {
   "cell_type": "code",
   "execution_count": 10,
   "id": "b6ef1e19-6095-4e1f-8909-f4551f51f2a2",
   "metadata": {},
   "outputs": [
    {
     "name": "stdout",
     "output_type": "stream",
     "text": [
      "999\n",
      "torch.Size([3, 800, 800])\n",
      "torch.Size([3, 800, 800])\n",
      "torch.Size([2, 800, 800])\n",
      "torch.Size([1, 800, 800])\n"
     ]
    }
   ],
   "source": [
    "\n",
    "\n",
    "        \n",
    "        \n",
    "\n",
    "\n",
    "ds = Photoshopped_Faces(dir_lst)\n",
    "print(len(ds))\n",
    "for s in ds[0]:\n",
    "    print(s.shape)"
   ]
  }
 ],
 "metadata": {
  "kernelspec": {
   "display_name": "Python 3 (ipykernel)",
   "language": "python",
   "name": "python3"
  },
  "language_info": {
   "codemirror_mode": {
    "name": "ipython",
    "version": 3
   },
   "file_extension": ".py",
   "mimetype": "text/x-python",
   "name": "python",
   "nbconvert_exporter": "python",
   "pygments_lexer": "ipython3",
   "version": "3.10.13"
  }
 },
 "nbformat": 4,
 "nbformat_minor": 5
}
