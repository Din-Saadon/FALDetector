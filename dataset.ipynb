{
 "cells": [
  {
   "cell_type": "code",
   "execution_count": 9,
   "id": "9c3654cb-9203-4bcc-89c0-abc10b5850ed",
   "metadata": {},
   "outputs": [],
   "source": [
    "from utils.geometry import forward_backward_consistency_check\n",
    "from utils.tools import grouped_files_from_dir_list,SeedSetter,toTensor\n",
    "from utils.tools import read_gen , resize_gen\n",
    "from torch.utils.data import Dataset\n",
    "from torchvision.transforms import v2\n",
    "\n",
    "\n",
    "class MyDataset(Dataset):\n",
    "    def __init__(self, dir_lst ,transform=None , size = (800,800) , alpha=0.85,beta=0.085, G = v2.GaussianBlur(kernel_size=(7, 7), sigma=(0.1, 5.))):\n",
    "        assert(len(dir_lst) == 4) # Xo , Xm ,Umo , Uom.\n",
    "        self.dir_lst = dir_lst \n",
    "        self.transform = transform\n",
    "        self.size =size\n",
    "        self.path_lst = grouped_files_from_dir_list(dir_lst)\n",
    "        self.alpha = alpha\n",
    "        self.beta =beta\n",
    "        self.G = G\n",
    "\n",
    "    def __len__(self):\n",
    "        return len(self.path_lst)\n",
    "\n",
    "    def __getitem__(self, idx):\n",
    "        \n",
    "        if torch.is_tensor(idx):\n",
    "            idx = idx.tolist()\n",
    "\n",
    "        outputs = [toTensor(resize_gen(read_gen(path),self.size)) for path in self.path_lst[idx]]\n",
    "        Xo ,Xm ,Umo ,Uom = outputs\n",
    "        if self.transform:\n",
    "            Xo = self.transform(Xo)\n",
    "            Xm = self.transform(Xm)\n",
    "        #flow consistency map:\n",
    "        M_inconsistent , _ = forward_backward_consistency_check(Umo.unsqueeze(0),Uom.unsqueeze(0),self.alpha,self.beta)\n",
    "        M = 1 - self.G(M_inconsistent)\n",
    "        \n",
    "        return (Xo,Xm,Umo,M)"
   ]
  },
  {
   "cell_type": "code",
   "execution_count": 10,
   "id": "5383cab7-906f-4d4d-8589-accd7092d21d",
   "metadata": {},
   "outputs": [],
   "source": [
    "sources = \"../sources\"\n",
    "images_dir = sources+\"/images\"\n",
    "flow_res = sources+\"/flows\"\n",
    "m_dir = flow_res + \"/M\"\n",
    "flow_res_fwd = flow_res + \"/fwd\"\n",
    "flow_res_bwd = flow_res + \"/bwd\"\n",
    "mod = images_dir + \"/demo_mod\"\n",
    "ref = images_dir + \"/demo_ref\"\n",
    "dir_lst = [ref,mod,flow_res_fwd,flow_res_bwd]\n",
    "normalize = v2.Normalize(mean=[0.485, 0.456, 0.406],std=[0.229, 0.224, 0.225])\n",
    "ds = MyDataset(dir_lst,size = (750,750),transform=normalize)"
   ]
  },
  {
   "cell_type": "code",
   "execution_count": 6,
   "id": "59b7ae21-3d43-4483-9474-8ac3def407a6",
   "metadata": {},
   "outputs": [
    {
     "name": "stdout",
     "output_type": "stream",
     "text": [
      "torch.Size([3, 750, 750])\n",
      "torch.Size([3, 750, 750])\n",
      "torch.Size([2, 750, 750])\n",
      "torch.Size([1, 750, 750])\n",
      "torch.Size([3, 750, 750])\n",
      "torch.Size([3, 750, 750])\n",
      "torch.Size([2, 750, 750])\n",
      "torch.Size([1, 750, 750])\n"
     ]
    }
   ],
   "source": []
  },
  {
   "cell_type": "code",
   "execution_count": 4,
   "id": "f541b49f-fa50-4d5e-ab9a-d0c572fe2d65",
   "metadata": {},
   "outputs": [
    {
     "name": "stdout",
     "output_type": "stream",
     "text": [
      "png\n"
     ]
    }
   ],
   "source": [
    "from torchvision.transforms import v2\n",
    "\n",
    "name = \"shmolik.png\"\n",
    "print(name.split('.')[-1])\n",
    "\n"
   ]
  },
  {
   "cell_type": "code",
   "execution_count": null,
   "id": "1e2b3d99-2943-4915-9316-56df9975f8d3",
   "metadata": {},
   "outputs": [],
   "source": [
    "import numpy as np\n",
    "x = np.random.rand(3,2)\n",
    "x.shape[0]"
   ]
  },
  {
   "cell_type": "code",
   "execution_count": null,
   "id": "b6ef1e19-6095-4e1f-8909-f4551f51f2a2",
   "metadata": {},
   "outputs": [],
   "source": []
  }
 ],
 "metadata": {
  "kernelspec": {
   "display_name": "Python 3 (ipykernel)",
   "language": "python",
   "name": "python3"
  },
  "language_info": {
   "codemirror_mode": {
    "name": "ipython",
    "version": 3
   },
   "file_extension": ".py",
   "mimetype": "text/x-python",
   "name": "python",
   "nbconvert_exporter": "python",
   "pygments_lexer": "ipython3",
   "version": "3.10.13"
  }
 },
 "nbformat": 4,
 "nbformat_minor": 5
}
