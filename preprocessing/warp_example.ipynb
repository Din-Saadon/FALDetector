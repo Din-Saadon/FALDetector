{
 "cells": [
  {
   "cell_type": "code",
   "execution_count": 26,
   "id": "deb070e3-df37-4321-aec1-de4e4089645e",
   "metadata": {},
   "outputs": [],
   "source": [
    "import cv2\n",
    "from PIL import Image\n",
    "import numpy as np\n",
    "def readFlow(fn):\n",
    "    \"\"\" Read .flo file in Middlebury format\"\"\"\n",
    "    # Code adapted from:\n",
    "    # http://stackoverflow.com/questions/28013200/reading-middlebury-flow-files-with-python-bytes-array-numpy\n",
    "\n",
    "    # WARNING: this will work on little-endian architectures (eg Intel x86) only!\n",
    "    # print 'fn = %s'%(fn)\n",
    "    with open(fn, 'rb') as f:\n",
    "        magic = np.fromfile(f, np.float32, count=1)\n",
    "        if 202021.25 != magic:\n",
    "            print('Magic number incorrect. Invalid .flo file')\n",
    "            return None\n",
    "        else:\n",
    "            w = np.fromfile(f, np.int32, count=1)\n",
    "            h = np.fromfile(f, np.int32, count=1)\n",
    "            # print 'Reading %d x %d flo file\\n' % (w, h)\n",
    "            data = np.fromfile(f, np.float32, count=2 * int(w) * int(h))\n",
    "            # Reshape testdata into 3D array (columns, rows, bands)\n",
    "            # The reshape here is for visualization, the original code is (w,h,2)\n",
    "            return np.resize(data, (int(h), int(w), 2))\n",
    "def path_to_img_arr(path,cv2_ = True):\n",
    "  \"\"\"  if cv2_:\n",
    "    image = cv2.imread(path)\n",
    "  else:\"\"\"\n",
    "  image = Image.open(path).convert('RGB')\n",
    "  image_array = np.asarray(image)\n",
    "  return image_array\n",
    "\n",
    "def warp(im, flow, alpha=1, interp=cv2.INTER_CUBIC):\n",
    "    height, width, _ = flow.shape\n",
    "    cart = np.dstack(np.meshgrid(np.arange(width), np.arange(height)))\n",
    "    pixel_map = (cart + alpha * flow).astype(np.float32)\n",
    "    warped = cv2.remap(\n",
    "        im,\n",
    "        pixel_map[:, :, 0],\n",
    "        pixel_map[:, :, 1],\n",
    "        interp)\n",
    "    return warped\n",
    "\n",
    "import cv2\n",
    "def warp2(curImg ,flow):\n",
    "  h, w = flow.shape[:2]\n",
    "  flow = -flow\n",
    "  flow[:,:,0] += np.arange(w)\n",
    "  flow[:,:,1] += np.arange(h)[:,np.newaxis]\n",
    "  prevImg = cv2.remap(curImg, flow, None, cv2.INTER_LINEAR)\n",
    "  return prevImg\n",
    "def warp3(img,flo):\n",
    "  batched_img = np.reshape(img, (1, *img.shape))\n",
    "  torch_img = torch.from_numpy(batched_img)\n",
    "  torch_img = torch.from_numpy(np.transpose(batched_img, (0, 3, 1, 2)))\n",
    "  batched_flo = np.reshape(flo, (1, *flo.shape))\n",
    "  torch_flo = torch.from_numpy(batched_flo)\n",
    "  torch_flo = torch.from_numpy(np.transpose(batched_flo, (0, 3, 1, 2)))\n",
    "  return warp_pwc(torch_img,torch_flo)\n",
    "\n",
    "def warp_pwc(x, flo):\n",
    "    \"\"\"\n",
    "    warp an image/tensor (im2) back to im1, according to the optical flow\n",
    "\n",
    "    x: [B, C, H, W] (im2)\n",
    "    flo: [B, 2, H, W] flow\n",
    "\n",
    "    \"\"\"\n",
    "    B, C, H, W = x.size()\n",
    "    # mesh grid\n",
    "    xx = torch.arange(0, W).view(1,-1).repeat(H,1)\n",
    "    yy = torch.arange(0, H).view(-1,1).repeat(1,W)\n",
    "    xx = xx.view(1,1,H,W).repeat(B,1,1,1)\n",
    "    yy = yy.view(1,1,H,W).repeat(B,1,1,1)\n",
    "    grid = torch.cat((xx,yy),1).float()\n",
    "\n",
    "    if x.is_cuda:\n",
    "        grid = grid.cuda()\n",
    "    vgrid = Variable(grid) + flo\n",
    "\n",
    "    # scale grid to [-1,1]\n",
    "    vgrid[:,0,:,:] = 2.0*vgrid[:,0,:,:].clone() / max(W-1,1)-1.0\n",
    "    vgrid[:,1,:,:] = 2.0*vgrid[:,1,:,:].clone() / max(H-1,1)-1.0\n",
    "\n",
    "    vgrid = vgrid.permute(0,2,3,1)\n",
    "    output = nn.functional.grid_sample(x, vgrid)\n",
    "    mask = torch.autograd.Variable(torch.ones(x.size())).cuda()\n",
    "    mask = nn.functional.grid_sample(mask, vgrid)\n",
    "\n",
    "    mask[mask<0.999] = 0\n",
    "    mask[mask>0] = 1\n",
    "\n",
    "    return output*mask\n",
    "\n",
    "def diff_show(path1 , path2):\n",
    "\n",
    "    i_ref=path1\n",
    "    i_mod=path2\n",
    "    plt.figure(figsize=(5,5))\n",
    "    image_ref = cv2.imread(i_ref)\n",
    "    plt.imshow(image_ref[:, :, ::-1])\n",
    "    plt.axis('off')\n",
    "    plt.show()\n",
    "    plt.figure(figsize=(5,5))\n",
    "    image_mod = cv2.imread(i_mod)\n",
    "    plt.imshow(image_mod[:, :, ::-1])\n",
    "    plt.axis('off')\n",
    "    plt.show()\n",
    "    plt.figure(figsize=(5,5))\n",
    "    plt.imshow(cv2.cvtColor(image_mod, cv2.COLOR_BGR2GRAY) - cv2.cvtColor(image_ref, cv2.COLOR_BGR2GRAY))\n",
    "    plt.axis('off')\n",
    "    plt.show()\n",
    "\n",
    "    plt.close()"
   ]
  },
  {
   "cell_type": "code",
   "execution_count": 22,
   "id": "113e3c59-ca7a-4dec-b345-ac1a94a5db49",
   "metadata": {},
   "outputs": [],
   "source": [
    "images = \"../../sources/images\"\n",
    "flow_res = \"../../sources/flows\"\n",
    "mod = images + \"/demo_mod\"\n",
    "ref = images + \"/demo_ref\""
   ]
  },
  {
   "cell_type": "code",
   "execution_count": 24,
   "id": "cefab064-9610-4799-b289-b5a13d001f63",
   "metadata": {},
   "outputs": [
    {
     "name": "stdout",
     "output_type": "stream",
     "text": [
      "openimage_0922.flo  openimage_0995.flo\n"
     ]
    }
   ],
   "source": [
    "!ls $flow_res"
   ]
  },
  {
   "cell_type": "code",
   "execution_count": 23,
   "id": "5359c34d-0f37-4537-a13e-641b540e81e4",
   "metadata": {},
   "outputs": [
    {
     "data": {
      "text/plain": [
       "['/home/din/miniconda3/envs/buna/lib/python3.10/site-packages/torch/nn/modules/conv.py:456: UserWarning: Plan failed with a cudnnException: CUDNN_BACKEND_EXECUTION_PLAN_DESCRIPTOR: cudnnFinalize Descriptor Failed cudnn_status: CUDNN_STATUS_NOT_SUPPORTED (Triggered internally at /opt/conda/conda-bld/pytorch_1712608935911/work/aten/src/ATen/native/cudnn/Conv_v8.cpp:919.)',\n",
       " '  return F.conv2d(input, weight, bias, self.stride,']"
      ]
     },
     "execution_count": 23,
     "metadata": {},
     "output_type": "execute_result"
    }
   ],
   "source": [
    "!!python SpyNet/pred.py --model sintel-final --one $mod --two $ref --out $flow_res"
   ]
  },
  {
   "cell_type": "code",
   "execution_count": 27,
   "id": "3e97f7cf-12ff-4b16-a136-5def631088cf",
   "metadata": {},
   "outputs": [
    {
     "name": "stdout",
     "output_type": "stream",
     "text": [
      "(417, 430, 2)\n"
     ]
    },
    {
     "name": "stderr",
     "output_type": "stream",
     "text": [
      "/tmp/ipykernel_5499/3421057023.py:20: DeprecationWarning: Conversion of an array with ndim > 0 to a scalar is deprecated, and will error in future. Ensure you extract a single element from your array before performing this operation. (Deprecated NumPy 1.25.)\n",
      "  data = np.fromfile(f, np.float32, count=2 * int(w) * int(h))\n",
      "/tmp/ipykernel_5499/3421057023.py:23: DeprecationWarning: Conversion of an array with ndim > 0 to a scalar is deprecated, and will error in future. Ensure you extract a single element from your array before performing this operation. (Deprecated NumPy 1.25.)\n",
      "  return np.resize(data, (int(h), int(w), 2))\n"
     ]
    }
   ],
   "source": [
    "flow = flow_res + \"/openimage_0995.flo\"\n",
    "flow_numpy = readFlow(flow)\n",
    "print(flow_numpy.shape)"
   ]
  },
  {
   "cell_type": "code",
   "execution_count": null,
   "id": "b6d19580-25ba-45cf-8c41-be751a144ef6",
   "metadata": {},
   "outputs": [],
   "source": [
    "\n",
    "img0_numpy = path_to_img_arr(img0_path,False)\n",
    "img1_numpy = path_to_img_arr(img1_path,False)\n",
    "C, H, W = img0_numpy.shape\n",
    "img1_like_numpy  = warp(img0_numpy,flow_numpy)  ## warp via optical flow img1 to img\n",
    "\n",
    "\n",
    "img1_like = Image.fromarray(img1_like_numpy)\n",
    "img1_like_path = RESULT + \"/openimage_0995_1_like.png\"\n",
    "#img1_like.save(img1_like_path)\n",
    "diff_show(img1_like_path,img1_path)\n"
   ]
  }
 ],
 "metadata": {
  "kernelspec": {
   "display_name": "Python 3 (ipykernel)",
   "language": "python",
   "name": "python3"
  },
  "language_info": {
   "codemirror_mode": {
    "name": "ipython",
    "version": 3
   },
   "file_extension": ".py",
   "mimetype": "text/x-python",
   "name": "python",
   "nbconvert_exporter": "python",
   "pygments_lexer": "ipython3",
   "version": "3.10.13"
  }
 },
 "nbformat": 4,
 "nbformat_minor": 5
}
