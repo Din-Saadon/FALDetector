{
 "cells": [
  {
   "cell_type": "markdown",
   "id": "e8c649c8-a92f-485a-952e-4b91344c43fe",
   "metadata": {},
   "source": [
    "## imports"
   ]
  },
  {
   "cell_type": "code",
   "execution_count": 6,
   "id": "6cb86fa8-a635-462a-b69e-2bd4e65d7150",
   "metadata": {},
   "outputs": [
    {
     "name": "stdout",
     "output_type": "stream",
     "text": [
      "y\n"
     ]
    }
   ],
   "source": [
    "import torch\n",
    "from modules.DRN.DRNSeg import DRNSeg\n",
    "import argparse , os ,sys\n",
    "import numpy as np\n",
    "import torchvision.transforms as transforms\n",
    "from PIL import Image\n",
    "from utils.tools import TimerBlock , SeedSetter\n",
    "from dataset import Photoshopped_Faces\n",
    "from losses import L_tot ,L2\n",
    "from torch.autograd import Function, Variable\n",
    "\n",
    "\n",
    "print(\"y\")"
   ]
  },
  {
   "cell_type": "markdown",
   "id": "f5835ed2-0bff-41d9-b93b-d6fff6df7577",
   "metadata": {},
   "source": [
    "## Args\n",
    "TO DO: chagne it to parser instead"
   ]
  },
  {
   "cell_type": "code",
   "execution_count": null,
   "id": "3556e897-fa30-443a-8bf0-46df4cffb58d",
   "metadata": {},
   "outputs": [],
   "source": []
  },
  {
   "cell_type": "code",
   "execution_count": 7,
   "id": "f118e053-8051-4cc1-aaed-5a44cbb3c2f4",
   "metadata": {},
   "outputs": [],
   "source": [
    "class Args():\n",
    "    def __init__(self,model_path,gpu_id=0,lr=1e-4,b1=0.9,b2=0.999):\n",
    "        self.lr = lr\n",
    "        self.b1 = b1\n",
    "        self.b2 = b2\n",
    "        self.gpu_id=gpu_id\n",
    "        self.model_path =model_path\n",
    "        \n",
    "args = Args(\"../checkpoints/DRN/local.pth\")       "
   ]
  },
  {
   "cell_type": "markdown",
   "id": "d998edce-0090-4495-ae96-d817eb5c1fbf",
   "metadata": {},
   "source": [
    "## Train"
   ]
  },
  {
   "cell_type": "code",
   "execution_count": 10,
   "id": "18b7971e-270c-4ba0-884f-41567fdc2a6a",
   "metadata": {},
   "outputs": [],
   "source": [
    "from utils.geometry import forward_backward_consistency_check\n",
    "from utils.tools import grouped_files_from_dir_list,SeedSetter,toTensor\n",
    "from utils.tools import read_gen , resize_gen\n",
    "from torch.utils.data import Dataset\n",
    "from torchvision.transforms import v2\n",
    "import torch\n",
    "from torch.utils.data import DataLoader\n",
    "from tqdm import tqdm\n",
    "\n",
    "\n",
    "sources = \"../sources\"\n",
    "images_dir = sources+\"/images\"\n",
    "flow_res = sources+\"/flows\"\n",
    "m_dir = flow_res + \"/M\"\n",
    "flow_res_fwd = flow_res + \"/fwd\"\n",
    "flow_res_bwd = flow_res + \"/bwd\"\n",
    "mod = images_dir + \"/modified\"\n",
    "ref = images_dir + \"/reference\"\n",
    "dir_lst = [ref,mod]\n",
    "normalize = v2.Normalize(mean=[0.485, 0.456, 0.406],std=[0.229, 0.224, 0.225])\n",
    "ds = Photoshopped_Faces(dir_lst,size = (128,128),transform=normalize)\n",
    "train ,val ,test= torch.utils.data.random_split(ds, [899, 92,8])\n",
    "train_loader = DataLoader(\n",
    "    dataset=train,\n",
    "    batch_size=8,\n",
    "    shuffle=True,\n",
    "    drop_last=True\n",
    ")\n",
    "val_loader = DataLoader(\n",
    "    dataset=val,\n",
    "    batch_size=8,\n",
    "    shuffle=True,\n",
    "    drop_last=True\n",
    ")\n",
    "\n",
    "epoch = 1 \n",
    "num_epochs = 20\n",
    "\n",
    "\n"
   ]
  },
  {
   "cell_type": "code",
   "execution_count": 11,
   "id": "9ab366aa-9d30-44f3-ab7d-a6973f09922a",
   "metadata": {},
   "outputs": [
    {
     "name": "stderr",
     "output_type": "stream",
     "text": [
      "Epoch 1/5 - Training:   1%|▌                                                         | 1/112 [03:37<6:42:56, 217.81s/it]"
     ]
    },
    {
     "name": "stdout",
     "output_type": "stream",
     "text": [
      "Resample2d :  input1_size (img?) = torch.Size([8, 3, 128, 128]), input2_size (flow?) = torch.Size([8, 2, 128, 128])\n"
     ]
    },
    {
     "name": "stderr",
     "output_type": "stream",
     "text": [
      "Epoch 1/5 - Training:   2%|█                                                         | 2/112 [07:12<6:36:22, 216.20s/it]"
     ]
    },
    {
     "name": "stdout",
     "output_type": "stream",
     "text": [
      "Resample2d :  input1_size (img?) = torch.Size([8, 3, 128, 128]), input2_size (flow?) = torch.Size([8, 2, 128, 128])\n"
     ]
    },
    {
     "name": "stderr",
     "output_type": "stream",
     "text": [
      "Epoch 1/5 - Training:   3%|█▌                                                        | 3/112 [10:51<6:34:43, 217.28s/it]"
     ]
    },
    {
     "name": "stdout",
     "output_type": "stream",
     "text": [
      "Resample2d :  input1_size (img?) = torch.Size([8, 3, 128, 128]), input2_size (flow?) = torch.Size([8, 2, 128, 128])\n"
     ]
    },
    {
     "name": "stderr",
     "output_type": "stream",
     "text": [
      "Epoch 1/5 - Training:   4%|██                                                        | 4/112 [14:29<6:31:53, 217.72s/it]"
     ]
    },
    {
     "name": "stdout",
     "output_type": "stream",
     "text": [
      "Resample2d :  input1_size (img?) = torch.Size([8, 3, 128, 128]), input2_size (flow?) = torch.Size([8, 2, 128, 128])\n"
     ]
    },
    {
     "name": "stderr",
     "output_type": "stream",
     "text": [
      "Epoch 1/5 - Training:   4%|██▌                                                       | 5/112 [18:07<6:28:04, 217.61s/it]"
     ]
    },
    {
     "name": "stdout",
     "output_type": "stream",
     "text": [
      "Resample2d :  input1_size (img?) = torch.Size([8, 3, 128, 128]), input2_size (flow?) = torch.Size([8, 2, 128, 128])\n"
     ]
    },
    {
     "name": "stderr",
     "output_type": "stream",
     "text": [
      "Epoch 1/5 - Training:   5%|███                                                       | 6/112 [21:45<6:24:47, 217.81s/it]"
     ]
    },
    {
     "name": "stdout",
     "output_type": "stream",
     "text": [
      "Resample2d :  input1_size (img?) = torch.Size([8, 3, 128, 128]), input2_size (flow?) = torch.Size([8, 2, 128, 128])\n"
     ]
    },
    {
     "name": "stderr",
     "output_type": "stream",
     "text": [
      "Epoch 1/5 - Training:   6%|███▋                                                      | 7/112 [25:19<6:18:56, 216.53s/it]"
     ]
    },
    {
     "name": "stdout",
     "output_type": "stream",
     "text": [
      "Resample2d :  input1_size (img?) = torch.Size([8, 3, 128, 128]), input2_size (flow?) = torch.Size([8, 2, 128, 128])\n"
     ]
    },
    {
     "name": "stderr",
     "output_type": "stream",
     "text": [
      "Epoch 1/5 - Training:   7%|████▏                                                     | 8/112 [28:55<6:15:09, 216.43s/it]"
     ]
    },
    {
     "name": "stdout",
     "output_type": "stream",
     "text": [
      "Resample2d :  input1_size (img?) = torch.Size([8, 3, 128, 128]), input2_size (flow?) = torch.Size([8, 2, 128, 128])\n"
     ]
    },
    {
     "name": "stderr",
     "output_type": "stream",
     "text": [
      "Epoch 1/5 - Training:   8%|████▋                                                     | 9/112 [32:29<6:10:17, 215.71s/it]"
     ]
    },
    {
     "name": "stdout",
     "output_type": "stream",
     "text": [
      "Resample2d :  input1_size (img?) = torch.Size([8, 3, 128, 128]), input2_size (flow?) = torch.Size([8, 2, 128, 128])\n"
     ]
    },
    {
     "name": "stderr",
     "output_type": "stream",
     "text": [
      "Epoch 1/5 - Training:   9%|█████                                                    | 10/112 [35:57<6:02:33, 213.27s/it]"
     ]
    },
    {
     "name": "stdout",
     "output_type": "stream",
     "text": [
      "Resample2d :  input1_size (img?) = torch.Size([8, 3, 128, 128]), input2_size (flow?) = torch.Size([8, 2, 128, 128])\n"
     ]
    },
    {
     "name": "stderr",
     "output_type": "stream",
     "text": [
      "Epoch 1/5 - Training:  10%|█████▌                                                   | 11/112 [39:27<5:57:31, 212.39s/it]"
     ]
    },
    {
     "name": "stdout",
     "output_type": "stream",
     "text": [
      "Resample2d :  input1_size (img?) = torch.Size([8, 3, 128, 128]), input2_size (flow?) = torch.Size([8, 2, 128, 128])\n"
     ]
    },
    {
     "name": "stderr",
     "output_type": "stream",
     "text": [
      "Epoch 1/5 - Training:  11%|██████                                                   | 12/112 [42:54<5:51:17, 210.77s/it]"
     ]
    },
    {
     "name": "stdout",
     "output_type": "stream",
     "text": [
      "Resample2d :  input1_size (img?) = torch.Size([8, 3, 128, 128]), input2_size (flow?) = torch.Size([8, 2, 128, 128])\n"
     ]
    },
    {
     "name": "stderr",
     "output_type": "stream",
     "text": [
      "Epoch 1/5 - Training:  12%|██████▌                                                  | 13/112 [46:21<5:45:35, 209.45s/it]"
     ]
    },
    {
     "name": "stdout",
     "output_type": "stream",
     "text": [
      "Resample2d :  input1_size (img?) = torch.Size([8, 3, 128, 128]), input2_size (flow?) = torch.Size([8, 2, 128, 128])\n"
     ]
    },
    {
     "name": "stderr",
     "output_type": "stream",
     "text": [
      "Epoch 1/5 - Training:  12%|███████▏                                                 | 14/112 [49:48<5:41:04, 208.82s/it]"
     ]
    },
    {
     "name": "stdout",
     "output_type": "stream",
     "text": [
      "Resample2d :  input1_size (img?) = torch.Size([8, 3, 128, 128]), input2_size (flow?) = torch.Size([8, 2, 128, 128])\n"
     ]
    },
    {
     "name": "stderr",
     "output_type": "stream",
     "text": [
      "Epoch 1/5 - Training:  13%|███████▋                                                 | 15/112 [53:12<5:35:01, 207.23s/it]"
     ]
    },
    {
     "name": "stdout",
     "output_type": "stream",
     "text": [
      "Resample2d :  input1_size (img?) = torch.Size([8, 3, 128, 128]), input2_size (flow?) = torch.Size([8, 2, 128, 128])\n"
     ]
    },
    {
     "name": "stderr",
     "output_type": "stream",
     "text": [
      "Epoch 1/5 - Training:  14%|████████▏                                                | 16/112 [56:34<5:29:05, 205.68s/it]"
     ]
    },
    {
     "name": "stdout",
     "output_type": "stream",
     "text": [
      "Resample2d :  input1_size (img?) = torch.Size([8, 3, 128, 128]), input2_size (flow?) = torch.Size([8, 2, 128, 128])\n"
     ]
    },
    {
     "name": "stderr",
     "output_type": "stream",
     "text": [
      "Epoch 1/5 - Training:  15%|████████▋                                                | 17/112 [59:53<5:22:32, 203.71s/it]"
     ]
    },
    {
     "name": "stdout",
     "output_type": "stream",
     "text": [
      "Resample2d :  input1_size (img?) = torch.Size([8, 3, 128, 128]), input2_size (flow?) = torch.Size([8, 2, 128, 128])\n"
     ]
    },
    {
     "name": "stderr",
     "output_type": "stream",
     "text": [
      "Epoch 1/5 - Training:  16%|████████▊                                              | 18/112 [1:03:53<5:36:13, 214.61s/it]"
     ]
    },
    {
     "name": "stdout",
     "output_type": "stream",
     "text": [
      "Resample2d :  input1_size (img?) = torch.Size([8, 3, 128, 128]), input2_size (flow?) = torch.Size([8, 2, 128, 128])\n"
     ]
    },
    {
     "name": "stderr",
     "output_type": "stream",
     "text": [
      "Epoch 1/5 - Training:  17%|█████████▎                                             | 19/112 [1:07:37<5:37:08, 217.51s/it]"
     ]
    },
    {
     "name": "stdout",
     "output_type": "stream",
     "text": [
      "Resample2d :  input1_size (img?) = torch.Size([8, 3, 128, 128]), input2_size (flow?) = torch.Size([8, 2, 128, 128])\n"
     ]
    },
    {
     "name": "stderr",
     "output_type": "stream",
     "text": [
      "Epoch 1/5 - Training:  18%|█████████▊                                             | 20/112 [1:11:30<5:40:36, 222.14s/it]"
     ]
    },
    {
     "name": "stdout",
     "output_type": "stream",
     "text": [
      "Resample2d :  input1_size (img?) = torch.Size([8, 3, 128, 128]), input2_size (flow?) = torch.Size([8, 2, 128, 128])\n"
     ]
    },
    {
     "name": "stderr",
     "output_type": "stream",
     "text": [
      "Epoch 1/5 - Training:  19%|██████████▎                                            | 21/112 [1:15:25<5:42:34, 225.87s/it]"
     ]
    },
    {
     "name": "stdout",
     "output_type": "stream",
     "text": [
      "Resample2d :  input1_size (img?) = torch.Size([8, 3, 128, 128]), input2_size (flow?) = torch.Size([8, 2, 128, 128])\n"
     ]
    },
    {
     "name": "stderr",
     "output_type": "stream",
     "text": [
      "Epoch 1/5 - Training:  20%|██████████▊                                            | 22/112 [1:19:14<5:40:14, 226.83s/it]"
     ]
    },
    {
     "name": "stdout",
     "output_type": "stream",
     "text": [
      "Resample2d :  input1_size (img?) = torch.Size([8, 3, 128, 128]), input2_size (flow?) = torch.Size([8, 2, 128, 128])\n"
     ]
    },
    {
     "name": "stderr",
     "output_type": "stream",
     "text": [
      "Epoch 1/5 - Training:  21%|███████████▎                                           | 23/112 [1:23:06<5:38:52, 228.45s/it]"
     ]
    },
    {
     "name": "stdout",
     "output_type": "stream",
     "text": [
      "Resample2d :  input1_size (img?) = torch.Size([8, 3, 128, 128]), input2_size (flow?) = torch.Size([8, 2, 128, 128])\n"
     ]
    },
    {
     "name": "stderr",
     "output_type": "stream",
     "text": [
      "Epoch 1/5 - Training:  21%|███████████▊                                           | 24/112 [1:27:06<5:40:02, 231.84s/it]"
     ]
    },
    {
     "name": "stdout",
     "output_type": "stream",
     "text": [
      "Resample2d :  input1_size (img?) = torch.Size([8, 3, 128, 128]), input2_size (flow?) = torch.Size([8, 2, 128, 128])\n"
     ]
    },
    {
     "name": "stderr",
     "output_type": "stream",
     "text": [
      "Epoch 1/5 - Training:  22%|████████████▎                                          | 25/112 [1:31:02<5:38:08, 233.20s/it]"
     ]
    },
    {
     "name": "stdout",
     "output_type": "stream",
     "text": [
      "Resample2d :  input1_size (img?) = torch.Size([8, 3, 128, 128]), input2_size (flow?) = torch.Size([8, 2, 128, 128])\n"
     ]
    },
    {
     "name": "stderr",
     "output_type": "stream",
     "text": [
      "Epoch 1/5 - Training:  23%|████████████▊                                          | 26/112 [1:35:01<5:36:33, 234.81s/it]"
     ]
    },
    {
     "name": "stdout",
     "output_type": "stream",
     "text": [
      "Resample2d :  input1_size (img?) = torch.Size([8, 3, 128, 128]), input2_size (flow?) = torch.Size([8, 2, 128, 128])\n"
     ]
    },
    {
     "name": "stderr",
     "output_type": "stream",
     "text": [
      "Epoch 1/5 - Training:  24%|█████████████▎                                         | 27/112 [1:38:58<5:33:42, 235.56s/it]"
     ]
    },
    {
     "name": "stdout",
     "output_type": "stream",
     "text": [
      "Resample2d :  input1_size (img?) = torch.Size([8, 3, 128, 128]), input2_size (flow?) = torch.Size([8, 2, 128, 128])\n"
     ]
    },
    {
     "name": "stderr",
     "output_type": "stream",
     "text": [
      "Epoch 1/5 - Training:  25%|█████████████▊                                         | 28/112 [1:42:59<5:31:53, 237.06s/it]"
     ]
    },
    {
     "name": "stdout",
     "output_type": "stream",
     "text": [
      "Resample2d :  input1_size (img?) = torch.Size([8, 3, 128, 128]), input2_size (flow?) = torch.Size([8, 2, 128, 128])\n"
     ]
    },
    {
     "name": "stderr",
     "output_type": "stream",
     "text": [
      "Epoch 1/5 - Training:  26%|██████████████▏                                        | 29/112 [1:46:56<5:27:58, 237.09s/it]"
     ]
    },
    {
     "name": "stdout",
     "output_type": "stream",
     "text": [
      "Resample2d :  input1_size (img?) = torch.Size([8, 3, 128, 128]), input2_size (flow?) = torch.Size([8, 2, 128, 128])\n"
     ]
    },
    {
     "name": "stderr",
     "output_type": "stream",
     "text": [
      "Epoch 1/5 - Training:  27%|██████████████▋                                        | 30/112 [1:50:50<5:22:55, 236.29s/it]"
     ]
    },
    {
     "name": "stdout",
     "output_type": "stream",
     "text": [
      "Resample2d :  input1_size (img?) = torch.Size([8, 3, 128, 128]), input2_size (flow?) = torch.Size([8, 2, 128, 128])\n"
     ]
    },
    {
     "name": "stderr",
     "output_type": "stream",
     "text": [
      "Epoch 1/5 - Training:  28%|███████████████▏                                       | 31/112 [1:54:47<5:19:01, 236.31s/it]"
     ]
    },
    {
     "name": "stdout",
     "output_type": "stream",
     "text": [
      "Resample2d :  input1_size (img?) = torch.Size([8, 3, 128, 128]), input2_size (flow?) = torch.Size([8, 2, 128, 128])\n"
     ]
    },
    {
     "name": "stderr",
     "output_type": "stream",
     "text": [
      "Epoch 1/5 - Training:  29%|███████████████▋                                       | 32/112 [1:58:37<5:12:41, 234.52s/it]"
     ]
    },
    {
     "name": "stdout",
     "output_type": "stream",
     "text": [
      "Resample2d :  input1_size (img?) = torch.Size([8, 3, 128, 128]), input2_size (flow?) = torch.Size([8, 2, 128, 128])\n"
     ]
    },
    {
     "name": "stderr",
     "output_type": "stream",
     "text": [
      "Epoch 1/5 - Training:  29%|████████████████▏                                      | 33/112 [2:02:30<5:08:15, 234.12s/it]"
     ]
    },
    {
     "name": "stdout",
     "output_type": "stream",
     "text": [
      "Resample2d :  input1_size (img?) = torch.Size([8, 3, 128, 128]), input2_size (flow?) = torch.Size([8, 2, 128, 128])\n"
     ]
    },
    {
     "name": "stderr",
     "output_type": "stream",
     "text": [
      "Epoch 1/5 - Training:  30%|████████████████▋                                      | 34/112 [2:06:02<4:55:49, 227.56s/it]"
     ]
    },
    {
     "name": "stdout",
     "output_type": "stream",
     "text": [
      "Resample2d :  input1_size (img?) = torch.Size([8, 3, 128, 128]), input2_size (flow?) = torch.Size([8, 2, 128, 128])\n"
     ]
    },
    {
     "name": "stderr",
     "output_type": "stream",
     "text": [
      "Epoch 1/5 - Training:  31%|█████████████████▏                                     | 35/112 [2:09:34<4:45:56, 222.81s/it]"
     ]
    },
    {
     "name": "stdout",
     "output_type": "stream",
     "text": [
      "Resample2d :  input1_size (img?) = torch.Size([8, 3, 128, 128]), input2_size (flow?) = torch.Size([8, 2, 128, 128])\n"
     ]
    },
    {
     "name": "stderr",
     "output_type": "stream",
     "text": [
      "Epoch 1/5 - Training:  32%|█████████████████▋                                     | 36/112 [2:13:06<4:38:15, 219.67s/it]"
     ]
    },
    {
     "name": "stdout",
     "output_type": "stream",
     "text": [
      "Resample2d :  input1_size (img?) = torch.Size([8, 3, 128, 128]), input2_size (flow?) = torch.Size([8, 2, 128, 128])\n",
      "Resample2d :  input1_size (img?) = torch.Size([8, 3, 128, 128]), input2_size (flow?) = torch.Size([8, 2, 128, 128])\n"
     ]
    },
    {
     "name": "stderr",
     "output_type": "stream",
     "text": [
      "Epoch 1/5 - Training:  34%|██████████████████▋                                    | 38/112 [2:20:10<4:26:01, 215.69s/it]"
     ]
    },
    {
     "name": "stdout",
     "output_type": "stream",
     "text": [
      "Resample2d :  input1_size (img?) = torch.Size([8, 3, 128, 128]), input2_size (flow?) = torch.Size([8, 2, 128, 128])\n"
     ]
    },
    {
     "name": "stderr",
     "output_type": "stream",
     "text": [
      "Epoch 1/5 - Training:  35%|███████████████████▏                                   | 39/112 [2:23:56<4:26:10, 218.77s/it]"
     ]
    },
    {
     "name": "stdout",
     "output_type": "stream",
     "text": [
      "Resample2d :  input1_size (img?) = torch.Size([8, 3, 128, 128]), input2_size (flow?) = torch.Size([8, 2, 128, 128])\n"
     ]
    },
    {
     "name": "stderr",
     "output_type": "stream",
     "text": [
      "Epoch 1/5 - Training:  36%|███████████████████▋                                   | 40/112 [2:29:36<5:06:20, 255.28s/it]"
     ]
    },
    {
     "name": "stdout",
     "output_type": "stream",
     "text": [
      "Resample2d :  input1_size (img?) = torch.Size([8, 3, 128, 128]), input2_size (flow?) = torch.Size([8, 2, 128, 128])\n"
     ]
    },
    {
     "name": "stderr",
     "output_type": "stream",
     "text": [
      "Epoch 1/5 - Training:  37%|████████████████████▏                                  | 41/112 [2:33:51<5:02:00, 255.21s/it]"
     ]
    },
    {
     "name": "stdout",
     "output_type": "stream",
     "text": [
      "Resample2d :  input1_size (img?) = torch.Size([8, 3, 128, 128]), input2_size (flow?) = torch.Size([8, 2, 128, 128])\n"
     ]
    },
    {
     "name": "stderr",
     "output_type": "stream",
     "text": [
      "Epoch 1/5 - Training:  38%|████████████████████▋                                  | 42/112 [2:37:38<4:47:45, 246.65s/it]"
     ]
    },
    {
     "name": "stdout",
     "output_type": "stream",
     "text": [
      "Resample2d :  input1_size (img?) = torch.Size([8, 3, 128, 128]), input2_size (flow?) = torch.Size([8, 2, 128, 128])\n"
     ]
    },
    {
     "name": "stderr",
     "output_type": "stream",
     "text": [
      "Epoch 1/5 - Training:  38%|█████████████████████                                  | 43/112 [2:41:24<4:36:21, 240.31s/it]"
     ]
    },
    {
     "name": "stdout",
     "output_type": "stream",
     "text": [
      "Resample2d :  input1_size (img?) = torch.Size([8, 3, 128, 128]), input2_size (flow?) = torch.Size([8, 2, 128, 128])\n"
     ]
    },
    {
     "name": "stderr",
     "output_type": "stream",
     "text": [
      "Epoch 1/5 - Training:  39%|█████████████████████▌                                 | 44/112 [2:45:15<4:29:24, 237.72s/it]"
     ]
    },
    {
     "name": "stdout",
     "output_type": "stream",
     "text": [
      "Resample2d :  input1_size (img?) = torch.Size([8, 3, 128, 128]), input2_size (flow?) = torch.Size([8, 2, 128, 128])\n"
     ]
    },
    {
     "name": "stderr",
     "output_type": "stream",
     "text": [
      "Epoch 1/5 - Training:  40%|██████████████████████                                 | 45/112 [2:49:08<4:23:41, 236.15s/it]"
     ]
    },
    {
     "name": "stdout",
     "output_type": "stream",
     "text": [
      "Resample2d :  input1_size (img?) = torch.Size([8, 3, 128, 128]), input2_size (flow?) = torch.Size([8, 2, 128, 128])\n"
     ]
    },
    {
     "name": "stderr",
     "output_type": "stream",
     "text": [
      "Epoch 1/5 - Training:  41%|██████████████████████▌                                | 46/112 [2:52:57<4:17:38, 234.21s/it]"
     ]
    },
    {
     "name": "stdout",
     "output_type": "stream",
     "text": [
      "Resample2d :  input1_size (img?) = torch.Size([8, 3, 128, 128]), input2_size (flow?) = torch.Size([8, 2, 128, 128])\n"
     ]
    },
    {
     "name": "stderr",
     "output_type": "stream",
     "text": [
      "Epoch 1/5 - Training:  42%|███████████████████████                                | 47/112 [2:56:40<4:10:03, 230.82s/it]"
     ]
    },
    {
     "name": "stdout",
     "output_type": "stream",
     "text": [
      "Resample2d :  input1_size (img?) = torch.Size([8, 3, 128, 128]), input2_size (flow?) = torch.Size([8, 2, 128, 128])\n"
     ]
    },
    {
     "name": "stderr",
     "output_type": "stream",
     "text": [
      "Epoch 1/5 - Training:  43%|███████████████████████▌                               | 48/112 [3:00:29<4:05:37, 230.27s/it]"
     ]
    },
    {
     "name": "stdout",
     "output_type": "stream",
     "text": [
      "Resample2d :  input1_size (img?) = torch.Size([8, 3, 128, 128]), input2_size (flow?) = torch.Size([8, 2, 128, 128])\n"
     ]
    },
    {
     "name": "stderr",
     "output_type": "stream",
     "text": [
      "Epoch 1/5 - Training:  44%|████████████████████████                               | 49/112 [3:04:17<4:01:05, 229.60s/it]"
     ]
    },
    {
     "name": "stdout",
     "output_type": "stream",
     "text": [
      "Resample2d :  input1_size (img?) = torch.Size([8, 3, 128, 128]), input2_size (flow?) = torch.Size([8, 2, 128, 128])\n"
     ]
    },
    {
     "name": "stderr",
     "output_type": "stream",
     "text": [
      "Epoch 1/5 - Training:  45%|████████████████████████▌                              | 50/112 [3:08:05<3:56:30, 228.87s/it]"
     ]
    },
    {
     "name": "stdout",
     "output_type": "stream",
     "text": [
      "Resample2d :  input1_size (img?) = torch.Size([8, 3, 128, 128]), input2_size (flow?) = torch.Size([8, 2, 128, 128])\n"
     ]
    },
    {
     "name": "stderr",
     "output_type": "stream",
     "text": [
      "Epoch 1/5 - Training:  46%|█████████████████████████                              | 51/112 [3:11:51<3:51:51, 228.05s/it]"
     ]
    },
    {
     "name": "stdout",
     "output_type": "stream",
     "text": [
      "Resample2d :  input1_size (img?) = torch.Size([8, 3, 128, 128]), input2_size (flow?) = torch.Size([8, 2, 128, 128])\n"
     ]
    },
    {
     "name": "stderr",
     "output_type": "stream",
     "text": [
      "Epoch 1/5 - Training:  46%|█████████████████████████▌                             | 52/112 [3:15:34<3:46:44, 226.73s/it]"
     ]
    },
    {
     "name": "stdout",
     "output_type": "stream",
     "text": [
      "Resample2d :  input1_size (img?) = torch.Size([8, 3, 128, 128]), input2_size (flow?) = torch.Size([8, 2, 128, 128])\n"
     ]
    },
    {
     "name": "stderr",
     "output_type": "stream",
     "text": [
      "Epoch 1/5 - Training:  47%|██████████████████████████                             | 53/112 [3:19:26<3:44:30, 228.32s/it]"
     ]
    },
    {
     "name": "stdout",
     "output_type": "stream",
     "text": [
      "Resample2d :  input1_size (img?) = torch.Size([8, 3, 128, 128]), input2_size (flow?) = torch.Size([8, 2, 128, 128])\n"
     ]
    },
    {
     "name": "stderr",
     "output_type": "stream",
     "text": [
      "Epoch 1/5 - Training:  48%|██████████████████████████▌                            | 54/112 [3:23:18<3:41:44, 229.39s/it]"
     ]
    },
    {
     "name": "stdout",
     "output_type": "stream",
     "text": [
      "Resample2d :  input1_size (img?) = torch.Size([8, 3, 128, 128]), input2_size (flow?) = torch.Size([8, 2, 128, 128])\n"
     ]
    },
    {
     "name": "stderr",
     "output_type": "stream",
     "text": [
      "Epoch 1/5 - Training:  49%|███████████████████████████                            | 55/112 [3:27:10<3:38:39, 230.16s/it]"
     ]
    },
    {
     "name": "stdout",
     "output_type": "stream",
     "text": [
      "Resample2d :  input1_size (img?) = torch.Size([8, 3, 128, 128]), input2_size (flow?) = torch.Size([8, 2, 128, 128])\n"
     ]
    },
    {
     "name": "stderr",
     "output_type": "stream",
     "text": [
      "Epoch 1/5 - Training:  50%|███████████████████████████▌                           | 56/112 [3:31:05<3:36:06, 231.55s/it]"
     ]
    },
    {
     "name": "stdout",
     "output_type": "stream",
     "text": [
      "Resample2d :  input1_size (img?) = torch.Size([8, 3, 128, 128]), input2_size (flow?) = torch.Size([8, 2, 128, 128])\n"
     ]
    },
    {
     "name": "stderr",
     "output_type": "stream",
     "text": [
      "Epoch 1/5 - Training:  51%|███████████████████████████▉                           | 57/112 [3:34:56<3:32:03, 231.33s/it]"
     ]
    },
    {
     "name": "stdout",
     "output_type": "stream",
     "text": [
      "Resample2d :  input1_size (img?) = torch.Size([8, 3, 128, 128]), input2_size (flow?) = torch.Size([8, 2, 128, 128])\n"
     ]
    },
    {
     "name": "stderr",
     "output_type": "stream",
     "text": [
      "Epoch 1/5 - Training:  52%|████████████████████████████▍                          | 58/112 [3:38:49<3:28:47, 231.98s/it]"
     ]
    },
    {
     "name": "stdout",
     "output_type": "stream",
     "text": [
      "Resample2d :  input1_size (img?) = torch.Size([8, 3, 128, 128]), input2_size (flow?) = torch.Size([8, 2, 128, 128])\n"
     ]
    },
    {
     "name": "stderr",
     "output_type": "stream",
     "text": [
      "Epoch 1/5 - Training:  53%|████████████████████████████▉                          | 59/112 [3:42:35<3:23:17, 230.15s/it]"
     ]
    },
    {
     "name": "stdout",
     "output_type": "stream",
     "text": [
      "Resample2d :  input1_size (img?) = torch.Size([8, 3, 128, 128]), input2_size (flow?) = torch.Size([8, 2, 128, 128])\n"
     ]
    },
    {
     "name": "stderr",
     "output_type": "stream",
     "text": [
      "Epoch 1/5 - Training:  54%|█████████████████████████████▍                         | 60/112 [3:46:27<3:19:49, 230.57s/it]"
     ]
    },
    {
     "name": "stdout",
     "output_type": "stream",
     "text": [
      "Resample2d :  input1_size (img?) = torch.Size([8, 3, 128, 128]), input2_size (flow?) = torch.Size([8, 2, 128, 128])\n"
     ]
    },
    {
     "name": "stderr",
     "output_type": "stream",
     "text": [
      "Epoch 1/5 - Training:  54%|█████████████████████████████▉                         | 61/112 [3:50:17<3:15:47, 230.35s/it]"
     ]
    },
    {
     "name": "stdout",
     "output_type": "stream",
     "text": [
      "Resample2d :  input1_size (img?) = torch.Size([8, 3, 128, 128]), input2_size (flow?) = torch.Size([8, 2, 128, 128])\n"
     ]
    },
    {
     "name": "stderr",
     "output_type": "stream",
     "text": [
      "Epoch 1/5 - Training:  55%|██████████████████████████████▍                        | 62/112 [3:54:06<3:11:42, 230.04s/it]"
     ]
    },
    {
     "name": "stdout",
     "output_type": "stream",
     "text": [
      "Resample2d :  input1_size (img?) = torch.Size([8, 3, 128, 128]), input2_size (flow?) = torch.Size([8, 2, 128, 128])\n"
     ]
    },
    {
     "name": "stderr",
     "output_type": "stream",
     "text": [
      "Epoch 1/5 - Training:  56%|██████████████████████████████▉                        | 63/112 [3:57:57<3:08:06, 230.33s/it]"
     ]
    },
    {
     "name": "stdout",
     "output_type": "stream",
     "text": [
      "Resample2d :  input1_size (img?) = torch.Size([8, 3, 128, 128]), input2_size (flow?) = torch.Size([8, 2, 128, 128])\n"
     ]
    },
    {
     "name": "stderr",
     "output_type": "stream",
     "text": [
      "Epoch 1/5 - Training:  57%|███████████████████████████████▍                       | 64/112 [4:01:46<3:03:59, 229.98s/it]"
     ]
    },
    {
     "name": "stdout",
     "output_type": "stream",
     "text": [
      "Resample2d :  input1_size (img?) = torch.Size([8, 3, 128, 128]), input2_size (flow?) = torch.Size([8, 2, 128, 128])\n"
     ]
    },
    {
     "name": "stderr",
     "output_type": "stream",
     "text": [
      "Epoch 1/5 - Training:  58%|███████████████████████████████▉                       | 65/112 [4:05:37<3:00:21, 230.24s/it]"
     ]
    },
    {
     "name": "stdout",
     "output_type": "stream",
     "text": [
      "Resample2d :  input1_size (img?) = torch.Size([8, 3, 128, 128]), input2_size (flow?) = torch.Size([8, 2, 128, 128])\n"
     ]
    },
    {
     "name": "stderr",
     "output_type": "stream",
     "text": [
      "Epoch 1/5 - Training:  59%|████████████████████████████████▍                      | 66/112 [4:09:32<2:57:31, 231.56s/it]"
     ]
    },
    {
     "name": "stdout",
     "output_type": "stream",
     "text": [
      "Resample2d :  input1_size (img?) = torch.Size([8, 3, 128, 128]), input2_size (flow?) = torch.Size([8, 2, 128, 128])\n"
     ]
    },
    {
     "name": "stderr",
     "output_type": "stream",
     "text": [
      "Epoch 1/5 - Training:  60%|████████████████████████████████▉                      | 67/112 [4:13:33<2:55:52, 234.50s/it]"
     ]
    },
    {
     "name": "stdout",
     "output_type": "stream",
     "text": [
      "Resample2d :  input1_size (img?) = torch.Size([8, 3, 128, 128]), input2_size (flow?) = torch.Size([8, 2, 128, 128])\n"
     ]
    },
    {
     "name": "stderr",
     "output_type": "stream",
     "text": [
      "Epoch 1/5 - Training:  61%|█████████████████████████████████▍                     | 68/112 [4:17:35<2:53:35, 236.73s/it]"
     ]
    },
    {
     "name": "stdout",
     "output_type": "stream",
     "text": [
      "Resample2d :  input1_size (img?) = torch.Size([8, 3, 128, 128]), input2_size (flow?) = torch.Size([8, 2, 128, 128])\n"
     ]
    },
    {
     "name": "stderr",
     "output_type": "stream",
     "text": [
      "Epoch 1/5 - Training:  62%|█████████████████████████████████▉                     | 69/112 [4:21:38<2:51:06, 238.76s/it]"
     ]
    },
    {
     "name": "stdout",
     "output_type": "stream",
     "text": [
      "Resample2d :  input1_size (img?) = torch.Size([8, 3, 128, 128]), input2_size (flow?) = torch.Size([8, 2, 128, 128])\n"
     ]
    },
    {
     "name": "stderr",
     "output_type": "stream",
     "text": [
      "Epoch 1/5 - Training:  62%|██████████████████████████████████▍                    | 70/112 [4:25:11<2:41:41, 230.98s/it]"
     ]
    },
    {
     "name": "stdout",
     "output_type": "stream",
     "text": [
      "Resample2d :  input1_size (img?) = torch.Size([8, 3, 128, 128]), input2_size (flow?) = torch.Size([8, 2, 128, 128])\n"
     ]
    },
    {
     "name": "stderr",
     "output_type": "stream",
     "text": [
      "Epoch 1/5 - Training:  63%|██████████████████████████████████▊                    | 71/112 [4:28:53<2:35:57, 228.24s/it]"
     ]
    },
    {
     "name": "stdout",
     "output_type": "stream",
     "text": [
      "Resample2d :  input1_size (img?) = torch.Size([8, 3, 128, 128]), input2_size (flow?) = torch.Size([8, 2, 128, 128])\n"
     ]
    },
    {
     "name": "stderr",
     "output_type": "stream",
     "text": [
      "Epoch 1/5 - Training:  64%|███████████████████████████████████▎                   | 72/112 [4:32:40<2:31:59, 227.98s/it]"
     ]
    },
    {
     "name": "stdout",
     "output_type": "stream",
     "text": [
      "Resample2d :  input1_size (img?) = torch.Size([8, 3, 128, 128]), input2_size (flow?) = torch.Size([8, 2, 128, 128])\n"
     ]
    },
    {
     "name": "stderr",
     "output_type": "stream",
     "text": [
      "Epoch 1/5 - Training:  65%|███████████████████████████████████▊                   | 73/112 [4:36:28<2:28:04, 227.80s/it]"
     ]
    },
    {
     "name": "stdout",
     "output_type": "stream",
     "text": [
      "Resample2d :  input1_size (img?) = torch.Size([8, 3, 128, 128]), input2_size (flow?) = torch.Size([8, 2, 128, 128])\n"
     ]
    },
    {
     "name": "stderr",
     "output_type": "stream",
     "text": [
      "Epoch 1/5 - Training:  66%|████████████████████████████████████▎                  | 74/112 [4:40:18<2:24:39, 228.41s/it]"
     ]
    },
    {
     "name": "stdout",
     "output_type": "stream",
     "text": [
      "Resample2d :  input1_size (img?) = torch.Size([8, 3, 128, 128]), input2_size (flow?) = torch.Size([8, 2, 128, 128])\n"
     ]
    },
    {
     "name": "stderr",
     "output_type": "stream",
     "text": [
      "Epoch 1/5 - Training:  67%|████████████████████████████████████▊                  | 75/112 [4:44:06<2:20:45, 228.26s/it]"
     ]
    },
    {
     "name": "stdout",
     "output_type": "stream",
     "text": [
      "Resample2d :  input1_size (img?) = torch.Size([8, 3, 128, 128]), input2_size (flow?) = torch.Size([8, 2, 128, 128])\n"
     ]
    },
    {
     "name": "stderr",
     "output_type": "stream",
     "text": [
      "Epoch 1/5 - Training:  68%|█████████████████████████████████████▎                 | 76/112 [4:47:52<2:16:39, 227.77s/it]"
     ]
    },
    {
     "name": "stdout",
     "output_type": "stream",
     "text": [
      "Resample2d :  input1_size (img?) = torch.Size([8, 3, 128, 128]), input2_size (flow?) = torch.Size([8, 2, 128, 128])\n"
     ]
    },
    {
     "name": "stderr",
     "output_type": "stream",
     "text": [
      "Epoch 1/5 - Training:  69%|█████████████████████████████████████▊                 | 77/112 [4:51:37<2:12:24, 226.99s/it]"
     ]
    },
    {
     "name": "stdout",
     "output_type": "stream",
     "text": [
      "Resample2d :  input1_size (img?) = torch.Size([8, 3, 128, 128]), input2_size (flow?) = torch.Size([8, 2, 128, 128])\n"
     ]
    },
    {
     "name": "stderr",
     "output_type": "stream",
     "text": [
      "Epoch 1/5 - Training:  70%|██████████████████████████████████████▎                | 78/112 [4:55:20<2:07:57, 225.81s/it]"
     ]
    },
    {
     "name": "stdout",
     "output_type": "stream",
     "text": [
      "Resample2d :  input1_size (img?) = torch.Size([8, 3, 128, 128]), input2_size (flow?) = torch.Size([8, 2, 128, 128])\n"
     ]
    },
    {
     "name": "stderr",
     "output_type": "stream",
     "text": [
      "Epoch 1/5 - Training:  71%|██████████████████████████████████████▊                | 79/112 [4:58:54<2:02:11, 222.16s/it]"
     ]
    },
    {
     "name": "stdout",
     "output_type": "stream",
     "text": [
      "Resample2d :  input1_size (img?) = torch.Size([8, 3, 128, 128]), input2_size (flow?) = torch.Size([8, 2, 128, 128])\n"
     ]
    },
    {
     "name": "stderr",
     "output_type": "stream",
     "text": [
      "Epoch 1/5 - Training:  71%|███████████████████████████████████████▎               | 80/112 [5:02:24<1:56:35, 218.60s/it]"
     ]
    },
    {
     "name": "stdout",
     "output_type": "stream",
     "text": [
      "Resample2d :  input1_size (img?) = torch.Size([8, 3, 128, 128]), input2_size (flow?) = torch.Size([8, 2, 128, 128])\n"
     ]
    },
    {
     "name": "stderr",
     "output_type": "stream",
     "text": [
      "Epoch 1/5 - Training:  72%|███████████████████████████████████████▊               | 81/112 [5:05:55<1:51:39, 216.13s/it]"
     ]
    },
    {
     "name": "stdout",
     "output_type": "stream",
     "text": [
      "Resample2d :  input1_size (img?) = torch.Size([8, 3, 128, 128]), input2_size (flow?) = torch.Size([8, 2, 128, 128])\n"
     ]
    },
    {
     "name": "stderr",
     "output_type": "stream",
     "text": [
      "Epoch 1/5 - Training:  73%|████████████████████████████████████████▎              | 82/112 [5:09:25<1:47:09, 214.33s/it]"
     ]
    },
    {
     "name": "stdout",
     "output_type": "stream",
     "text": [
      "Resample2d :  input1_size (img?) = torch.Size([8, 3, 128, 128]), input2_size (flow?) = torch.Size([8, 2, 128, 128])\n"
     ]
    },
    {
     "name": "stderr",
     "output_type": "stream",
     "text": [
      "Epoch 1/5 - Training:  74%|████████████████████████████████████████▊              | 83/112 [5:12:55<1:42:59, 213.07s/it]"
     ]
    },
    {
     "name": "stdout",
     "output_type": "stream",
     "text": [
      "Resample2d :  input1_size (img?) = torch.Size([8, 3, 128, 128]), input2_size (flow?) = torch.Size([8, 2, 128, 128])\n"
     ]
    },
    {
     "name": "stderr",
     "output_type": "stream",
     "text": [
      "Epoch 1/5 - Training:  75%|█████████████████████████████████████████▎             | 84/112 [5:16:27<1:39:21, 212.90s/it]"
     ]
    },
    {
     "name": "stdout",
     "output_type": "stream",
     "text": [
      "Resample2d :  input1_size (img?) = torch.Size([8, 3, 128, 128]), input2_size (flow?) = torch.Size([8, 2, 128, 128])\n"
     ]
    },
    {
     "name": "stderr",
     "output_type": "stream",
     "text": [
      "Epoch 1/5 - Training:  76%|█████████████████████████████████████████▋             | 85/112 [5:19:58<1:35:27, 212.13s/it]"
     ]
    },
    {
     "name": "stdout",
     "output_type": "stream",
     "text": [
      "Resample2d :  input1_size (img?) = torch.Size([8, 3, 128, 128]), input2_size (flow?) = torch.Size([8, 2, 128, 128])\n"
     ]
    },
    {
     "name": "stderr",
     "output_type": "stream",
     "text": [
      "Epoch 1/5 - Training:  77%|██████████████████████████████████████████▏            | 86/112 [5:23:30<1:31:56, 212.18s/it]"
     ]
    },
    {
     "name": "stdout",
     "output_type": "stream",
     "text": [
      "Resample2d :  input1_size (img?) = torch.Size([8, 3, 128, 128]), input2_size (flow?) = torch.Size([8, 2, 128, 128])\n"
     ]
    },
    {
     "name": "stderr",
     "output_type": "stream",
     "text": [
      "Epoch 1/5 - Training:  78%|██████████████████████████████████████████▋            | 87/112 [5:27:01<1:28:18, 211.92s/it]"
     ]
    },
    {
     "name": "stdout",
     "output_type": "stream",
     "text": [
      "Resample2d :  input1_size (img?) = torch.Size([8, 3, 128, 128]), input2_size (flow?) = torch.Size([8, 2, 128, 128])\n"
     ]
    },
    {
     "name": "stderr",
     "output_type": "stream",
     "text": [
      "Epoch 1/5 - Training:  79%|███████████████████████████████████████████▏           | 88/112 [5:30:32<1:24:38, 211.60s/it]"
     ]
    },
    {
     "name": "stdout",
     "output_type": "stream",
     "text": [
      "Resample2d :  input1_size (img?) = torch.Size([8, 3, 128, 128]), input2_size (flow?) = torch.Size([8, 2, 128, 128])\n"
     ]
    },
    {
     "name": "stderr",
     "output_type": "stream",
     "text": [
      "Epoch 1/5 - Training:  79%|███████████████████████████████████████████▋           | 89/112 [5:34:02<1:20:52, 210.99s/it]"
     ]
    },
    {
     "name": "stdout",
     "output_type": "stream",
     "text": [
      "Resample2d :  input1_size (img?) = torch.Size([8, 3, 128, 128]), input2_size (flow?) = torch.Size([8, 2, 128, 128])\n"
     ]
    },
    {
     "name": "stderr",
     "output_type": "stream",
     "text": [
      "Epoch 1/5 - Training:  80%|████████████████████████████████████████████▏          | 90/112 [5:37:37<1:17:52, 212.39s/it]"
     ]
    },
    {
     "name": "stdout",
     "output_type": "stream",
     "text": [
      "Resample2d :  input1_size (img?) = torch.Size([8, 3, 128, 128]), input2_size (flow?) = torch.Size([8, 2, 128, 128])\n"
     ]
    },
    {
     "name": "stderr",
     "output_type": "stream",
     "text": [
      "Epoch 1/5 - Training:  81%|████████████████████████████████████████████▋          | 91/112 [5:41:10<1:14:21, 212.43s/it]"
     ]
    },
    {
     "name": "stdout",
     "output_type": "stream",
     "text": [
      "Resample2d :  input1_size (img?) = torch.Size([8, 3, 128, 128]), input2_size (flow?) = torch.Size([8, 2, 128, 128])\n"
     ]
    },
    {
     "name": "stderr",
     "output_type": "stream",
     "text": [
      "Epoch 1/5 - Training:  82%|█████████████████████████████████████████████▏         | 92/112 [5:44:48<1:11:20, 214.00s/it]"
     ]
    },
    {
     "name": "stdout",
     "output_type": "stream",
     "text": [
      "Resample2d :  input1_size (img?) = torch.Size([8, 3, 128, 128]), input2_size (flow?) = torch.Size([8, 2, 128, 128])\n"
     ]
    },
    {
     "name": "stderr",
     "output_type": "stream",
     "text": [
      "Epoch 1/5 - Training:  83%|█████████████████████████████████████████████▋         | 93/112 [5:48:26<1:08:08, 215.17s/it]"
     ]
    },
    {
     "name": "stdout",
     "output_type": "stream",
     "text": [
      "Resample2d :  input1_size (img?) = torch.Size([8, 3, 128, 128]), input2_size (flow?) = torch.Size([8, 2, 128, 128])\n"
     ]
    },
    {
     "name": "stderr",
     "output_type": "stream",
     "text": [
      "Epoch 1/5 - Training:  84%|██████████████████████████████████████████████▏        | 94/112 [5:52:02<1:04:42, 215.69s/it]"
     ]
    },
    {
     "name": "stdout",
     "output_type": "stream",
     "text": [
      "Resample2d :  input1_size (img?) = torch.Size([8, 3, 128, 128]), input2_size (flow?) = torch.Size([8, 2, 128, 128])\n"
     ]
    },
    {
     "name": "stderr",
     "output_type": "stream",
     "text": [
      "Epoch 1/5 - Training:  85%|██████████████████████████████████████████████▋        | 95/112 [5:55:38<1:01:06, 215.65s/it]"
     ]
    },
    {
     "name": "stdout",
     "output_type": "stream",
     "text": [
      "Resample2d :  input1_size (img?) = torch.Size([8, 3, 128, 128]), input2_size (flow?) = torch.Size([8, 2, 128, 128])\n"
     ]
    },
    {
     "name": "stderr",
     "output_type": "stream",
     "text": [
      "Epoch 1/5 - Training:  86%|████████████████████████████████████████████████▊        | 96/112 [5:59:17<57:45, 216.59s/it]"
     ]
    },
    {
     "name": "stdout",
     "output_type": "stream",
     "text": [
      "Resample2d :  input1_size (img?) = torch.Size([8, 3, 128, 128]), input2_size (flow?) = torch.Size([8, 2, 128, 128])\n"
     ]
    },
    {
     "name": "stderr",
     "output_type": "stream",
     "text": [
      "Epoch 1/5 - Training:  87%|█████████████████████████████████████████████████▎       | 97/112 [6:02:55<54:14, 216.99s/it]"
     ]
    },
    {
     "name": "stdout",
     "output_type": "stream",
     "text": [
      "Resample2d :  input1_size (img?) = torch.Size([8, 3, 128, 128]), input2_size (flow?) = torch.Size([8, 2, 128, 128])\n"
     ]
    },
    {
     "name": "stderr",
     "output_type": "stream",
     "text": [
      "Epoch 1/5 - Training:  88%|█████████████████████████████████████████████████▉       | 98/112 [6:06:31<50:33, 216.70s/it]"
     ]
    },
    {
     "name": "stdout",
     "output_type": "stream",
     "text": [
      "Resample2d :  input1_size (img?) = torch.Size([8, 3, 128, 128]), input2_size (flow?) = torch.Size([8, 2, 128, 128])\n"
     ]
    },
    {
     "name": "stderr",
     "output_type": "stream",
     "text": [
      "Epoch 1/5 - Training:  88%|██████████████████████████████████████████████████▍      | 99/112 [6:10:07<46:55, 216.61s/it]"
     ]
    },
    {
     "name": "stdout",
     "output_type": "stream",
     "text": [
      "Resample2d :  input1_size (img?) = torch.Size([8, 3, 128, 128]), input2_size (flow?) = torch.Size([8, 2, 128, 128])\n"
     ]
    },
    {
     "name": "stderr",
     "output_type": "stream",
     "text": [
      "Epoch 1/5 - Training:  89%|██████████████████████████████████████████████████      | 100/112 [6:13:43<43:16, 216.39s/it]"
     ]
    },
    {
     "name": "stdout",
     "output_type": "stream",
     "text": [
      "Resample2d :  input1_size (img?) = torch.Size([8, 3, 128, 128]), input2_size (flow?) = torch.Size([8, 2, 128, 128])\n"
     ]
    },
    {
     "name": "stderr",
     "output_type": "stream",
     "text": [
      "Epoch 1/5 - Training:  90%|██████████████████████████████████████████████████▌     | 101/112 [6:17:20<39:43, 216.67s/it]"
     ]
    },
    {
     "name": "stdout",
     "output_type": "stream",
     "text": [
      "Resample2d :  input1_size (img?) = torch.Size([8, 3, 128, 128]), input2_size (flow?) = torch.Size([8, 2, 128, 128])\n"
     ]
    },
    {
     "name": "stderr",
     "output_type": "stream",
     "text": [
      "Epoch 1/5 - Training:  91%|███████████████████████████████████████████████████     | 102/112 [6:20:52<35:51, 215.11s/it]"
     ]
    },
    {
     "name": "stdout",
     "output_type": "stream",
     "text": [
      "Resample2d :  input1_size (img?) = torch.Size([8, 3, 128, 128]), input2_size (flow?) = torch.Size([8, 2, 128, 128])\n"
     ]
    },
    {
     "name": "stderr",
     "output_type": "stream",
     "text": [
      "Epoch 1/5 - Training:  92%|███████████████████████████████████████████████████▌    | 103/112 [6:24:27<32:15, 215.01s/it]"
     ]
    },
    {
     "name": "stdout",
     "output_type": "stream",
     "text": [
      "Resample2d :  input1_size (img?) = torch.Size([8, 3, 128, 128]), input2_size (flow?) = torch.Size([8, 2, 128, 128])\n"
     ]
    },
    {
     "name": "stderr",
     "output_type": "stream",
     "text": [
      "Epoch 1/5 - Training:  93%|████████████████████████████████████████████████████    | 104/112 [6:27:58<28:30, 213.86s/it]"
     ]
    },
    {
     "name": "stdout",
     "output_type": "stream",
     "text": [
      "Resample2d :  input1_size (img?) = torch.Size([8, 3, 128, 128]), input2_size (flow?) = torch.Size([8, 2, 128, 128])\n"
     ]
    },
    {
     "name": "stderr",
     "output_type": "stream",
     "text": [
      "Epoch 1/5 - Training:  94%|████████████████████████████████████████████████████▌   | 105/112 [6:31:29<24:52, 213.14s/it]"
     ]
    },
    {
     "name": "stdout",
     "output_type": "stream",
     "text": [
      "Resample2d :  input1_size (img?) = torch.Size([8, 3, 128, 128]), input2_size (flow?) = torch.Size([8, 2, 128, 128])\n"
     ]
    },
    {
     "name": "stderr",
     "output_type": "stream",
     "text": [
      "Epoch 1/5 - Training:  95%|█████████████████████████████████████████████████████   | 106/112 [6:35:03<21:19, 213.21s/it]"
     ]
    },
    {
     "name": "stdout",
     "output_type": "stream",
     "text": [
      "Resample2d :  input1_size (img?) = torch.Size([8, 3, 128, 128]), input2_size (flow?) = torch.Size([8, 2, 128, 128])\n"
     ]
    },
    {
     "name": "stderr",
     "output_type": "stream",
     "text": [
      "Epoch 1/5 - Training:  96%|█████████████████████████████████████████████████████▌  | 107/112 [6:38:35<17:44, 212.99s/it]"
     ]
    },
    {
     "name": "stdout",
     "output_type": "stream",
     "text": [
      "Resample2d :  input1_size (img?) = torch.Size([8, 3, 128, 128]), input2_size (flow?) = torch.Size([8, 2, 128, 128])\n"
     ]
    },
    {
     "name": "stderr",
     "output_type": "stream",
     "text": [
      "Epoch 1/5 - Training:  96%|██████████████████████████████████████████████████████  | 108/112 [6:42:08<14:12, 213.11s/it]"
     ]
    },
    {
     "name": "stdout",
     "output_type": "stream",
     "text": [
      "Resample2d :  input1_size (img?) = torch.Size([8, 3, 128, 128]), input2_size (flow?) = torch.Size([8, 2, 128, 128])\n"
     ]
    },
    {
     "name": "stderr",
     "output_type": "stream",
     "text": [
      "Epoch 1/5 - Training:  97%|██████████████████████████████████████████████████████▌ | 109/112 [6:45:41<10:38, 213.00s/it]"
     ]
    },
    {
     "name": "stdout",
     "output_type": "stream",
     "text": [
      "Resample2d :  input1_size (img?) = torch.Size([8, 3, 128, 128]), input2_size (flow?) = torch.Size([8, 2, 128, 128])\n"
     ]
    },
    {
     "name": "stderr",
     "output_type": "stream",
     "text": [
      "Epoch 1/5 - Training:  98%|███████████████████████████████████████████████████████ | 110/112 [6:49:12<07:04, 212.34s/it]"
     ]
    },
    {
     "name": "stdout",
     "output_type": "stream",
     "text": [
      "Resample2d :  input1_size (img?) = torch.Size([8, 3, 128, 128]), input2_size (flow?) = torch.Size([8, 2, 128, 128])\n"
     ]
    },
    {
     "name": "stderr",
     "output_type": "stream",
     "text": [
      "Epoch 1/5 - Training:  99%|███████████████████████████████████████████████████████▌| 111/112 [6:52:42<03:31, 211.70s/it]"
     ]
    },
    {
     "name": "stdout",
     "output_type": "stream",
     "text": [
      "Resample2d :  input1_size (img?) = torch.Size([8, 3, 128, 128]), input2_size (flow?) = torch.Size([8, 2, 128, 128])\n"
     ]
    },
    {
     "name": "stderr",
     "output_type": "stream",
     "text": [
      "                                                                                                                        \r"
     ]
    },
    {
     "name": "stdout",
     "output_type": "stream",
     "text": [
      "Resample2d :  input1_size (img?) = torch.Size([8, 3, 128, 128]), input2_size (flow?) = torch.Size([8, 2, 128, 128])\n"
     ]
    },
    {
     "name": "stderr",
     "output_type": "stream",
     "text": [
      "Epoch 1/5 - Validation:   9%|█████▎                                                     | 1/11 [03:30<35:04, 210.44s/it]"
     ]
    },
    {
     "name": "stdout",
     "output_type": "stream",
     "text": [
      "Resample2d :  input1_size (img?) = torch.Size([8, 3, 128, 128]), input2_size (flow?) = torch.Size([8, 2, 128, 128])\n"
     ]
    },
    {
     "name": "stderr",
     "output_type": "stream",
     "text": [
      "Epoch 1/5 - Validation:  18%|██████████▋                                                | 2/11 [07:04<31:54, 212.68s/it]"
     ]
    },
    {
     "name": "stdout",
     "output_type": "stream",
     "text": [
      "Resample2d :  input1_size (img?) = torch.Size([8, 3, 128, 128]), input2_size (flow?) = torch.Size([8, 2, 128, 128])\n"
     ]
    },
    {
     "name": "stderr",
     "output_type": "stream",
     "text": [
      "Epoch 1/5 - Validation:  27%|████████████████                                           | 3/11 [10:39<28:28, 213.61s/it]"
     ]
    },
    {
     "name": "stdout",
     "output_type": "stream",
     "text": [
      "Resample2d :  input1_size (img?) = torch.Size([8, 3, 128, 128]), input2_size (flow?) = torch.Size([8, 2, 128, 128])\n"
     ]
    },
    {
     "name": "stderr",
     "output_type": "stream",
     "text": [
      "Epoch 1/5 - Validation:  36%|█████████████████████▍                                     | 4/11 [14:14<24:58, 214.06s/it]"
     ]
    },
    {
     "name": "stdout",
     "output_type": "stream",
     "text": [
      "Resample2d :  input1_size (img?) = torch.Size([8, 3, 128, 128]), input2_size (flow?) = torch.Size([8, 2, 128, 128])\n"
     ]
    },
    {
     "name": "stderr",
     "output_type": "stream",
     "text": [
      "Epoch 1/5 - Validation:  45%|██████████████████████████▊                                | 5/11 [17:48<21:24, 214.11s/it]"
     ]
    },
    {
     "name": "stdout",
     "output_type": "stream",
     "text": [
      "Resample2d :  input1_size (img?) = torch.Size([8, 3, 128, 128]), input2_size (flow?) = torch.Size([8, 2, 128, 128])\n"
     ]
    },
    {
     "name": "stderr",
     "output_type": "stream",
     "text": [
      "Epoch 1/5 - Validation:  55%|████████████████████████████████▏                          | 6/11 [21:24<17:54, 214.81s/it]"
     ]
    },
    {
     "name": "stdout",
     "output_type": "stream",
     "text": [
      "Resample2d :  input1_size (img?) = torch.Size([8, 3, 128, 128]), input2_size (flow?) = torch.Size([8, 2, 128, 128])\n"
     ]
    },
    {
     "name": "stderr",
     "output_type": "stream",
     "text": [
      "Epoch 1/5 - Validation:  64%|█████████████████████████████████████▌                     | 7/11 [25:00<14:20, 215.17s/it]"
     ]
    },
    {
     "name": "stdout",
     "output_type": "stream",
     "text": [
      "Resample2d :  input1_size (img?) = torch.Size([8, 3, 128, 128]), input2_size (flow?) = torch.Size([8, 2, 128, 128])\n"
     ]
    },
    {
     "name": "stderr",
     "output_type": "stream",
     "text": [
      "Epoch 1/5 - Validation:  73%|██████████████████████████████████████████▉                | 8/11 [28:34<10:44, 214.91s/it]"
     ]
    },
    {
     "name": "stdout",
     "output_type": "stream",
     "text": [
      "Resample2d :  input1_size (img?) = torch.Size([8, 3, 128, 128]), input2_size (flow?) = torch.Size([8, 2, 128, 128])\n"
     ]
    },
    {
     "name": "stderr",
     "output_type": "stream",
     "text": [
      "Epoch 1/5 - Validation:  82%|████████████████████████████████████████████████▎          | 9/11 [32:13<07:11, 215.96s/it]"
     ]
    },
    {
     "name": "stdout",
     "output_type": "stream",
     "text": [
      "Resample2d :  input1_size (img?) = torch.Size([8, 3, 128, 128]), input2_size (flow?) = torch.Size([8, 2, 128, 128])\n"
     ]
    },
    {
     "name": "stderr",
     "output_type": "stream",
     "text": [
      "Epoch 1/5 - Validation:  91%|████████████████████████████████████████████████████▋     | 10/11 [35:44<03:34, 214.65s/it]"
     ]
    },
    {
     "name": "stdout",
     "output_type": "stream",
     "text": [
      "Resample2d :  input1_size (img?) = torch.Size([8, 3, 128, 128]), input2_size (flow?) = torch.Size([8, 2, 128, 128])\n"
     ]
    },
    {
     "name": "stderr",
     "output_type": "stream",
     "text": [
      "                                                                                                                        \r"
     ]
    },
    {
     "name": "stdout",
     "output_type": "stream",
     "text": [
      "Resample2d :  input1_size (img?) = torch.Size([8, 3, 128, 128]), input2_size (flow?) = torch.Size([8, 2, 128, 128])\n",
      "Epoch 1/5, Train Loss: nan, Validation Loss: nan\n"
     ]
    },
    {
     "name": "stderr",
     "output_type": "stream",
     "text": [
      "Epoch 2/5 - Training:   1%|▌                                                         | 1/112 [03:33<6:34:39, 213.33s/it]"
     ]
    },
    {
     "name": "stdout",
     "output_type": "stream",
     "text": [
      "Resample2d :  input1_size (img?) = torch.Size([8, 3, 128, 128]), input2_size (flow?) = torch.Size([8, 2, 128, 128])\n"
     ]
    },
    {
     "name": "stderr",
     "output_type": "stream",
     "text": [
      "Epoch 2/5 - Training:   2%|█                                                         | 2/112 [07:05<6:30:00, 212.73s/it]"
     ]
    },
    {
     "name": "stdout",
     "output_type": "stream",
     "text": [
      "Resample2d :  input1_size (img?) = torch.Size([8, 3, 128, 128]), input2_size (flow?) = torch.Size([8, 2, 128, 128])\n"
     ]
    },
    {
     "name": "stderr",
     "output_type": "stream",
     "text": [
      "Epoch 2/5 - Training:   3%|█▌                                                        | 3/112 [10:41<6:29:23, 214.34s/it]"
     ]
    },
    {
     "name": "stdout",
     "output_type": "stream",
     "text": [
      "Resample2d :  input1_size (img?) = torch.Size([8, 3, 128, 128]), input2_size (flow?) = torch.Size([8, 2, 128, 128])\n"
     ]
    },
    {
     "name": "stderr",
     "output_type": "stream",
     "text": [
      "Epoch 2/5 - Training:   4%|██                                                        | 4/112 [14:17<6:26:52, 214.93s/it]"
     ]
    },
    {
     "name": "stdout",
     "output_type": "stream",
     "text": [
      "Resample2d :  input1_size (img?) = torch.Size([8, 3, 128, 128]), input2_size (flow?) = torch.Size([8, 2, 128, 128])\n"
     ]
    },
    {
     "name": "stderr",
     "output_type": "stream",
     "text": [
      "Epoch 2/5 - Training:   4%|██▌                                                       | 5/112 [17:53<6:23:58, 215.31s/it]"
     ]
    },
    {
     "name": "stdout",
     "output_type": "stream",
     "text": [
      "Resample2d :  input1_size (img?) = torch.Size([8, 3, 128, 128]), input2_size (flow?) = torch.Size([8, 2, 128, 128])\n"
     ]
    },
    {
     "name": "stderr",
     "output_type": "stream",
     "text": [
      "Epoch 2/5 - Training:   5%|███                                                       | 6/112 [21:29<6:20:30, 215.39s/it]"
     ]
    },
    {
     "name": "stdout",
     "output_type": "stream",
     "text": [
      "Resample2d :  input1_size (img?) = torch.Size([8, 3, 128, 128]), input2_size (flow?) = torch.Size([8, 2, 128, 128])\n"
     ]
    },
    {
     "name": "stderr",
     "output_type": "stream",
     "text": [
      "Epoch 2/5 - Training:   6%|███▋                                                      | 7/112 [25:06<6:18:06, 216.06s/it]"
     ]
    },
    {
     "name": "stdout",
     "output_type": "stream",
     "text": [
      "Resample2d :  input1_size (img?) = torch.Size([8, 3, 128, 128]), input2_size (flow?) = torch.Size([8, 2, 128, 128])\n"
     ]
    },
    {
     "name": "stderr",
     "output_type": "stream",
     "text": [
      "Epoch 2/5 - Training:   7%|████▏                                                     | 8/112 [28:41<6:13:44, 215.62s/it]"
     ]
    },
    {
     "name": "stdout",
     "output_type": "stream",
     "text": [
      "Resample2d :  input1_size (img?) = torch.Size([8, 3, 128, 128]), input2_size (flow?) = torch.Size([8, 2, 128, 128])\n"
     ]
    },
    {
     "name": "stderr",
     "output_type": "stream",
     "text": [
      "Epoch 2/5 - Training:   8%|████▋                                                     | 9/112 [32:18<6:11:12, 216.24s/it]"
     ]
    },
    {
     "name": "stdout",
     "output_type": "stream",
     "text": [
      "Resample2d :  input1_size (img?) = torch.Size([8, 3, 128, 128]), input2_size (flow?) = torch.Size([8, 2, 128, 128])\n"
     ]
    },
    {
     "name": "stderr",
     "output_type": "stream",
     "text": [
      "Epoch 2/5 - Training:   9%|█████                                                    | 10/112 [35:56<6:08:13, 216.60s/it]"
     ]
    },
    {
     "name": "stdout",
     "output_type": "stream",
     "text": [
      "Resample2d :  input1_size (img?) = torch.Size([8, 3, 128, 128]), input2_size (flow?) = torch.Size([8, 2, 128, 128])\n"
     ]
    },
    {
     "name": "stderr",
     "output_type": "stream",
     "text": [
      "Epoch 2/5 - Training:  10%|█████▌                                                   | 11/112 [39:37<6:07:03, 218.06s/it]"
     ]
    },
    {
     "name": "stdout",
     "output_type": "stream",
     "text": [
      "Resample2d :  input1_size (img?) = torch.Size([8, 3, 128, 128]), input2_size (flow?) = torch.Size([8, 2, 128, 128])\n"
     ]
    },
    {
     "name": "stderr",
     "output_type": "stream",
     "text": [
      "Epoch 2/5 - Training:  11%|██████                                                   | 12/112 [43:17<6:04:13, 218.54s/it]"
     ]
    },
    {
     "name": "stdout",
     "output_type": "stream",
     "text": [
      "Resample2d :  input1_size (img?) = torch.Size([8, 3, 128, 128]), input2_size (flow?) = torch.Size([8, 2, 128, 128])\n"
     ]
    },
    {
     "name": "stderr",
     "output_type": "stream",
     "text": [
      "Epoch 2/5 - Training:  12%|██████▌                                                  | 13/112 [46:54<5:59:43, 218.01s/it]"
     ]
    },
    {
     "name": "stdout",
     "output_type": "stream",
     "text": [
      "Resample2d :  input1_size (img?) = torch.Size([8, 3, 128, 128]), input2_size (flow?) = torch.Size([8, 2, 128, 128])\n"
     ]
    },
    {
     "name": "stderr",
     "output_type": "stream",
     "text": [
      "Epoch 2/5 - Training:  12%|███████▏                                                 | 14/112 [50:31<5:55:35, 217.71s/it]"
     ]
    },
    {
     "name": "stdout",
     "output_type": "stream",
     "text": [
      "Resample2d :  input1_size (img?) = torch.Size([8, 3, 128, 128]), input2_size (flow?) = torch.Size([8, 2, 128, 128])\n"
     ]
    },
    {
     "name": "stderr",
     "output_type": "stream",
     "text": [
      "Epoch 2/5 - Training:  13%|███████▋                                                 | 15/112 [54:07<5:51:22, 217.35s/it]"
     ]
    },
    {
     "name": "stdout",
     "output_type": "stream",
     "text": [
      "Resample2d :  input1_size (img?) = torch.Size([8, 3, 128, 128]), input2_size (flow?) = torch.Size([8, 2, 128, 128])\n"
     ]
    },
    {
     "name": "stderr",
     "output_type": "stream",
     "text": [
      "Epoch 2/5 - Training:  14%|████████▏                                                | 16/112 [57:43<5:46:54, 216.82s/it]"
     ]
    },
    {
     "name": "stdout",
     "output_type": "stream",
     "text": [
      "Resample2d :  input1_size (img?) = torch.Size([8, 3, 128, 128]), input2_size (flow?) = torch.Size([8, 2, 128, 128])\n"
     ]
    },
    {
     "name": "stderr",
     "output_type": "stream",
     "text": [
      "Epoch 2/5 - Training:  15%|████████▎                                              | 17/112 [1:01:15<5:40:51, 215.28s/it]"
     ]
    },
    {
     "name": "stdout",
     "output_type": "stream",
     "text": [
      "Resample2d :  input1_size (img?) = torch.Size([8, 3, 128, 128]), input2_size (flow?) = torch.Size([8, 2, 128, 128])\n"
     ]
    },
    {
     "name": "stderr",
     "output_type": "stream",
     "text": [
      "Epoch 2/5 - Training:  16%|████████▊                                              | 18/112 [1:04:46<5:35:33, 214.19s/it]"
     ]
    },
    {
     "name": "stdout",
     "output_type": "stream",
     "text": [
      "Resample2d :  input1_size (img?) = torch.Size([8, 3, 128, 128]), input2_size (flow?) = torch.Size([8, 2, 128, 128])\n"
     ]
    },
    {
     "name": "stderr",
     "output_type": "stream",
     "text": [
      "Epoch 2/5 - Training:  17%|█████████▎                                             | 19/112 [1:08:19<5:31:09, 213.65s/it]"
     ]
    },
    {
     "name": "stdout",
     "output_type": "stream",
     "text": [
      "Resample2d :  input1_size (img?) = torch.Size([8, 3, 128, 128]), input2_size (flow?) = torch.Size([8, 2, 128, 128])\n"
     ]
    },
    {
     "name": "stderr",
     "output_type": "stream",
     "text": [
      "Epoch 2/5 - Training:  18%|█████████▊                                             | 20/112 [1:11:56<5:29:13, 214.71s/it]"
     ]
    },
    {
     "name": "stdout",
     "output_type": "stream",
     "text": [
      "Resample2d :  input1_size (img?) = torch.Size([8, 3, 128, 128]), input2_size (flow?) = torch.Size([8, 2, 128, 128])\n"
     ]
    },
    {
     "name": "stderr",
     "output_type": "stream",
     "text": [
      "Epoch 2/5 - Training:  19%|██████████▎                                            | 21/112 [1:15:32<5:26:28, 215.26s/it]"
     ]
    },
    {
     "name": "stdout",
     "output_type": "stream",
     "text": [
      "Resample2d :  input1_size (img?) = torch.Size([8, 3, 128, 128]), input2_size (flow?) = torch.Size([8, 2, 128, 128])\n"
     ]
    },
    {
     "name": "stderr",
     "output_type": "stream",
     "text": [
      "Epoch 2/5 - Training:  20%|██████████▊                                            | 22/112 [1:19:07<5:22:26, 214.97s/it]"
     ]
    },
    {
     "name": "stdout",
     "output_type": "stream",
     "text": [
      "Resample2d :  input1_size (img?) = torch.Size([8, 3, 128, 128]), input2_size (flow?) = torch.Size([8, 2, 128, 128])\n"
     ]
    },
    {
     "name": "stderr",
     "output_type": "stream",
     "text": [
      "Epoch 2/5 - Training:  21%|███████████▎                                           | 23/112 [1:22:45<5:20:22, 215.98s/it]"
     ]
    },
    {
     "name": "stdout",
     "output_type": "stream",
     "text": [
      "Resample2d :  input1_size (img?) = torch.Size([8, 3, 128, 128]), input2_size (flow?) = torch.Size([8, 2, 128, 128])\n"
     ]
    },
    {
     "name": "stderr",
     "output_type": "stream",
     "text": [
      "Epoch 2/5 - Training:  21%|███████████▊                                           | 24/112 [1:26:20<5:16:23, 215.72s/it]"
     ]
    },
    {
     "name": "stdout",
     "output_type": "stream",
     "text": [
      "Resample2d :  input1_size (img?) = torch.Size([8, 3, 128, 128]), input2_size (flow?) = torch.Size([8, 2, 128, 128])\n"
     ]
    },
    {
     "name": "stderr",
     "output_type": "stream",
     "text": [
      "Epoch 2/5 - Training:  22%|████████████▎                                          | 25/112 [1:29:58<5:13:59, 216.55s/it]"
     ]
    },
    {
     "name": "stdout",
     "output_type": "stream",
     "text": [
      "Resample2d :  input1_size (img?) = torch.Size([8, 3, 128, 128]), input2_size (flow?) = torch.Size([8, 2, 128, 128])\n"
     ]
    },
    {
     "name": "stderr",
     "output_type": "stream",
     "text": [
      "Epoch 2/5 - Training:  23%|████████████▊                                          | 26/112 [1:33:37<5:11:01, 216.99s/it]"
     ]
    },
    {
     "name": "stdout",
     "output_type": "stream",
     "text": [
      "Resample2d :  input1_size (img?) = torch.Size([8, 3, 128, 128]), input2_size (flow?) = torch.Size([8, 2, 128, 128])\n"
     ]
    },
    {
     "name": "stderr",
     "output_type": "stream",
     "text": [
      "Epoch 2/5 - Training:  24%|█████████████▎                                         | 27/112 [1:37:13<5:07:24, 216.99s/it]"
     ]
    },
    {
     "name": "stdout",
     "output_type": "stream",
     "text": [
      "Resample2d :  input1_size (img?) = torch.Size([8, 3, 128, 128]), input2_size (flow?) = torch.Size([8, 2, 128, 128])\n"
     ]
    },
    {
     "name": "stderr",
     "output_type": "stream",
     "text": [
      "Epoch 2/5 - Training:  25%|█████████████▊                                         | 28/112 [1:40:48<5:02:47, 216.28s/it]"
     ]
    },
    {
     "name": "stdout",
     "output_type": "stream",
     "text": [
      "Resample2d :  input1_size (img?) = torch.Size([8, 3, 128, 128]), input2_size (flow?) = torch.Size([8, 2, 128, 128])\n"
     ]
    },
    {
     "name": "stderr",
     "output_type": "stream",
     "text": [
      "Epoch 2/5 - Training:  26%|██████████████▏                                        | 29/112 [1:44:25<4:59:35, 216.57s/it]"
     ]
    },
    {
     "name": "stdout",
     "output_type": "stream",
     "text": [
      "Resample2d :  input1_size (img?) = torch.Size([8, 3, 128, 128]), input2_size (flow?) = torch.Size([8, 2, 128, 128])\n"
     ]
    },
    {
     "name": "stderr",
     "output_type": "stream",
     "text": [
      "Epoch 2/5 - Training:  27%|██████████████▋                                        | 30/112 [1:48:02<4:56:05, 216.66s/it]"
     ]
    },
    {
     "name": "stdout",
     "output_type": "stream",
     "text": [
      "Resample2d :  input1_size (img?) = torch.Size([8, 3, 128, 128]), input2_size (flow?) = torch.Size([8, 2, 128, 128])\n"
     ]
    },
    {
     "name": "stderr",
     "output_type": "stream",
     "text": [
      "Epoch 2/5 - Training:  28%|███████████████▏                                       | 31/112 [1:51:41<4:53:19, 217.28s/it]"
     ]
    },
    {
     "name": "stdout",
     "output_type": "stream",
     "text": [
      "Resample2d :  input1_size (img?) = torch.Size([8, 3, 128, 128]), input2_size (flow?) = torch.Size([8, 2, 128, 128])\n"
     ]
    },
    {
     "name": "stderr",
     "output_type": "stream",
     "text": [
      "Epoch 2/5 - Training:  29%|███████████████▋                                       | 32/112 [1:55:16<4:48:50, 216.63s/it]"
     ]
    },
    {
     "name": "stdout",
     "output_type": "stream",
     "text": [
      "Resample2d :  input1_size (img?) = torch.Size([8, 3, 128, 128]), input2_size (flow?) = torch.Size([8, 2, 128, 128])\n"
     ]
    },
    {
     "name": "stderr",
     "output_type": "stream",
     "text": [
      "Epoch 2/5 - Training:  29%|████████████████▏                                      | 33/112 [1:58:48<4:43:34, 215.37s/it]"
     ]
    },
    {
     "name": "stdout",
     "output_type": "stream",
     "text": [
      "Resample2d :  input1_size (img?) = torch.Size([8, 3, 128, 128]), input2_size (flow?) = torch.Size([8, 2, 128, 128])\n"
     ]
    },
    {
     "name": "stderr",
     "output_type": "stream",
     "text": [
      "Epoch 2/5 - Training:  30%|████████████████▋                                      | 34/112 [2:02:23<4:39:42, 215.17s/it]"
     ]
    },
    {
     "name": "stdout",
     "output_type": "stream",
     "text": [
      "Resample2d :  input1_size (img?) = torch.Size([8, 3, 128, 128]), input2_size (flow?) = torch.Size([8, 2, 128, 128])\n"
     ]
    },
    {
     "name": "stderr",
     "output_type": "stream",
     "text": [
      "Epoch 2/5 - Training:  31%|█████████████████▏                                     | 35/112 [2:05:56<4:35:05, 214.36s/it]"
     ]
    },
    {
     "name": "stdout",
     "output_type": "stream",
     "text": [
      "Resample2d :  input1_size (img?) = torch.Size([8, 3, 128, 128]), input2_size (flow?) = torch.Size([8, 2, 128, 128])\n"
     ]
    },
    {
     "name": "stderr",
     "output_type": "stream",
     "text": [
      "Epoch 2/5 - Training:  32%|█████████████████▋                                     | 36/112 [2:09:32<4:32:13, 214.91s/it]"
     ]
    },
    {
     "name": "stdout",
     "output_type": "stream",
     "text": [
      "Resample2d :  input1_size (img?) = torch.Size([8, 3, 128, 128]), input2_size (flow?) = torch.Size([8, 2, 128, 128])\n"
     ]
    },
    {
     "name": "stderr",
     "output_type": "stream",
     "text": [
      "Epoch 2/5 - Training:  33%|██████████████████▏                                    | 37/112 [2:13:07<4:28:45, 215.01s/it]"
     ]
    },
    {
     "name": "stdout",
     "output_type": "stream",
     "text": [
      "Resample2d :  input1_size (img?) = torch.Size([8, 3, 128, 128]), input2_size (flow?) = torch.Size([8, 2, 128, 128])\n"
     ]
    },
    {
     "name": "stderr",
     "output_type": "stream",
     "text": [
      "Epoch 2/5 - Training:  34%|██████████████████▋                                    | 38/112 [2:16:41<4:24:49, 214.72s/it]"
     ]
    },
    {
     "name": "stdout",
     "output_type": "stream",
     "text": [
      "Resample2d :  input1_size (img?) = torch.Size([8, 3, 128, 128]), input2_size (flow?) = torch.Size([8, 2, 128, 128])\n"
     ]
    },
    {
     "name": "stderr",
     "output_type": "stream",
     "text": [
      "Epoch 2/5 - Training:  35%|███████████████████▏                                   | 39/112 [2:20:16<4:21:21, 214.81s/it]"
     ]
    },
    {
     "name": "stdout",
     "output_type": "stream",
     "text": [
      "Resample2d :  input1_size (img?) = torch.Size([8, 3, 128, 128]), input2_size (flow?) = torch.Size([8, 2, 128, 128])\n"
     ]
    },
    {
     "name": "stderr",
     "output_type": "stream",
     "text": [
      "Epoch 2/5 - Training:  36%|███████████████████▋                                   | 40/112 [2:23:53<4:18:29, 215.40s/it]"
     ]
    },
    {
     "name": "stdout",
     "output_type": "stream",
     "text": [
      "Resample2d :  input1_size (img?) = torch.Size([8, 3, 128, 128]), input2_size (flow?) = torch.Size([8, 2, 128, 128])\n"
     ]
    },
    {
     "name": "stderr",
     "output_type": "stream",
     "text": [
      "Epoch 2/5 - Training:  37%|████████████████████▏                                  | 41/112 [2:27:32<4:16:15, 216.55s/it]"
     ]
    },
    {
     "name": "stdout",
     "output_type": "stream",
     "text": [
      "Resample2d :  input1_size (img?) = torch.Size([8, 3, 128, 128]), input2_size (flow?) = torch.Size([8, 2, 128, 128])\n"
     ]
    },
    {
     "name": "stderr",
     "output_type": "stream",
     "text": [
      "Epoch 2/5 - Training:  38%|████████████████████▋                                  | 42/112 [2:31:10<4:13:06, 216.94s/it]"
     ]
    },
    {
     "name": "stdout",
     "output_type": "stream",
     "text": [
      "Resample2d :  input1_size (img?) = torch.Size([8, 3, 128, 128]), input2_size (flow?) = torch.Size([8, 2, 128, 128])\n"
     ]
    },
    {
     "name": "stderr",
     "output_type": "stream",
     "text": [
      "Epoch 2/5 - Training:  38%|█████████████████████                                  | 43/112 [2:34:47<4:09:25, 216.89s/it]"
     ]
    },
    {
     "name": "stdout",
     "output_type": "stream",
     "text": [
      "Resample2d :  input1_size (img?) = torch.Size([8, 3, 128, 128]), input2_size (flow?) = torch.Size([8, 2, 128, 128])\n"
     ]
    },
    {
     "name": "stderr",
     "output_type": "stream",
     "text": [
      "Epoch 2/5 - Training:  39%|█████████████████████▌                                 | 44/112 [2:38:22<4:05:14, 216.39s/it]"
     ]
    },
    {
     "name": "stdout",
     "output_type": "stream",
     "text": [
      "Resample2d :  input1_size (img?) = torch.Size([8, 3, 128, 128]), input2_size (flow?) = torch.Size([8, 2, 128, 128])\n"
     ]
    },
    {
     "name": "stderr",
     "output_type": "stream",
     "text": [
      "Epoch 2/5 - Training:  40%|██████████████████████                                 | 45/112 [2:41:59<4:01:41, 216.43s/it]"
     ]
    },
    {
     "name": "stdout",
     "output_type": "stream",
     "text": [
      "Resample2d :  input1_size (img?) = torch.Size([8, 3, 128, 128]), input2_size (flow?) = torch.Size([8, 2, 128, 128])\n"
     ]
    },
    {
     "name": "stderr",
     "output_type": "stream",
     "text": [
      "Epoch 2/5 - Training:  41%|██████████████████████▌                                | 46/112 [2:45:35<3:58:06, 216.47s/it]"
     ]
    },
    {
     "name": "stdout",
     "output_type": "stream",
     "text": [
      "Resample2d :  input1_size (img?) = torch.Size([8, 3, 128, 128]), input2_size (flow?) = torch.Size([8, 2, 128, 128])\n"
     ]
    },
    {
     "name": "stderr",
     "output_type": "stream",
     "text": [
      "Epoch 2/5 - Training:  42%|███████████████████████                                | 47/112 [2:49:10<3:53:54, 215.91s/it]"
     ]
    },
    {
     "name": "stdout",
     "output_type": "stream",
     "text": [
      "Resample2d :  input1_size (img?) = torch.Size([8, 3, 128, 128]), input2_size (flow?) = torch.Size([8, 2, 128, 128])\n"
     ]
    },
    {
     "name": "stderr",
     "output_type": "stream",
     "text": [
      "Epoch 2/5 - Training:  43%|███████████████████████▌                               | 48/112 [2:52:48<3:50:56, 216.51s/it]"
     ]
    },
    {
     "name": "stdout",
     "output_type": "stream",
     "text": [
      "Resample2d :  input1_size (img?) = torch.Size([8, 3, 128, 128]), input2_size (flow?) = torch.Size([8, 2, 128, 128])\n"
     ]
    },
    {
     "name": "stderr",
     "output_type": "stream",
     "text": [
      "Epoch 2/5 - Training:  44%|████████████████████████                               | 49/112 [2:56:25<3:47:36, 216.77s/it]"
     ]
    },
    {
     "name": "stdout",
     "output_type": "stream",
     "text": [
      "Resample2d :  input1_size (img?) = torch.Size([8, 3, 128, 128]), input2_size (flow?) = torch.Size([8, 2, 128, 128])\n"
     ]
    },
    {
     "name": "stderr",
     "output_type": "stream",
     "text": [
      "Epoch 2/5 - Training:  45%|████████████████████████▌                              | 50/112 [2:59:59<3:43:10, 215.98s/it]"
     ]
    },
    {
     "name": "stdout",
     "output_type": "stream",
     "text": [
      "Resample2d :  input1_size (img?) = torch.Size([8, 3, 128, 128]), input2_size (flow?) = torch.Size([8, 2, 128, 128])\n"
     ]
    },
    {
     "name": "stderr",
     "output_type": "stream",
     "text": [
      "Epoch 2/5 - Training:  46%|█████████████████████████                              | 51/112 [3:03:35<3:39:31, 215.92s/it]"
     ]
    },
    {
     "name": "stdout",
     "output_type": "stream",
     "text": [
      "Resample2d :  input1_size (img?) = torch.Size([8, 3, 128, 128]), input2_size (flow?) = torch.Size([8, 2, 128, 128])\n"
     ]
    },
    {
     "name": "stderr",
     "output_type": "stream",
     "text": [
      "Epoch 2/5 - Training:  46%|█████████████████████████▌                             | 52/112 [3:07:12<3:36:17, 216.29s/it]"
     ]
    },
    {
     "name": "stdout",
     "output_type": "stream",
     "text": [
      "Resample2d :  input1_size (img?) = torch.Size([8, 3, 128, 128]), input2_size (flow?) = torch.Size([8, 2, 128, 128])\n"
     ]
    },
    {
     "name": "stderr",
     "output_type": "stream",
     "text": [
      "Epoch 2/5 - Training:  47%|██████████████████████████                             | 53/112 [3:10:49<3:32:48, 216.41s/it]"
     ]
    },
    {
     "name": "stdout",
     "output_type": "stream",
     "text": [
      "Resample2d :  input1_size (img?) = torch.Size([8, 3, 128, 128]), input2_size (flow?) = torch.Size([8, 2, 128, 128])\n"
     ]
    },
    {
     "name": "stderr",
     "output_type": "stream",
     "text": [
      "Epoch 2/5 - Training:  48%|██████████████████████████▌                            | 54/112 [3:14:24<3:28:46, 215.98s/it]"
     ]
    },
    {
     "name": "stdout",
     "output_type": "stream",
     "text": [
      "Resample2d :  input1_size (img?) = torch.Size([8, 3, 128, 128]), input2_size (flow?) = torch.Size([8, 2, 128, 128])\n"
     ]
    },
    {
     "name": "stderr",
     "output_type": "stream",
     "text": [
      "Epoch 2/5 - Training:  49%|███████████████████████████                            | 55/112 [3:17:57<3:24:20, 215.09s/it]"
     ]
    },
    {
     "name": "stdout",
     "output_type": "stream",
     "text": [
      "Resample2d :  input1_size (img?) = torch.Size([8, 3, 128, 128]), input2_size (flow?) = torch.Size([8, 2, 128, 128])\n"
     ]
    },
    {
     "name": "stderr",
     "output_type": "stream",
     "text": [
      "Epoch 2/5 - Training:  50%|███████████████████████████▌                           | 56/112 [3:21:33<3:21:01, 215.38s/it]"
     ]
    },
    {
     "name": "stdout",
     "output_type": "stream",
     "text": [
      "Resample2d :  input1_size (img?) = torch.Size([8, 3, 128, 128]), input2_size (flow?) = torch.Size([8, 2, 128, 128])\n"
     ]
    },
    {
     "name": "stderr",
     "output_type": "stream",
     "text": [
      "Epoch 2/5 - Training:  51%|███████████████████████████▉                           | 57/112 [3:25:29<3:23:14, 221.72s/it]"
     ]
    },
    {
     "name": "stdout",
     "output_type": "stream",
     "text": [
      "Resample2d :  input1_size (img?) = torch.Size([8, 3, 128, 128]), input2_size (flow?) = torch.Size([8, 2, 128, 128])\n"
     ]
    },
    {
     "name": "stderr",
     "output_type": "stream",
     "text": [
      "Epoch 2/5 - Training:  52%|████████████████████████████▍                          | 58/112 [3:29:26<3:23:29, 226.11s/it]"
     ]
    },
    {
     "name": "stdout",
     "output_type": "stream",
     "text": [
      "Resample2d :  input1_size (img?) = torch.Size([8, 3, 128, 128]), input2_size (flow?) = torch.Size([8, 2, 128, 128])\n"
     ]
    },
    {
     "name": "stderr",
     "output_type": "stream",
     "text": [
      "Epoch 2/5 - Training:  53%|████████████████████████████▉                          | 59/112 [3:33:23<3:22:36, 229.37s/it]"
     ]
    },
    {
     "name": "stdout",
     "output_type": "stream",
     "text": [
      "Resample2d :  input1_size (img?) = torch.Size([8, 3, 128, 128]), input2_size (flow?) = torch.Size([8, 2, 128, 128])\n"
     ]
    },
    {
     "name": "stderr",
     "output_type": "stream",
     "text": [
      "Epoch 2/5 - Training:  54%|█████████████████████████████▍                         | 60/112 [3:37:21<3:21:01, 231.94s/it]"
     ]
    },
    {
     "name": "stdout",
     "output_type": "stream",
     "text": [
      "Resample2d :  input1_size (img?) = torch.Size([8, 3, 128, 128]), input2_size (flow?) = torch.Size([8, 2, 128, 128])\n"
     ]
    },
    {
     "name": "stderr",
     "output_type": "stream",
     "text": [
      "Epoch 2/5 - Training:  54%|█████████████████████████████▉                         | 61/112 [3:41:17<3:18:11, 233.18s/it]"
     ]
    },
    {
     "name": "stdout",
     "output_type": "stream",
     "text": [
      "Resample2d :  input1_size (img?) = torch.Size([8, 3, 128, 128]), input2_size (flow?) = torch.Size([8, 2, 128, 128])\n"
     ]
    },
    {
     "name": "stderr",
     "output_type": "stream",
     "text": [
      "Epoch 2/5 - Training:  55%|██████████████████████████████▍                        | 62/112 [3:45:14<3:15:27, 234.56s/it]"
     ]
    },
    {
     "name": "stdout",
     "output_type": "stream",
     "text": [
      "Resample2d :  input1_size (img?) = torch.Size([8, 3, 128, 128]), input2_size (flow?) = torch.Size([8, 2, 128, 128])\n"
     ]
    },
    {
     "name": "stderr",
     "output_type": "stream",
     "text": [
      "Epoch 2/5 - Training:  56%|██████████████████████████████▉                        | 63/112 [3:49:08<3:11:17, 234.23s/it]"
     ]
    },
    {
     "name": "stdout",
     "output_type": "stream",
     "text": [
      "Resample2d :  input1_size (img?) = torch.Size([8, 3, 128, 128]), input2_size (flow?) = torch.Size([8, 2, 128, 128])\n"
     ]
    },
    {
     "name": "stderr",
     "output_type": "stream",
     "text": [
      "Epoch 2/5 - Training:  57%|███████████████████████████████▍                       | 64/112 [3:52:45<3:03:17, 229.12s/it]"
     ]
    },
    {
     "name": "stdout",
     "output_type": "stream",
     "text": [
      "Resample2d :  input1_size (img?) = torch.Size([8, 3, 128, 128]), input2_size (flow?) = torch.Size([8, 2, 128, 128])\n"
     ]
    },
    {
     "name": "stderr",
     "output_type": "stream",
     "text": [
      "Epoch 2/5 - Training:  58%|███████████████████████████████▉                       | 65/112 [3:56:22<2:56:32, 225.36s/it]"
     ]
    },
    {
     "name": "stdout",
     "output_type": "stream",
     "text": [
      "Resample2d :  input1_size (img?) = torch.Size([8, 3, 128, 128]), input2_size (flow?) = torch.Size([8, 2, 128, 128])\n"
     ]
    },
    {
     "name": "stderr",
     "output_type": "stream",
     "text": [
      "Epoch 2/5 - Training:  59%|████████████████████████████████▍                      | 66/112 [3:59:59<2:50:54, 222.91s/it]"
     ]
    },
    {
     "name": "stdout",
     "output_type": "stream",
     "text": [
      "Resample2d :  input1_size (img?) = torch.Size([8, 3, 128, 128]), input2_size (flow?) = torch.Size([8, 2, 128, 128])\n"
     ]
    },
    {
     "name": "stderr",
     "output_type": "stream",
     "text": [
      "Epoch 2/5 - Training:  60%|████████████████████████████████▉                      | 67/112 [4:03:36<2:45:47, 221.05s/it]"
     ]
    },
    {
     "name": "stdout",
     "output_type": "stream",
     "text": [
      "Resample2d :  input1_size (img?) = torch.Size([8, 3, 128, 128]), input2_size (flow?) = torch.Size([8, 2, 128, 128])\n"
     ]
    },
    {
     "name": "stderr",
     "output_type": "stream",
     "text": [
      "Epoch 2/5 - Training:  61%|█████████████████████████████████▍                     | 68/112 [4:07:08<2:40:08, 218.38s/it]"
     ]
    },
    {
     "name": "stdout",
     "output_type": "stream",
     "text": [
      "Resample2d :  input1_size (img?) = torch.Size([8, 3, 128, 128]), input2_size (flow?) = torch.Size([8, 2, 128, 128])\n"
     ]
    },
    {
     "name": "stderr",
     "output_type": "stream",
     "text": [
      "Epoch 2/5 - Training:  62%|█████████████████████████████████▉                     | 69/112 [4:10:41<2:35:24, 216.85s/it]"
     ]
    },
    {
     "name": "stdout",
     "output_type": "stream",
     "text": [
      "Resample2d :  input1_size (img?) = torch.Size([8, 3, 128, 128]), input2_size (flow?) = torch.Size([8, 2, 128, 128])\n"
     ]
    },
    {
     "name": "stderr",
     "output_type": "stream",
     "text": [
      "Epoch 2/5 - Training:  62%|██████████████████████████████████▍                    | 70/112 [4:14:14<2:31:00, 215.73s/it]"
     ]
    },
    {
     "name": "stdout",
     "output_type": "stream",
     "text": [
      "Resample2d :  input1_size (img?) = torch.Size([8, 3, 128, 128]), input2_size (flow?) = torch.Size([8, 2, 128, 128])\n"
     ]
    },
    {
     "name": "stderr",
     "output_type": "stream",
     "text": [
      "Epoch 2/5 - Training:  63%|██████████████████████████████████▊                    | 71/112 [4:17:49<2:27:12, 215.42s/it]"
     ]
    },
    {
     "name": "stdout",
     "output_type": "stream",
     "text": [
      "Resample2d :  input1_size (img?) = torch.Size([8, 3, 128, 128]), input2_size (flow?) = torch.Size([8, 2, 128, 128])\n"
     ]
    },
    {
     "name": "stderr",
     "output_type": "stream",
     "text": [
      "Epoch 2/5 - Training:  64%|███████████████████████████████████▎                   | 72/112 [4:21:25<2:23:44, 215.61s/it]"
     ]
    },
    {
     "name": "stdout",
     "output_type": "stream",
     "text": [
      "Resample2d :  input1_size (img?) = torch.Size([8, 3, 128, 128]), input2_size (flow?) = torch.Size([8, 2, 128, 128])\n"
     ]
    },
    {
     "name": "stderr",
     "output_type": "stream",
     "text": [
      "Epoch 2/5 - Training:  65%|███████████████████████████████████▊                   | 73/112 [4:25:00<2:20:06, 215.54s/it]"
     ]
    },
    {
     "name": "stdout",
     "output_type": "stream",
     "text": [
      "Resample2d :  input1_size (img?) = torch.Size([8, 3, 128, 128]), input2_size (flow?) = torch.Size([8, 2, 128, 128])\n"
     ]
    },
    {
     "name": "stderr",
     "output_type": "stream",
     "text": [
      "Epoch 2/5 - Training:  66%|████████████████████████████████████▎                  | 74/112 [4:28:34<2:16:04, 214.86s/it]"
     ]
    },
    {
     "name": "stdout",
     "output_type": "stream",
     "text": [
      "Resample2d :  input1_size (img?) = torch.Size([8, 3, 128, 128]), input2_size (flow?) = torch.Size([8, 2, 128, 128])\n"
     ]
    },
    {
     "name": "stderr",
     "output_type": "stream",
     "text": [
      "Epoch 2/5 - Training:  67%|████████████████████████████████████▊                  | 75/112 [4:32:07<2:12:18, 214.55s/it]"
     ]
    },
    {
     "name": "stdout",
     "output_type": "stream",
     "text": [
      "Resample2d :  input1_size (img?) = torch.Size([8, 3, 128, 128]), input2_size (flow?) = torch.Size([8, 2, 128, 128])\n"
     ]
    },
    {
     "name": "stderr",
     "output_type": "stream",
     "text": [
      "Epoch 2/5 - Training:  68%|█████████████████████████████████████▎                 | 76/112 [4:35:55<2:11:06, 218.51s/it]"
     ]
    },
    {
     "name": "stdout",
     "output_type": "stream",
     "text": [
      "Resample2d :  input1_size (img?) = torch.Size([8, 3, 128, 128]), input2_size (flow?) = torch.Size([8, 2, 128, 128])\n"
     ]
    },
    {
     "name": "stderr",
     "output_type": "stream",
     "text": [
      "Epoch 2/5 - Training:  69%|█████████████████████████████████████▊                 | 77/112 [4:39:41<2:08:50, 220.87s/it]"
     ]
    },
    {
     "name": "stdout",
     "output_type": "stream",
     "text": [
      "Resample2d :  input1_size (img?) = torch.Size([8, 3, 128, 128]), input2_size (flow?) = torch.Size([8, 2, 128, 128])\n"
     ]
    },
    {
     "name": "stderr",
     "output_type": "stream",
     "text": [
      "Epoch 2/5 - Training:  70%|██████████████████████████████████████▎                | 78/112 [4:43:25<2:05:37, 221.69s/it]"
     ]
    },
    {
     "name": "stdout",
     "output_type": "stream",
     "text": [
      "Resample2d :  input1_size (img?) = torch.Size([8, 3, 128, 128]), input2_size (flow?) = torch.Size([8, 2, 128, 128])\n"
     ]
    },
    {
     "name": "stderr",
     "output_type": "stream",
     "text": [
      "Epoch 2/5 - Training:  71%|██████████████████████████████████████▊                | 79/112 [4:47:04<2:01:32, 220.98s/it]"
     ]
    },
    {
     "name": "stdout",
     "output_type": "stream",
     "text": [
      "Resample2d :  input1_size (img?) = torch.Size([8, 3, 128, 128]), input2_size (flow?) = torch.Size([8, 2, 128, 128])\n"
     ]
    },
    {
     "name": "stderr",
     "output_type": "stream",
     "text": [
      "Epoch 2/5 - Training:  71%|███████████████████████████████████████▎               | 80/112 [4:50:45<1:57:46, 220.82s/it]"
     ]
    },
    {
     "name": "stdout",
     "output_type": "stream",
     "text": [
      "Resample2d :  input1_size (img?) = torch.Size([8, 3, 128, 128]), input2_size (flow?) = torch.Size([8, 2, 128, 128])\n"
     ]
    },
    {
     "name": "stderr",
     "output_type": "stream",
     "text": [
      "Epoch 2/5 - Training:  72%|███████████████████████████████████████▊               | 81/112 [4:54:21<1:53:25, 219.53s/it]"
     ]
    },
    {
     "name": "stdout",
     "output_type": "stream",
     "text": [
      "Resample2d :  input1_size (img?) = torch.Size([8, 3, 128, 128]), input2_size (flow?) = torch.Size([8, 2, 128, 128])\n"
     ]
    },
    {
     "name": "stderr",
     "output_type": "stream",
     "text": [
      "Epoch 2/5 - Training:  73%|████████████████████████████████████████▎              | 82/112 [4:57:56<1:49:03, 218.11s/it]"
     ]
    },
    {
     "name": "stdout",
     "output_type": "stream",
     "text": [
      "Resample2d :  input1_size (img?) = torch.Size([8, 3, 128, 128]), input2_size (flow?) = torch.Size([8, 2, 128, 128])\n"
     ]
    },
    {
     "name": "stderr",
     "output_type": "stream",
     "text": [
      "Epoch 2/5 - Training:  74%|████████████████████████████████████████▊              | 83/112 [5:01:31<1:45:00, 217.25s/it]"
     ]
    },
    {
     "name": "stdout",
     "output_type": "stream",
     "text": [
      "Resample2d :  input1_size (img?) = torch.Size([8, 3, 128, 128]), input2_size (flow?) = torch.Size([8, 2, 128, 128])\n"
     ]
    },
    {
     "name": "stderr",
     "output_type": "stream",
     "text": [
      "Epoch 2/5 - Training:  75%|█████████████████████████████████████████▎             | 84/112 [5:05:06<1:40:56, 216.30s/it]"
     ]
    },
    {
     "name": "stdout",
     "output_type": "stream",
     "text": [
      "Resample2d :  input1_size (img?) = torch.Size([8, 3, 128, 128]), input2_size (flow?) = torch.Size([8, 2, 128, 128])\n"
     ]
    },
    {
     "name": "stderr",
     "output_type": "stream",
     "text": [
      "Epoch 2/5 - Training:  76%|█████████████████████████████████████████▋             | 85/112 [5:08:41<1:37:17, 216.20s/it]"
     ]
    },
    {
     "name": "stdout",
     "output_type": "stream",
     "text": [
      "Resample2d :  input1_size (img?) = torch.Size([8, 3, 128, 128]), input2_size (flow?) = torch.Size([8, 2, 128, 128])\n"
     ]
    },
    {
     "name": "stderr",
     "output_type": "stream",
     "text": [
      "Epoch 2/5 - Training:  77%|██████████████████████████████████████████▏            | 86/112 [5:12:19<1:33:54, 216.73s/it]"
     ]
    },
    {
     "name": "stdout",
     "output_type": "stream",
     "text": [
      "Resample2d :  input1_size (img?) = torch.Size([8, 3, 128, 128]), input2_size (flow?) = torch.Size([8, 2, 128, 128])\n"
     ]
    },
    {
     "name": "stderr",
     "output_type": "stream",
     "text": [
      "Epoch 2/5 - Training:  78%|██████████████████████████████████████████▋            | 87/112 [5:15:57<1:30:21, 216.86s/it]"
     ]
    },
    {
     "name": "stdout",
     "output_type": "stream",
     "text": [
      "Resample2d :  input1_size (img?) = torch.Size([8, 3, 128, 128]), input2_size (flow?) = torch.Size([8, 2, 128, 128])\n"
     ]
    },
    {
     "name": "stderr",
     "output_type": "stream",
     "text": [
      "Epoch 2/5 - Training:  79%|███████████████████████████████████████████▏           | 88/112 [5:19:34<1:26:45, 216.89s/it]"
     ]
    },
    {
     "name": "stdout",
     "output_type": "stream",
     "text": [
      "Resample2d :  input1_size (img?) = torch.Size([8, 3, 128, 128]), input2_size (flow?) = torch.Size([8, 2, 128, 128])\n"
     ]
    },
    {
     "name": "stderr",
     "output_type": "stream",
     "text": [
      "Epoch 2/5 - Training:  79%|███████████████████████████████████████████▋           | 89/112 [5:23:10<1:23:05, 216.75s/it]"
     ]
    },
    {
     "name": "stdout",
     "output_type": "stream",
     "text": [
      "Resample2d :  input1_size (img?) = torch.Size([8, 3, 128, 128]), input2_size (flow?) = torch.Size([8, 2, 128, 128])\n"
     ]
    },
    {
     "name": "stderr",
     "output_type": "stream",
     "text": [
      "Epoch 2/5 - Training:  80%|████████████████████████████████████████████▏          | 90/112 [5:26:42<1:18:56, 215.28s/it]"
     ]
    },
    {
     "name": "stdout",
     "output_type": "stream",
     "text": [
      "Resample2d :  input1_size (img?) = torch.Size([8, 3, 128, 128]), input2_size (flow?) = torch.Size([8, 2, 128, 128])\n"
     ]
    },
    {
     "name": "stderr",
     "output_type": "stream",
     "text": [
      "Epoch 2/5 - Training:  81%|████████████████████████████████████████████▋          | 91/112 [5:30:20<1:15:36, 216.04s/it]"
     ]
    },
    {
     "name": "stdout",
     "output_type": "stream",
     "text": [
      "Resample2d :  input1_size (img?) = torch.Size([8, 3, 128, 128]), input2_size (flow?) = torch.Size([8, 2, 128, 128])\n"
     ]
    },
    {
     "name": "stderr",
     "output_type": "stream",
     "text": [
      "Epoch 2/5 - Training:  82%|█████████████████████████████████████████████▏         | 92/112 [5:33:56<1:12:01, 216.07s/it]"
     ]
    },
    {
     "name": "stdout",
     "output_type": "stream",
     "text": [
      "Resample2d :  input1_size (img?) = torch.Size([8, 3, 128, 128]), input2_size (flow?) = torch.Size([8, 2, 128, 128])\n"
     ]
    },
    {
     "name": "stderr",
     "output_type": "stream",
     "text": [
      "Epoch 2/5 - Training:  83%|█████████████████████████████████████████████▋         | 93/112 [5:37:51<1:10:11, 221.68s/it]"
     ]
    },
    {
     "name": "stdout",
     "output_type": "stream",
     "text": [
      "Resample2d :  input1_size (img?) = torch.Size([8, 3, 128, 128]), input2_size (flow?) = torch.Size([8, 2, 128, 128])\n"
     ]
    },
    {
     "name": "stderr",
     "output_type": "stream",
     "text": [
      "Epoch 2/5 - Training:  84%|██████████████████████████████████████████████▏        | 94/112 [5:41:45<1:07:36, 225.38s/it]"
     ]
    },
    {
     "name": "stdout",
     "output_type": "stream",
     "text": [
      "Resample2d :  input1_size (img?) = torch.Size([8, 3, 128, 128]), input2_size (flow?) = torch.Size([8, 2, 128, 128])\n"
     ]
    },
    {
     "name": "stderr",
     "output_type": "stream",
     "text": [
      "Epoch 2/5 - Training:  85%|██████████████████████████████████████████████▋        | 95/112 [5:45:41<1:04:45, 228.56s/it]"
     ]
    },
    {
     "name": "stdout",
     "output_type": "stream",
     "text": [
      "Resample2d :  input1_size (img?) = torch.Size([8, 3, 128, 128]), input2_size (flow?) = torch.Size([8, 2, 128, 128])\n"
     ]
    },
    {
     "name": "stderr",
     "output_type": "stream",
     "text": [
      "Epoch 2/5 - Training:  86%|███████████████████████████████████████████████▏       | 96/112 [5:49:37<1:01:35, 230.94s/it]"
     ]
    },
    {
     "name": "stdout",
     "output_type": "stream",
     "text": [
      "Resample2d :  input1_size (img?) = torch.Size([8, 3, 128, 128]), input2_size (flow?) = torch.Size([8, 2, 128, 128])\n"
     ]
    },
    {
     "name": "stderr",
     "output_type": "stream",
     "text": [
      "Epoch 2/5 - Training:  87%|█████████████████████████████████████████████████▎       | 97/112 [5:53:11<56:28, 225.90s/it]"
     ]
    },
    {
     "name": "stdout",
     "output_type": "stream",
     "text": [
      "Resample2d :  input1_size (img?) = torch.Size([8, 3, 128, 128]), input2_size (flow?) = torch.Size([8, 2, 128, 128])\n"
     ]
    },
    {
     "name": "stderr",
     "output_type": "stream",
     "text": [
      "Epoch 2/5 - Training:  88%|█████████████████████████████████████████████████▉       | 98/112 [5:56:47<51:58, 222.76s/it]"
     ]
    },
    {
     "name": "stdout",
     "output_type": "stream",
     "text": [
      "Resample2d :  input1_size (img?) = torch.Size([8, 3, 128, 128]), input2_size (flow?) = torch.Size([8, 2, 128, 128])\n"
     ]
    },
    {
     "name": "stderr",
     "output_type": "stream",
     "text": [
      "Epoch 2/5 - Training:  88%|██████████████████████████████████████████████████▍      | 99/112 [6:00:20<47:37, 219.83s/it]"
     ]
    },
    {
     "name": "stdout",
     "output_type": "stream",
     "text": [
      "Resample2d :  input1_size (img?) = torch.Size([8, 3, 128, 128]), input2_size (flow?) = torch.Size([8, 2, 128, 128])\n"
     ]
    },
    {
     "name": "stderr",
     "output_type": "stream",
     "text": [
      "Epoch 2/5 - Training:  89%|██████████████████████████████████████████████████      | 100/112 [6:03:53<43:33, 217.83s/it]"
     ]
    },
    {
     "name": "stdout",
     "output_type": "stream",
     "text": [
      "Resample2d :  input1_size (img?) = torch.Size([8, 3, 128, 128]), input2_size (flow?) = torch.Size([8, 2, 128, 128])\n"
     ]
    },
    {
     "name": "stderr",
     "output_type": "stream",
     "text": [
      "Epoch 2/5 - Training:  90%|██████████████████████████████████████████████████▌     | 101/112 [6:08:12<42:12, 230.26s/it]"
     ]
    },
    {
     "name": "stdout",
     "output_type": "stream",
     "text": [
      "Resample2d :  input1_size (img?) = torch.Size([8, 3, 128, 128]), input2_size (flow?) = torch.Size([8, 2, 128, 128])\n"
     ]
    },
    {
     "name": "stderr",
     "output_type": "stream",
     "text": [
      "Epoch 2/5 - Training:  91%|███████████████████████████████████████████████████     | 102/112 [6:16:54<52:57, 317.74s/it]"
     ]
    },
    {
     "name": "stdout",
     "output_type": "stream",
     "text": [
      "Resample2d :  input1_size (img?) = torch.Size([8, 3, 128, 128]), input2_size (flow?) = torch.Size([8, 2, 128, 128])\n"
     ]
    },
    {
     "name": "stderr",
     "output_type": "stream",
     "text": [
      "Epoch 2/5 - Training:  92%|███████████████████████████████████████████████████▌    | 103/112 [6:23:29<51:09, 341.04s/it]"
     ]
    },
    {
     "name": "stdout",
     "output_type": "stream",
     "text": [
      "Resample2d :  input1_size (img?) = torch.Size([8, 3, 128, 128]), input2_size (flow?) = torch.Size([8, 2, 128, 128])\n"
     ]
    },
    {
     "name": "stderr",
     "output_type": "stream",
     "text": [
      "Epoch 2/5 - Training:  93%|████████████████████████████████████████████████████    | 104/112 [6:26:32<39:09, 293.68s/it]"
     ]
    },
    {
     "name": "stdout",
     "output_type": "stream",
     "text": [
      "Resample2d :  input1_size (img?) = torch.Size([8, 3, 128, 128]), input2_size (flow?) = torch.Size([8, 2, 128, 128])\n"
     ]
    },
    {
     "name": "stderr",
     "output_type": "stream",
     "text": [
      "Epoch 2/5 - Training:  94%|████████████████████████████████████████████████████▌   | 105/112 [6:29:41<30:35, 262.21s/it]"
     ]
    },
    {
     "name": "stdout",
     "output_type": "stream",
     "text": [
      "Resample2d :  input1_size (img?) = torch.Size([8, 3, 128, 128]), input2_size (flow?) = torch.Size([8, 2, 128, 128])\n"
     ]
    },
    {
     "name": "stderr",
     "output_type": "stream",
     "text": [
      "Epoch 2/5 - Training:  95%|█████████████████████████████████████████████████████   | 106/112 [6:32:30<23:25, 234.31s/it]"
     ]
    },
    {
     "name": "stdout",
     "output_type": "stream",
     "text": [
      "Resample2d :  input1_size (img?) = torch.Size([8, 3, 128, 128]), input2_size (flow?) = torch.Size([8, 2, 128, 128])\n"
     ]
    },
    {
     "name": "stderr",
     "output_type": "stream",
     "text": [
      "Epoch 2/5 - Training:  96%|█████████████████████████████████████████████████████▌  | 107/112 [6:35:24<18:00, 216.05s/it]"
     ]
    },
    {
     "name": "stdout",
     "output_type": "stream",
     "text": [
      "Resample2d :  input1_size (img?) = torch.Size([8, 3, 128, 128]), input2_size (flow?) = torch.Size([8, 2, 128, 128])\n"
     ]
    },
    {
     "name": "stderr",
     "output_type": "stream",
     "text": [
      "Epoch 2/5 - Training:  96%|██████████████████████████████████████████████████████  | 108/112 [6:38:34<13:53, 208.34s/it]"
     ]
    },
    {
     "name": "stdout",
     "output_type": "stream",
     "text": [
      "Resample2d :  input1_size (img?) = torch.Size([8, 3, 128, 128]), input2_size (flow?) = torch.Size([8, 2, 128, 128])\n"
     ]
    },
    {
     "name": "stderr",
     "output_type": "stream",
     "text": [
      "Epoch 2/5 - Training:  97%|██████████████████████████████████████████████████████▌ | 109/112 [6:41:40<10:05, 201.70s/it]"
     ]
    },
    {
     "name": "stdout",
     "output_type": "stream",
     "text": [
      "Resample2d :  input1_size (img?) = torch.Size([8, 3, 128, 128]), input2_size (flow?) = torch.Size([8, 2, 128, 128])\n"
     ]
    },
    {
     "name": "stderr",
     "output_type": "stream",
     "text": [
      "Epoch 2/5 - Training:  98%|███████████████████████████████████████████████████████ | 110/112 [6:44:39<06:29, 194.67s/it]"
     ]
    },
    {
     "name": "stdout",
     "output_type": "stream",
     "text": [
      "Resample2d :  input1_size (img?) = torch.Size([8, 3, 128, 128]), input2_size (flow?) = torch.Size([8, 2, 128, 128])\n"
     ]
    },
    {
     "name": "stderr",
     "output_type": "stream",
     "text": [
      "Epoch 2/5 - Training:  99%|███████████████████████████████████████████████████████▌| 111/112 [6:48:02<03:17, 197.38s/it]"
     ]
    },
    {
     "name": "stdout",
     "output_type": "stream",
     "text": [
      "Resample2d :  input1_size (img?) = torch.Size([8, 3, 128, 128]), input2_size (flow?) = torch.Size([8, 2, 128, 128])\n"
     ]
    },
    {
     "name": "stderr",
     "output_type": "stream",
     "text": [
      "                                                                                                                        \r"
     ]
    },
    {
     "name": "stdout",
     "output_type": "stream",
     "text": [
      "Resample2d :  input1_size (img?) = torch.Size([8, 3, 128, 128]), input2_size (flow?) = torch.Size([8, 2, 128, 128])\n"
     ]
    },
    {
     "name": "stderr",
     "output_type": "stream",
     "text": [
      "Epoch 2/5 - Validation:   9%|█████▎                                                     | 1/11 [03:35<35:52, 215.23s/it]"
     ]
    },
    {
     "name": "stdout",
     "output_type": "stream",
     "text": [
      "Resample2d :  input1_size (img?) = torch.Size([8, 3, 128, 128]), input2_size (flow?) = torch.Size([8, 2, 128, 128])\n"
     ]
    },
    {
     "name": "stderr",
     "output_type": "stream",
     "text": [
      "Epoch 2/5 - Validation:  18%|██████████▋                                                | 2/11 [07:08<32:08, 214.32s/it]"
     ]
    },
    {
     "name": "stdout",
     "output_type": "stream",
     "text": [
      "Resample2d :  input1_size (img?) = torch.Size([8, 3, 128, 128]), input2_size (flow?) = torch.Size([8, 2, 128, 128])\n"
     ]
    },
    {
     "name": "stderr",
     "output_type": "stream",
     "text": [
      "Epoch 2/5 - Validation:  27%|████████████████                                           | 3/11 [10:45<28:43, 215.45s/it]"
     ]
    },
    {
     "name": "stdout",
     "output_type": "stream",
     "text": [
      "Resample2d :  input1_size (img?) = torch.Size([8, 3, 128, 128]), input2_size (flow?) = torch.Size([8, 2, 128, 128])\n"
     ]
    },
    {
     "name": "stderr",
     "output_type": "stream",
     "text": [
      "Epoch 2/5 - Validation:  36%|█████████████████████▍                                     | 4/11 [14:37<25:54, 222.09s/it]"
     ]
    },
    {
     "name": "stdout",
     "output_type": "stream",
     "text": [
      "Resample2d :  input1_size (img?) = torch.Size([8, 3, 128, 128]), input2_size (flow?) = torch.Size([8, 2, 128, 128])\n"
     ]
    },
    {
     "name": "stderr",
     "output_type": "stream",
     "text": [
      "Epoch 2/5 - Validation:  45%|██████████████████████████▊                                | 5/11 [18:31<22:37, 226.25s/it]"
     ]
    },
    {
     "name": "stdout",
     "output_type": "stream",
     "text": [
      "Resample2d :  input1_size (img?) = torch.Size([8, 3, 128, 128]), input2_size (flow?) = torch.Size([8, 2, 128, 128])\n"
     ]
    },
    {
     "name": "stderr",
     "output_type": "stream",
     "text": [
      "Epoch 2/5 - Validation:  55%|████████████████████████████████▏                          | 6/11 [22:05<18:30, 222.04s/it]"
     ]
    },
    {
     "name": "stdout",
     "output_type": "stream",
     "text": [
      "Resample2d :  input1_size (img?) = torch.Size([8, 3, 128, 128]), input2_size (flow?) = torch.Size([8, 2, 128, 128])\n"
     ]
    },
    {
     "name": "stderr",
     "output_type": "stream",
     "text": [
      "Epoch 2/5 - Validation:  64%|█████████████████████████████████████▌                     | 7/11 [25:42<14:41, 220.40s/it]"
     ]
    },
    {
     "name": "stdout",
     "output_type": "stream",
     "text": [
      "Resample2d :  input1_size (img?) = torch.Size([8, 3, 128, 128]), input2_size (flow?) = torch.Size([8, 2, 128, 128])\n"
     ]
    },
    {
     "name": "stderr",
     "output_type": "stream",
     "text": [
      "Epoch 2/5 - Validation:  73%|██████████████████████████████████████████▉                | 8/11 [29:15<10:54, 218.14s/it]"
     ]
    },
    {
     "name": "stdout",
     "output_type": "stream",
     "text": [
      "Resample2d :  input1_size (img?) = torch.Size([8, 3, 128, 128]), input2_size (flow?) = torch.Size([8, 2, 128, 128])\n"
     ]
    },
    {
     "name": "stderr",
     "output_type": "stream",
     "text": [
      "Epoch 2/5 - Validation:  82%|████████████████████████████████████████████████▎          | 9/11 [32:51<07:14, 217.37s/it]"
     ]
    },
    {
     "name": "stdout",
     "output_type": "stream",
     "text": [
      "Resample2d :  input1_size (img?) = torch.Size([8, 3, 128, 128]), input2_size (flow?) = torch.Size([8, 2, 128, 128])\n"
     ]
    },
    {
     "name": "stderr",
     "output_type": "stream",
     "text": [
      "Epoch 2/5 - Validation:  91%|████████████████████████████████████████████████████▋     | 10/11 [36:26<03:36, 216.54s/it]"
     ]
    },
    {
     "name": "stdout",
     "output_type": "stream",
     "text": [
      "Resample2d :  input1_size (img?) = torch.Size([8, 3, 128, 128]), input2_size (flow?) = torch.Size([8, 2, 128, 128])\n"
     ]
    },
    {
     "name": "stderr",
     "output_type": "stream",
     "text": [
      "                                                                                                                        \r"
     ]
    },
    {
     "name": "stdout",
     "output_type": "stream",
     "text": [
      "Resample2d :  input1_size (img?) = torch.Size([8, 3, 128, 128]), input2_size (flow?) = torch.Size([8, 2, 128, 128])\n",
      "Epoch 2/5, Train Loss: nan, Validation Loss: nan\n"
     ]
    },
    {
     "name": "stderr",
     "output_type": "stream",
     "text": [
      "Epoch 3/5 - Training:   1%|▌                                                         | 1/112 [03:37<6:42:11, 217.41s/it]"
     ]
    },
    {
     "name": "stdout",
     "output_type": "stream",
     "text": [
      "Resample2d :  input1_size (img?) = torch.Size([8, 3, 128, 128]), input2_size (flow?) = torch.Size([8, 2, 128, 128])\n"
     ]
    },
    {
     "name": "stderr",
     "output_type": "stream",
     "text": [
      "Epoch 3/5 - Training:   2%|█                                                         | 2/112 [07:11<6:34:35, 215.24s/it]"
     ]
    },
    {
     "name": "stdout",
     "output_type": "stream",
     "text": [
      "Resample2d :  input1_size (img?) = torch.Size([8, 3, 128, 128]), input2_size (flow?) = torch.Size([8, 2, 128, 128])\n"
     ]
    },
    {
     "name": "stderr",
     "output_type": "stream",
     "text": [
      "Epoch 3/5 - Training:   3%|█▌                                                        | 3/112 [10:47<6:31:54, 215.72s/it]"
     ]
    },
    {
     "name": "stdout",
     "output_type": "stream",
     "text": [
      "Resample2d :  input1_size (img?) = torch.Size([8, 3, 128, 128]), input2_size (flow?) = torch.Size([8, 2, 128, 128])\n"
     ]
    },
    {
     "name": "stderr",
     "output_type": "stream",
     "text": [
      "Epoch 3/5 - Training:   4%|██                                                        | 4/112 [14:19<6:25:53, 214.39s/it]"
     ]
    },
    {
     "name": "stdout",
     "output_type": "stream",
     "text": [
      "Resample2d :  input1_size (img?) = torch.Size([8, 3, 128, 128]), input2_size (flow?) = torch.Size([8, 2, 128, 128])\n"
     ]
    },
    {
     "name": "stderr",
     "output_type": "stream",
     "text": [
      "Epoch 3/5 - Training:   4%|██▌                                                       | 5/112 [17:53<6:21:45, 214.07s/it]"
     ]
    },
    {
     "name": "stdout",
     "output_type": "stream",
     "text": [
      "Resample2d :  input1_size (img?) = torch.Size([8, 3, 128, 128]), input2_size (flow?) = torch.Size([8, 2, 128, 128])\n"
     ]
    },
    {
     "name": "stderr",
     "output_type": "stream",
     "text": [
      "Epoch 3/5 - Training:   5%|███                                                       | 6/112 [21:28<6:18:50, 214.44s/it]"
     ]
    },
    {
     "name": "stdout",
     "output_type": "stream",
     "text": [
      "Resample2d :  input1_size (img?) = torch.Size([8, 3, 128, 128]), input2_size (flow?) = torch.Size([8, 2, 128, 128])\n"
     ]
    },
    {
     "name": "stderr",
     "output_type": "stream",
     "text": [
      "Epoch 3/5 - Training:   6%|███▋                                                      | 7/112 [25:05<6:17:01, 215.44s/it]"
     ]
    },
    {
     "name": "stdout",
     "output_type": "stream",
     "text": [
      "Resample2d :  input1_size (img?) = torch.Size([8, 3, 128, 128]), input2_size (flow?) = torch.Size([8, 2, 128, 128])\n"
     ]
    },
    {
     "name": "stderr",
     "output_type": "stream",
     "text": [
      "Epoch 3/5 - Training:   7%|████▏                                                     | 8/112 [28:42<6:13:48, 215.66s/it]"
     ]
    },
    {
     "name": "stdout",
     "output_type": "stream",
     "text": [
      "Resample2d :  input1_size (img?) = torch.Size([8, 3, 128, 128]), input2_size (flow?) = torch.Size([8, 2, 128, 128])\n"
     ]
    },
    {
     "name": "stderr",
     "output_type": "stream",
     "text": [
      "Epoch 3/5 - Training:   8%|████▋                                                     | 9/112 [32:15<6:08:59, 214.95s/it]"
     ]
    },
    {
     "name": "stdout",
     "output_type": "stream",
     "text": [
      "Resample2d :  input1_size (img?) = torch.Size([8, 3, 128, 128]), input2_size (flow?) = torch.Size([8, 2, 128, 128])\n"
     ]
    },
    {
     "name": "stderr",
     "output_type": "stream",
     "text": [
      "Epoch 3/5 - Training:   9%|█████                                                    | 10/112 [35:41<6:00:59, 212.35s/it]"
     ]
    },
    {
     "name": "stdout",
     "output_type": "stream",
     "text": [
      "Resample2d :  input1_size (img?) = torch.Size([8, 3, 128, 128]), input2_size (flow?) = torch.Size([8, 2, 128, 128])\n"
     ]
    },
    {
     "name": "stderr",
     "output_type": "stream",
     "text": [
      "Epoch 3/5 - Training:  10%|█████▌                                                   | 11/112 [39:13<5:57:02, 212.11s/it]"
     ]
    },
    {
     "name": "stdout",
     "output_type": "stream",
     "text": [
      "Resample2d :  input1_size (img?) = torch.Size([8, 3, 128, 128]), input2_size (flow?) = torch.Size([8, 2, 128, 128])\n"
     ]
    },
    {
     "name": "stderr",
     "output_type": "stream",
     "text": [
      "Epoch 3/5 - Training:  11%|██████                                                   | 12/112 [42:49<5:55:22, 213.23s/it]"
     ]
    },
    {
     "name": "stdout",
     "output_type": "stream",
     "text": [
      "Resample2d :  input1_size (img?) = torch.Size([8, 3, 128, 128]), input2_size (flow?) = torch.Size([8, 2, 128, 128])\n"
     ]
    },
    {
     "name": "stderr",
     "output_type": "stream",
     "text": [
      "Epoch 3/5 - Training:  12%|██████▌                                                  | 13/112 [46:24<5:52:53, 213.88s/it]"
     ]
    },
    {
     "name": "stdout",
     "output_type": "stream",
     "text": [
      "Resample2d :  input1_size (img?) = torch.Size([8, 3, 128, 128]), input2_size (flow?) = torch.Size([8, 2, 128, 128])\n"
     ]
    },
    {
     "name": "stderr",
     "output_type": "stream",
     "text": [
      "Epoch 3/5 - Training:  12%|███████▏                                                 | 14/112 [50:01<5:50:41, 214.70s/it]"
     ]
    },
    {
     "name": "stdout",
     "output_type": "stream",
     "text": [
      "Resample2d :  input1_size (img?) = torch.Size([8, 3, 128, 128]), input2_size (flow?) = torch.Size([8, 2, 128, 128])\n"
     ]
    },
    {
     "name": "stderr",
     "output_type": "stream",
     "text": [
      "Epoch 3/5 - Training:  13%|███████▋                                                 | 15/112 [53:36<5:47:14, 214.79s/it]"
     ]
    },
    {
     "name": "stdout",
     "output_type": "stream",
     "text": [
      "Resample2d :  input1_size (img?) = torch.Size([8, 3, 128, 128]), input2_size (flow?) = torch.Size([8, 2, 128, 128])\n"
     ]
    },
    {
     "name": "stderr",
     "output_type": "stream",
     "text": [
      "Epoch 3/5 - Training:  14%|████████▏                                                | 16/112 [57:14<5:45:10, 215.74s/it]"
     ]
    },
    {
     "name": "stdout",
     "output_type": "stream",
     "text": [
      "Resample2d :  input1_size (img?) = torch.Size([8, 3, 128, 128]), input2_size (flow?) = torch.Size([8, 2, 128, 128])\n"
     ]
    },
    {
     "name": "stderr",
     "output_type": "stream",
     "text": [
      "Epoch 3/5 - Training:  15%|████████▎                                              | 17/112 [1:00:48<5:40:42, 215.19s/it]"
     ]
    },
    {
     "name": "stdout",
     "output_type": "stream",
     "text": [
      "Resample2d :  input1_size (img?) = torch.Size([8, 3, 128, 128]), input2_size (flow?) = torch.Size([8, 2, 128, 128])\n"
     ]
    },
    {
     "name": "stderr",
     "output_type": "stream",
     "text": [
      "Epoch 3/5 - Training:  16%|████████▊                                              | 18/112 [1:04:22<5:36:40, 214.90s/it]"
     ]
    },
    {
     "name": "stdout",
     "output_type": "stream",
     "text": [
      "Resample2d :  input1_size (img?) = torch.Size([8, 3, 128, 128]), input2_size (flow?) = torch.Size([8, 2, 128, 128])\n"
     ]
    },
    {
     "name": "stderr",
     "output_type": "stream",
     "text": [
      "Epoch 3/5 - Training:  17%|█████████▎                                             | 19/112 [1:07:55<5:32:12, 214.33s/it]"
     ]
    },
    {
     "name": "stdout",
     "output_type": "stream",
     "text": [
      "Resample2d :  input1_size (img?) = torch.Size([8, 3, 128, 128]), input2_size (flow?) = torch.Size([8, 2, 128, 128])\n"
     ]
    },
    {
     "name": "stderr",
     "output_type": "stream",
     "text": [
      "Epoch 3/5 - Training:  18%|█████████▊                                             | 20/112 [1:11:25<5:26:53, 213.19s/it]"
     ]
    },
    {
     "name": "stdout",
     "output_type": "stream",
     "text": [
      "Resample2d :  input1_size (img?) = torch.Size([8, 3, 128, 128]), input2_size (flow?) = torch.Size([8, 2, 128, 128])\n"
     ]
    },
    {
     "name": "stderr",
     "output_type": "stream",
     "text": [
      "Epoch 3/5 - Training:  19%|██████████▎                                            | 21/112 [1:14:56<5:22:00, 212.32s/it]"
     ]
    },
    {
     "name": "stdout",
     "output_type": "stream",
     "text": [
      "Resample2d :  input1_size (img?) = torch.Size([8, 3, 128, 128]), input2_size (flow?) = torch.Size([8, 2, 128, 128])\n"
     ]
    },
    {
     "name": "stderr",
     "output_type": "stream",
     "text": [
      "Epoch 3/5 - Training:  20%|██████████▊                                            | 22/112 [1:18:26<5:17:38, 211.76s/it]"
     ]
    },
    {
     "name": "stdout",
     "output_type": "stream",
     "text": [
      "Resample2d :  input1_size (img?) = torch.Size([8, 3, 128, 128]), input2_size (flow?) = torch.Size([8, 2, 128, 128])\n"
     ]
    },
    {
     "name": "stderr",
     "output_type": "stream",
     "text": [
      "Epoch 3/5 - Training:  21%|███████████▎                                           | 23/112 [1:22:04<5:16:51, 213.61s/it]"
     ]
    },
    {
     "name": "stdout",
     "output_type": "stream",
     "text": [
      "Resample2d :  input1_size (img?) = torch.Size([8, 3, 128, 128]), input2_size (flow?) = torch.Size([8, 2, 128, 128])\n"
     ]
    },
    {
     "name": "stderr",
     "output_type": "stream",
     "text": [
      "Epoch 3/5 - Training:  21%|███████████▊                                           | 24/112 [1:25:38<5:13:18, 213.62s/it]"
     ]
    },
    {
     "name": "stdout",
     "output_type": "stream",
     "text": [
      "Resample2d :  input1_size (img?) = torch.Size([8, 3, 128, 128]), input2_size (flow?) = torch.Size([8, 2, 128, 128])\n"
     ]
    },
    {
     "name": "stderr",
     "output_type": "stream",
     "text": [
      "Epoch 3/5 - Training:  22%|████████████▎                                          | 25/112 [1:29:13<5:10:32, 214.17s/it]"
     ]
    },
    {
     "name": "stdout",
     "output_type": "stream",
     "text": [
      "Resample2d :  input1_size (img?) = torch.Size([8, 3, 128, 128]), input2_size (flow?) = torch.Size([8, 2, 128, 128])\n"
     ]
    },
    {
     "name": "stderr",
     "output_type": "stream",
     "text": [
      "Epoch 3/5 - Training:  23%|████████████▊                                          | 26/112 [1:32:46<5:06:25, 213.78s/it]"
     ]
    },
    {
     "name": "stdout",
     "output_type": "stream",
     "text": [
      "Resample2d :  input1_size (img?) = torch.Size([8, 3, 128, 128]), input2_size (flow?) = torch.Size([8, 2, 128, 128])\n"
     ]
    },
    {
     "name": "stderr",
     "output_type": "stream",
     "text": [
      "Epoch 3/5 - Training:  24%|█████████████▎                                         | 27/112 [1:36:18<5:01:56, 213.13s/it]"
     ]
    },
    {
     "name": "stdout",
     "output_type": "stream",
     "text": [
      "Resample2d :  input1_size (img?) = torch.Size([8, 3, 128, 128]), input2_size (flow?) = torch.Size([8, 2, 128, 128])\n"
     ]
    },
    {
     "name": "stderr",
     "output_type": "stream",
     "text": [
      "Epoch 3/5 - Training:  25%|█████████████▊                                         | 28/112 [1:39:47<4:56:58, 212.13s/it]"
     ]
    },
    {
     "name": "stdout",
     "output_type": "stream",
     "text": [
      "Resample2d :  input1_size (img?) = torch.Size([8, 3, 128, 128]), input2_size (flow?) = torch.Size([8, 2, 128, 128])\n"
     ]
    },
    {
     "name": "stderr",
     "output_type": "stream",
     "text": [
      "Epoch 3/5 - Training:  26%|██████████████▏                                        | 29/112 [1:43:19<4:53:10, 211.93s/it]"
     ]
    },
    {
     "name": "stdout",
     "output_type": "stream",
     "text": [
      "Resample2d :  input1_size (img?) = torch.Size([8, 3, 128, 128]), input2_size (flow?) = torch.Size([8, 2, 128, 128])\n"
     ]
    },
    {
     "name": "stderr",
     "output_type": "stream",
     "text": [
      "Epoch 3/5 - Training:  27%|██████████████▋                                        | 30/112 [1:46:49<4:49:00, 211.47s/it]"
     ]
    },
    {
     "name": "stdout",
     "output_type": "stream",
     "text": [
      "Resample2d :  input1_size (img?) = torch.Size([8, 3, 128, 128]), input2_size (flow?) = torch.Size([8, 2, 128, 128])\n"
     ]
    },
    {
     "name": "stderr",
     "output_type": "stream",
     "text": [
      "Epoch 3/5 - Training:  28%|███████████████▏                                       | 31/112 [1:50:21<4:45:24, 211.41s/it]"
     ]
    },
    {
     "name": "stdout",
     "output_type": "stream",
     "text": [
      "Resample2d :  input1_size (img?) = torch.Size([8, 3, 128, 128]), input2_size (flow?) = torch.Size([8, 2, 128, 128])\n"
     ]
    },
    {
     "name": "stderr",
     "output_type": "stream",
     "text": [
      "Epoch 3/5 - Training:  29%|███████████████▋                                       | 32/112 [1:53:53<4:42:24, 211.81s/it]"
     ]
    },
    {
     "name": "stdout",
     "output_type": "stream",
     "text": [
      "Resample2d :  input1_size (img?) = torch.Size([8, 3, 128, 128]), input2_size (flow?) = torch.Size([8, 2, 128, 128])\n"
     ]
    },
    {
     "name": "stderr",
     "output_type": "stream",
     "text": [
      "Epoch 3/5 - Training:  29%|████████████████▏                                      | 33/112 [1:57:35<4:42:52, 214.85s/it]"
     ]
    },
    {
     "name": "stdout",
     "output_type": "stream",
     "text": [
      "Resample2d :  input1_size (img?) = torch.Size([8, 3, 128, 128]), input2_size (flow?) = torch.Size([8, 2, 128, 128])\n"
     ]
    },
    {
     "name": "stderr",
     "output_type": "stream",
     "text": [
      "Epoch 3/5 - Training:  30%|████████████████▋                                      | 34/112 [2:01:12<4:39:52, 215.29s/it]"
     ]
    },
    {
     "name": "stdout",
     "output_type": "stream",
     "text": [
      "Resample2d :  input1_size (img?) = torch.Size([8, 3, 128, 128]), input2_size (flow?) = torch.Size([8, 2, 128, 128])\n"
     ]
    },
    {
     "name": "stderr",
     "output_type": "stream",
     "text": [
      "Epoch 3/5 - Training:  31%|█████████████████▏                                     | 35/112 [2:04:43<4:34:46, 214.11s/it]"
     ]
    },
    {
     "name": "stdout",
     "output_type": "stream",
     "text": [
      "Resample2d :  input1_size (img?) = torch.Size([8, 3, 128, 128]), input2_size (flow?) = torch.Size([8, 2, 128, 128])\n"
     ]
    },
    {
     "name": "stderr",
     "output_type": "stream",
     "text": [
      "Epoch 3/5 - Training:  32%|█████████████████▋                                     | 36/112 [2:08:16<4:30:49, 213.81s/it]"
     ]
    },
    {
     "name": "stdout",
     "output_type": "stream",
     "text": [
      "Resample2d :  input1_size (img?) = torch.Size([8, 3, 128, 128]), input2_size (flow?) = torch.Size([8, 2, 128, 128])\n"
     ]
    },
    {
     "name": "stderr",
     "output_type": "stream",
     "text": [
      "Epoch 3/5 - Training:  33%|██████████████████▏                                    | 37/112 [2:11:52<4:28:01, 214.42s/it]"
     ]
    },
    {
     "name": "stdout",
     "output_type": "stream",
     "text": [
      "Resample2d :  input1_size (img?) = torch.Size([8, 3, 128, 128]), input2_size (flow?) = torch.Size([8, 2, 128, 128])\n"
     ]
    },
    {
     "name": "stderr",
     "output_type": "stream",
     "text": [
      "Epoch 3/5 - Training:  34%|██████████████████▋                                    | 38/112 [2:15:35<4:27:49, 217.15s/it]"
     ]
    },
    {
     "name": "stdout",
     "output_type": "stream",
     "text": [
      "Resample2d :  input1_size (img?) = torch.Size([8, 3, 128, 128]), input2_size (flow?) = torch.Size([8, 2, 128, 128])\n"
     ]
    },
    {
     "name": "stderr",
     "output_type": "stream",
     "text": [
      "Epoch 3/5 - Training:  35%|███████████████████▏                                   | 39/112 [2:19:21<4:27:08, 219.57s/it]"
     ]
    },
    {
     "name": "stdout",
     "output_type": "stream",
     "text": [
      "Resample2d :  input1_size (img?) = torch.Size([8, 3, 128, 128]), input2_size (flow?) = torch.Size([8, 2, 128, 128])\n"
     ]
    },
    {
     "name": "stderr",
     "output_type": "stream",
     "text": [
      "Epoch 3/5 - Training:  36%|███████████████████▋                                   | 40/112 [2:22:57<4:22:10, 218.48s/it]"
     ]
    },
    {
     "name": "stdout",
     "output_type": "stream",
     "text": [
      "Resample2d :  input1_size (img?) = torch.Size([8, 3, 128, 128]), input2_size (flow?) = torch.Size([8, 2, 128, 128])\n"
     ]
    },
    {
     "name": "stderr",
     "output_type": "stream",
     "text": [
      "Epoch 3/5 - Training:  37%|████████████████████▏                                  | 41/112 [2:26:33<4:17:41, 217.77s/it]"
     ]
    },
    {
     "name": "stdout",
     "output_type": "stream",
     "text": [
      "Resample2d :  input1_size (img?) = torch.Size([8, 3, 128, 128]), input2_size (flow?) = torch.Size([8, 2, 128, 128])\n"
     ]
    },
    {
     "name": "stderr",
     "output_type": "stream",
     "text": [
      "Epoch 3/5 - Training:  38%|████████████████████▋                                  | 42/112 [2:30:07<4:12:49, 216.71s/it]"
     ]
    },
    {
     "name": "stdout",
     "output_type": "stream",
     "text": [
      "Resample2d :  input1_size (img?) = torch.Size([8, 3, 128, 128]), input2_size (flow?) = torch.Size([8, 2, 128, 128])\n"
     ]
    },
    {
     "name": "stderr",
     "output_type": "stream",
     "text": [
      "Epoch 3/5 - Training:  38%|█████████████████████                                  | 43/112 [2:33:42<4:08:45, 216.31s/it]"
     ]
    },
    {
     "name": "stdout",
     "output_type": "stream",
     "text": [
      "Resample2d :  input1_size (img?) = torch.Size([8, 3, 128, 128]), input2_size (flow?) = torch.Size([8, 2, 128, 128])\n"
     ]
    },
    {
     "name": "stderr",
     "output_type": "stream",
     "text": [
      "Epoch 3/5 - Training:  39%|█████████████████████▌                                 | 44/112 [2:37:18<4:04:49, 216.02s/it]"
     ]
    },
    {
     "name": "stdout",
     "output_type": "stream",
     "text": [
      "Resample2d :  input1_size (img?) = torch.Size([8, 3, 128, 128]), input2_size (flow?) = torch.Size([8, 2, 128, 128])\n"
     ]
    },
    {
     "name": "stderr",
     "output_type": "stream",
     "text": [
      "Epoch 3/5 - Training:  40%|██████████████████████                                 | 45/112 [2:40:52<4:00:30, 215.38s/it]"
     ]
    },
    {
     "name": "stdout",
     "output_type": "stream",
     "text": [
      "Resample2d :  input1_size (img?) = torch.Size([8, 3, 128, 128]), input2_size (flow?) = torch.Size([8, 2, 128, 128])\n"
     ]
    },
    {
     "name": "stderr",
     "output_type": "stream",
     "text": [
      "Epoch 3/5 - Training:  41%|██████████████████████▌                                | 46/112 [2:44:27<3:56:58, 215.43s/it]"
     ]
    },
    {
     "name": "stdout",
     "output_type": "stream",
     "text": [
      "Resample2d :  input1_size (img?) = torch.Size([8, 3, 128, 128]), input2_size (flow?) = torch.Size([8, 2, 128, 128])\n"
     ]
    },
    {
     "name": "stderr",
     "output_type": "stream",
     "text": [
      "Epoch 3/5 - Training:  42%|███████████████████████                                | 47/112 [2:48:03<3:53:30, 215.54s/it]"
     ]
    },
    {
     "name": "stdout",
     "output_type": "stream",
     "text": [
      "Resample2d :  input1_size (img?) = torch.Size([8, 3, 128, 128]), input2_size (flow?) = torch.Size([8, 2, 128, 128])\n"
     ]
    },
    {
     "name": "stderr",
     "output_type": "stream",
     "text": [
      "Epoch 3/5 - Training:  43%|███████████████████████▌                               | 48/112 [2:51:39<3:50:02, 215.67s/it]"
     ]
    },
    {
     "name": "stdout",
     "output_type": "stream",
     "text": [
      "Resample2d :  input1_size (img?) = torch.Size([8, 3, 128, 128]), input2_size (flow?) = torch.Size([8, 2, 128, 128])\n"
     ]
    },
    {
     "name": "stderr",
     "output_type": "stream",
     "text": [
      "Epoch 3/5 - Training:  44%|████████████████████████                               | 49/112 [2:55:14<3:46:21, 215.57s/it]"
     ]
    },
    {
     "name": "stdout",
     "output_type": "stream",
     "text": [
      "Resample2d :  input1_size (img?) = torch.Size([8, 3, 128, 128]), input2_size (flow?) = torch.Size([8, 2, 128, 128])\n"
     ]
    },
    {
     "name": "stderr",
     "output_type": "stream",
     "text": [
      "Epoch 3/5 - Training:  45%|████████████████████████▌                              | 50/112 [2:58:50<3:42:43, 215.55s/it]"
     ]
    },
    {
     "name": "stdout",
     "output_type": "stream",
     "text": [
      "Resample2d :  input1_size (img?) = torch.Size([8, 3, 128, 128]), input2_size (flow?) = torch.Size([8, 2, 128, 128])\n"
     ]
    },
    {
     "name": "stderr",
     "output_type": "stream",
     "text": [
      "Epoch 3/5 - Training:  46%|█████████████████████████                              | 51/112 [3:02:25<3:39:04, 215.48s/it]"
     ]
    },
    {
     "name": "stdout",
     "output_type": "stream",
     "text": [
      "Resample2d :  input1_size (img?) = torch.Size([8, 3, 128, 128]), input2_size (flow?) = torch.Size([8, 2, 128, 128])\n"
     ]
    },
    {
     "name": "stderr",
     "output_type": "stream",
     "text": [
      "Epoch 3/5 - Training:  46%|█████████████████████████▌                             | 52/112 [3:06:00<3:35:28, 215.48s/it]"
     ]
    },
    {
     "name": "stdout",
     "output_type": "stream",
     "text": [
      "Resample2d :  input1_size (img?) = torch.Size([8, 3, 128, 128]), input2_size (flow?) = torch.Size([8, 2, 128, 128])\n"
     ]
    },
    {
     "name": "stderr",
     "output_type": "stream",
     "text": [
      "Epoch 3/5 - Training:  47%|██████████████████████████                             | 53/112 [3:09:37<3:32:06, 215.70s/it]"
     ]
    },
    {
     "name": "stdout",
     "output_type": "stream",
     "text": [
      "Resample2d :  input1_size (img?) = torch.Size([8, 3, 128, 128]), input2_size (flow?) = torch.Size([8, 2, 128, 128])\n"
     ]
    },
    {
     "name": "stderr",
     "output_type": "stream",
     "text": [
      "Epoch 3/5 - Training:  48%|██████████████████████████▌                            | 54/112 [3:13:12<3:28:28, 215.66s/it]"
     ]
    },
    {
     "name": "stdout",
     "output_type": "stream",
     "text": [
      "Resample2d :  input1_size (img?) = torch.Size([8, 3, 128, 128]), input2_size (flow?) = torch.Size([8, 2, 128, 128])\n"
     ]
    },
    {
     "name": "stderr",
     "output_type": "stream",
     "text": [
      "Epoch 3/5 - Training:  49%|███████████████████████████                            | 55/112 [3:16:49<3:25:05, 215.88s/it]"
     ]
    },
    {
     "name": "stdout",
     "output_type": "stream",
     "text": [
      "Resample2d :  input1_size (img?) = torch.Size([8, 3, 128, 128]), input2_size (flow?) = torch.Size([8, 2, 128, 128])\n"
     ]
    },
    {
     "name": "stderr",
     "output_type": "stream",
     "text": [
      "Epoch 3/5 - Training:  50%|███████████████████████████▌                           | 56/112 [3:20:24<3:21:17, 215.67s/it]"
     ]
    },
    {
     "name": "stdout",
     "output_type": "stream",
     "text": [
      "Resample2d :  input1_size (img?) = torch.Size([8, 3, 128, 128]), input2_size (flow?) = torch.Size([8, 2, 128, 128])\n"
     ]
    },
    {
     "name": "stderr",
     "output_type": "stream",
     "text": [
      "Epoch 3/5 - Training:  51%|███████████████████████████▉                           | 57/112 [3:23:58<3:17:11, 215.11s/it]"
     ]
    },
    {
     "name": "stdout",
     "output_type": "stream",
     "text": [
      "Resample2d :  input1_size (img?) = torch.Size([8, 3, 128, 128]), input2_size (flow?) = torch.Size([8, 2, 128, 128])\n"
     ]
    },
    {
     "name": "stderr",
     "output_type": "stream",
     "text": [
      "Epoch 3/5 - Training:  52%|████████████████████████████▍                          | 58/112 [3:27:31<3:13:09, 214.63s/it]"
     ]
    },
    {
     "name": "stdout",
     "output_type": "stream",
     "text": [
      "Resample2d :  input1_size (img?) = torch.Size([8, 3, 128, 128]), input2_size (flow?) = torch.Size([8, 2, 128, 128])\n"
     ]
    },
    {
     "name": "stderr",
     "output_type": "stream",
     "text": [
      "Epoch 3/5 - Training:  53%|████████████████████████████▉                          | 59/112 [3:31:07<3:09:55, 215.02s/it]"
     ]
    },
    {
     "name": "stdout",
     "output_type": "stream",
     "text": [
      "Resample2d :  input1_size (img?) = torch.Size([8, 3, 128, 128]), input2_size (flow?) = torch.Size([8, 2, 128, 128])\n"
     ]
    },
    {
     "name": "stderr",
     "output_type": "stream",
     "text": [
      "Epoch 3/5 - Training:  54%|█████████████████████████████▍                         | 60/112 [3:34:43<3:06:39, 215.38s/it]"
     ]
    },
    {
     "name": "stdout",
     "output_type": "stream",
     "text": [
      "Resample2d :  input1_size (img?) = torch.Size([8, 3, 128, 128]), input2_size (flow?) = torch.Size([8, 2, 128, 128])\n"
     ]
    },
    {
     "name": "stderr",
     "output_type": "stream",
     "text": [
      "Epoch 3/5 - Training:  54%|█████████████████████████████▉                         | 61/112 [3:38:17<3:02:44, 214.99s/it]"
     ]
    },
    {
     "name": "stdout",
     "output_type": "stream",
     "text": [
      "Resample2d :  input1_size (img?) = torch.Size([8, 3, 128, 128]), input2_size (flow?) = torch.Size([8, 2, 128, 128])\n"
     ]
    },
    {
     "name": "stderr",
     "output_type": "stream",
     "text": [
      "Epoch 3/5 - Training:  55%|██████████████████████████████▍                        | 62/112 [3:41:54<2:59:31, 215.42s/it]"
     ]
    },
    {
     "name": "stdout",
     "output_type": "stream",
     "text": [
      "Resample2d :  input1_size (img?) = torch.Size([8, 3, 128, 128]), input2_size (flow?) = torch.Size([8, 2, 128, 128])\n"
     ]
    },
    {
     "name": "stderr",
     "output_type": "stream",
     "text": [
      "Epoch 3/5 - Training:  56%|██████████████████████████████▉                        | 63/112 [3:45:28<2:55:42, 215.14s/it]"
     ]
    },
    {
     "name": "stdout",
     "output_type": "stream",
     "text": [
      "Resample2d :  input1_size (img?) = torch.Size([8, 3, 128, 128]), input2_size (flow?) = torch.Size([8, 2, 128, 128])\n"
     ]
    },
    {
     "name": "stderr",
     "output_type": "stream",
     "text": [
      "Epoch 3/5 - Training:  57%|███████████████████████████████▍                       | 64/112 [3:49:04<2:52:10, 215.22s/it]"
     ]
    },
    {
     "name": "stdout",
     "output_type": "stream",
     "text": [
      "Resample2d :  input1_size (img?) = torch.Size([8, 3, 128, 128]), input2_size (flow?) = torch.Size([8, 2, 128, 128])\n"
     ]
    },
    {
     "name": "stderr",
     "output_type": "stream",
     "text": [
      "Epoch 3/5 - Training:  58%|███████████████████████████████▉                       | 65/112 [3:52:40<2:48:51, 215.57s/it]"
     ]
    },
    {
     "name": "stdout",
     "output_type": "stream",
     "text": [
      "Resample2d :  input1_size (img?) = torch.Size([8, 3, 128, 128]), input2_size (flow?) = torch.Size([8, 2, 128, 128])\n"
     ]
    },
    {
     "name": "stderr",
     "output_type": "stream",
     "text": [
      "Epoch 3/5 - Training:  59%|████████████████████████████████▍                      | 66/112 [3:56:17<2:45:29, 215.87s/it]"
     ]
    },
    {
     "name": "stdout",
     "output_type": "stream",
     "text": [
      "Resample2d :  input1_size (img?) = torch.Size([8, 3, 128, 128]), input2_size (flow?) = torch.Size([8, 2, 128, 128])\n"
     ]
    },
    {
     "name": "stderr",
     "output_type": "stream",
     "text": [
      "Epoch 3/5 - Training:  60%|████████████████████████████████▉                      | 67/112 [3:59:48<2:40:51, 214.48s/it]"
     ]
    },
    {
     "name": "stdout",
     "output_type": "stream",
     "text": [
      "Resample2d :  input1_size (img?) = torch.Size([8, 3, 128, 128]), input2_size (flow?) = torch.Size([8, 2, 128, 128])\n"
     ]
    },
    {
     "name": "stderr",
     "output_type": "stream",
     "text": [
      "Epoch 3/5 - Training:  61%|█████████████████████████████████▍                     | 68/112 [4:03:24<2:37:33, 214.86s/it]"
     ]
    },
    {
     "name": "stdout",
     "output_type": "stream",
     "text": [
      "Resample2d :  input1_size (img?) = torch.Size([8, 3, 128, 128]), input2_size (flow?) = torch.Size([8, 2, 128, 128])\n"
     ]
    },
    {
     "name": "stderr",
     "output_type": "stream",
     "text": [
      "Epoch 3/5 - Training:  62%|█████████████████████████████████▉                     | 69/112 [4:06:59<2:34:05, 215.02s/it]"
     ]
    },
    {
     "name": "stdout",
     "output_type": "stream",
     "text": [
      "Resample2d :  input1_size (img?) = torch.Size([8, 3, 128, 128]), input2_size (flow?) = torch.Size([8, 2, 128, 128])\n"
     ]
    },
    {
     "name": "stderr",
     "output_type": "stream",
     "text": [
      "Epoch 3/5 - Training:  62%|██████████████████████████████████▍                    | 70/112 [4:10:35<2:30:37, 215.18s/it]"
     ]
    },
    {
     "name": "stdout",
     "output_type": "stream",
     "text": [
      "Resample2d :  input1_size (img?) = torch.Size([8, 3, 128, 128]), input2_size (flow?) = torch.Size([8, 2, 128, 128])\n"
     ]
    },
    {
     "name": "stderr",
     "output_type": "stream",
     "text": [
      "Epoch 3/5 - Training:  63%|██████████████████████████████████▊                    | 71/112 [4:14:12<2:27:30, 215.87s/it]"
     ]
    },
    {
     "name": "stdout",
     "output_type": "stream",
     "text": [
      "Resample2d :  input1_size (img?) = torch.Size([8, 3, 128, 128]), input2_size (flow?) = torch.Size([8, 2, 128, 128])\n"
     ]
    },
    {
     "name": "stderr",
     "output_type": "stream",
     "text": [
      "Epoch 3/5 - Training:  64%|███████████████████████████████████▎                   | 72/112 [4:17:48<2:23:53, 215.85s/it]"
     ]
    },
    {
     "name": "stdout",
     "output_type": "stream",
     "text": [
      "Resample2d :  input1_size (img?) = torch.Size([8, 3, 128, 128]), input2_size (flow?) = torch.Size([8, 2, 128, 128])\n"
     ]
    },
    {
     "name": "stderr",
     "output_type": "stream",
     "text": [
      "Epoch 3/5 - Training:  65%|███████████████████████████████████▊                   | 73/112 [4:21:22<2:19:53, 215.23s/it]"
     ]
    },
    {
     "name": "stdout",
     "output_type": "stream",
     "text": [
      "Resample2d :  input1_size (img?) = torch.Size([8, 3, 128, 128]), input2_size (flow?) = torch.Size([8, 2, 128, 128])\n"
     ]
    },
    {
     "name": "stderr",
     "output_type": "stream",
     "text": [
      "Epoch 3/5 - Training:  66%|████████████████████████████████████▎                  | 74/112 [4:25:11<2:18:58, 219.42s/it]"
     ]
    },
    {
     "name": "stdout",
     "output_type": "stream",
     "text": [
      "Resample2d :  input1_size (img?) = torch.Size([8, 3, 128, 128]), input2_size (flow?) = torch.Size([8, 2, 128, 128])\n"
     ]
    },
    {
     "name": "stderr",
     "output_type": "stream",
     "text": [
      "Epoch 3/5 - Training:  67%|████████████████████████████████████▊                  | 75/112 [4:28:48<2:14:51, 218.70s/it]"
     ]
    },
    {
     "name": "stdout",
     "output_type": "stream",
     "text": [
      "Resample2d :  input1_size (img?) = torch.Size([8, 3, 128, 128]), input2_size (flow?) = torch.Size([8, 2, 128, 128])\n"
     ]
    },
    {
     "name": "stderr",
     "output_type": "stream",
     "text": [
      "Epoch 3/5 - Training:  68%|█████████████████████████████████████▎                 | 76/112 [4:32:26<2:11:05, 218.49s/it]"
     ]
    },
    {
     "name": "stdout",
     "output_type": "stream",
     "text": [
      "Resample2d :  input1_size (img?) = torch.Size([8, 3, 128, 128]), input2_size (flow?) = torch.Size([8, 2, 128, 128])\n"
     ]
    },
    {
     "name": "stderr",
     "output_type": "stream",
     "text": [
      "Epoch 3/5 - Training:  69%|█████████████████████████████████████▊                 | 77/112 [4:36:03<2:07:09, 217.99s/it]"
     ]
    },
    {
     "name": "stdout",
     "output_type": "stream",
     "text": [
      "Resample2d :  input1_size (img?) = torch.Size([8, 3, 128, 128]), input2_size (flow?) = torch.Size([8, 2, 128, 128])\n"
     ]
    },
    {
     "name": "stderr",
     "output_type": "stream",
     "text": [
      "Epoch 3/5 - Training:  70%|██████████████████████████████████████▎                | 78/112 [4:39:41<2:03:31, 218.00s/it]"
     ]
    },
    {
     "name": "stdout",
     "output_type": "stream",
     "text": [
      "Resample2d :  input1_size (img?) = torch.Size([8, 3, 128, 128]), input2_size (flow?) = torch.Size([8, 2, 128, 128])\n"
     ]
    },
    {
     "name": "stderr",
     "output_type": "stream",
     "text": [
      "Epoch 3/5 - Training:  71%|██████████████████████████████████████▊                | 79/112 [4:43:20<2:00:06, 218.39s/it]"
     ]
    },
    {
     "name": "stdout",
     "output_type": "stream",
     "text": [
      "Resample2d :  input1_size (img?) = torch.Size([8, 3, 128, 128]), input2_size (flow?) = torch.Size([8, 2, 128, 128])\n"
     ]
    },
    {
     "name": "stderr",
     "output_type": "stream",
     "text": [
      "Epoch 3/5 - Training:  71%|███████████████████████████████████████▎               | 80/112 [4:46:59<1:56:35, 218.61s/it]"
     ]
    },
    {
     "name": "stdout",
     "output_type": "stream",
     "text": [
      "Resample2d :  input1_size (img?) = torch.Size([8, 3, 128, 128]), input2_size (flow?) = torch.Size([8, 2, 128, 128])\n"
     ]
    },
    {
     "name": "stderr",
     "output_type": "stream",
     "text": [
      "Epoch 3/5 - Training:  72%|███████████████████████████████████████▊               | 81/112 [4:50:38<1:52:58, 218.67s/it]"
     ]
    },
    {
     "name": "stdout",
     "output_type": "stream",
     "text": [
      "Resample2d :  input1_size (img?) = torch.Size([8, 3, 128, 128]), input2_size (flow?) = torch.Size([8, 2, 128, 128])\n"
     ]
    },
    {
     "name": "stderr",
     "output_type": "stream",
     "text": [
      "Epoch 3/5 - Training:  73%|████████████████████████████████████████▎              | 82/112 [4:54:18<1:49:36, 219.20s/it]"
     ]
    },
    {
     "name": "stdout",
     "output_type": "stream",
     "text": [
      "Resample2d :  input1_size (img?) = torch.Size([8, 3, 128, 128]), input2_size (flow?) = torch.Size([8, 2, 128, 128])\n"
     ]
    },
    {
     "name": "stderr",
     "output_type": "stream",
     "text": [
      "Epoch 3/5 - Training:  74%|████████████████████████████████████████▊              | 83/112 [4:57:58<1:45:56, 219.21s/it]"
     ]
    },
    {
     "name": "stdout",
     "output_type": "stream",
     "text": [
      "Resample2d :  input1_size (img?) = torch.Size([8, 3, 128, 128]), input2_size (flow?) = torch.Size([8, 2, 128, 128])\n"
     ]
    },
    {
     "name": "stderr",
     "output_type": "stream",
     "text": [
      "Epoch 3/5 - Training:  75%|█████████████████████████████████████████▎             | 84/112 [5:01:35<1:42:04, 218.71s/it]"
     ]
    },
    {
     "name": "stdout",
     "output_type": "stream",
     "text": [
      "Resample2d :  input1_size (img?) = torch.Size([8, 3, 128, 128]), input2_size (flow?) = torch.Size([8, 2, 128, 128])\n"
     ]
    },
    {
     "name": "stderr",
     "output_type": "stream",
     "text": [
      "Epoch 3/5 - Training:  76%|█████████████████████████████████████████▋             | 85/112 [5:05:17<1:38:48, 219.57s/it]"
     ]
    },
    {
     "name": "stdout",
     "output_type": "stream",
     "text": [
      "Resample2d :  input1_size (img?) = torch.Size([8, 3, 128, 128]), input2_size (flow?) = torch.Size([8, 2, 128, 128])\n"
     ]
    },
    {
     "name": "stderr",
     "output_type": "stream",
     "text": [
      "Epoch 3/5 - Training:  77%|██████████████████████████████████████████▏            | 86/112 [5:08:53<1:34:46, 218.72s/it]"
     ]
    },
    {
     "name": "stdout",
     "output_type": "stream",
     "text": [
      "Resample2d :  input1_size (img?) = torch.Size([8, 3, 128, 128]), input2_size (flow?) = torch.Size([8, 2, 128, 128])\n"
     ]
    },
    {
     "name": "stderr",
     "output_type": "stream",
     "text": [
      "Epoch 3/5 - Training:  78%|██████████████████████████████████████████▋            | 87/112 [5:12:33<1:31:10, 218.82s/it]"
     ]
    },
    {
     "name": "stdout",
     "output_type": "stream",
     "text": [
      "Resample2d :  input1_size (img?) = torch.Size([8, 3, 128, 128]), input2_size (flow?) = torch.Size([8, 2, 128, 128])\n"
     ]
    },
    {
     "name": "stderr",
     "output_type": "stream",
     "text": [
      "Epoch 3/5 - Training:  79%|███████████████████████████████████████████▏           | 88/112 [5:16:10<1:27:21, 218.40s/it]"
     ]
    },
    {
     "name": "stdout",
     "output_type": "stream",
     "text": [
      "Resample2d :  input1_size (img?) = torch.Size([8, 3, 128, 128]), input2_size (flow?) = torch.Size([8, 2, 128, 128])\n"
     ]
    },
    {
     "name": "stderr",
     "output_type": "stream",
     "text": [
      "Epoch 3/5 - Training:  79%|███████████████████████████████████████████▋           | 89/112 [5:19:48<1:23:43, 218.40s/it]"
     ]
    },
    {
     "name": "stdout",
     "output_type": "stream",
     "text": [
      "Resample2d :  input1_size (img?) = torch.Size([8, 3, 128, 128]), input2_size (flow?) = torch.Size([8, 2, 128, 128])\n"
     ]
    },
    {
     "name": "stderr",
     "output_type": "stream",
     "text": [
      "Epoch 3/5 - Training:  80%|████████████████████████████████████████████▏          | 90/112 [5:23:24<1:19:44, 217.46s/it]"
     ]
    },
    {
     "name": "stdout",
     "output_type": "stream",
     "text": [
      "Resample2d :  input1_size (img?) = torch.Size([8, 3, 128, 128]), input2_size (flow?) = torch.Size([8, 2, 128, 128])\n"
     ]
    },
    {
     "name": "stderr",
     "output_type": "stream",
     "text": [
      "Epoch 3/5 - Training:  81%|████████████████████████████████████████████▋          | 91/112 [5:27:00<1:16:01, 217.24s/it]"
     ]
    },
    {
     "name": "stdout",
     "output_type": "stream",
     "text": [
      "Resample2d :  input1_size (img?) = torch.Size([8, 3, 128, 128]), input2_size (flow?) = torch.Size([8, 2, 128, 128])\n"
     ]
    },
    {
     "name": "stderr",
     "output_type": "stream",
     "text": [
      "Epoch 3/5 - Training:  82%|█████████████████████████████████████████████▏         | 92/112 [5:30:39<1:12:32, 217.65s/it]"
     ]
    },
    {
     "name": "stdout",
     "output_type": "stream",
     "text": [
      "Resample2d :  input1_size (img?) = torch.Size([8, 3, 128, 128]), input2_size (flow?) = torch.Size([8, 2, 128, 128])\n"
     ]
    },
    {
     "name": "stderr",
     "output_type": "stream",
     "text": [
      "Epoch 3/5 - Training:  83%|█████████████████████████████████████████████▋         | 93/112 [5:34:19<1:09:06, 218.26s/it]"
     ]
    },
    {
     "name": "stdout",
     "output_type": "stream",
     "text": [
      "Resample2d :  input1_size (img?) = torch.Size([8, 3, 128, 128]), input2_size (flow?) = torch.Size([8, 2, 128, 128])\n"
     ]
    },
    {
     "name": "stderr",
     "output_type": "stream",
     "text": [
      "Epoch 3/5 - Training:  84%|██████████████████████████████████████████████▏        | 94/112 [5:37:54<1:05:10, 217.26s/it]"
     ]
    },
    {
     "name": "stdout",
     "output_type": "stream",
     "text": [
      "Resample2d :  input1_size (img?) = torch.Size([8, 3, 128, 128]), input2_size (flow?) = torch.Size([8, 2, 128, 128])\n"
     ]
    },
    {
     "name": "stderr",
     "output_type": "stream",
     "text": [
      "Epoch 3/5 - Training:  85%|██████████████████████████████████████████████▋        | 95/112 [5:41:27<1:01:14, 216.17s/it]"
     ]
    },
    {
     "name": "stdout",
     "output_type": "stream",
     "text": [
      "Resample2d :  input1_size (img?) = torch.Size([8, 3, 128, 128]), input2_size (flow?) = torch.Size([8, 2, 128, 128])\n"
     ]
    },
    {
     "name": "stderr",
     "output_type": "stream",
     "text": [
      "Epoch 3/5 - Training:  86%|████████████████████████████████████████████████▊        | 96/112 [5:45:04<57:43, 216.49s/it]"
     ]
    },
    {
     "name": "stdout",
     "output_type": "stream",
     "text": [
      "Resample2d :  input1_size (img?) = torch.Size([8, 3, 128, 128]), input2_size (flow?) = torch.Size([8, 2, 128, 128])\n"
     ]
    },
    {
     "name": "stderr",
     "output_type": "stream",
     "text": [
      "Epoch 3/5 - Training:  87%|█████████████████████████████████████████████████▎       | 97/112 [5:48:42<54:12, 216.82s/it]"
     ]
    },
    {
     "name": "stdout",
     "output_type": "stream",
     "text": [
      "Resample2d :  input1_size (img?) = torch.Size([8, 3, 128, 128]), input2_size (flow?) = torch.Size([8, 2, 128, 128])\n"
     ]
    },
    {
     "name": "stderr",
     "output_type": "stream",
     "text": [
      "Epoch 3/5 - Training:  88%|█████████████████████████████████████████████████▉       | 98/112 [5:52:20<50:41, 217.27s/it]"
     ]
    },
    {
     "name": "stdout",
     "output_type": "stream",
     "text": [
      "Resample2d :  input1_size (img?) = torch.Size([8, 3, 128, 128]), input2_size (flow?) = torch.Size([8, 2, 128, 128])\n"
     ]
    },
    {
     "name": "stderr",
     "output_type": "stream",
     "text": [
      "Epoch 3/5 - Training:  88%|██████████████████████████████████████████████████▍      | 99/112 [5:55:55<46:54, 216.53s/it]"
     ]
    },
    {
     "name": "stdout",
     "output_type": "stream",
     "text": [
      "Resample2d :  input1_size (img?) = torch.Size([8, 3, 128, 128]), input2_size (flow?) = torch.Size([8, 2, 128, 128])\n"
     ]
    },
    {
     "name": "stderr",
     "output_type": "stream",
     "text": [
      "Epoch 3/5 - Training:  89%|██████████████████████████████████████████████████      | 100/112 [5:59:31<43:16, 216.40s/it]"
     ]
    },
    {
     "name": "stdout",
     "output_type": "stream",
     "text": [
      "Resample2d :  input1_size (img?) = torch.Size([8, 3, 128, 128]), input2_size (flow?) = torch.Size([8, 2, 128, 128])\n"
     ]
    },
    {
     "name": "stderr",
     "output_type": "stream",
     "text": [
      "Epoch 3/5 - Training:  90%|██████████████████████████████████████████████████▌     | 101/112 [6:03:06<39:36, 216.04s/it]"
     ]
    },
    {
     "name": "stdout",
     "output_type": "stream",
     "text": [
      "Resample2d :  input1_size (img?) = torch.Size([8, 3, 128, 128]), input2_size (flow?) = torch.Size([8, 2, 128, 128])\n"
     ]
    },
    {
     "name": "stderr",
     "output_type": "stream",
     "text": [
      "Epoch 3/5 - Training:  91%|███████████████████████████████████████████████████     | 102/112 [6:06:44<36:04, 216.47s/it]"
     ]
    },
    {
     "name": "stdout",
     "output_type": "stream",
     "text": [
      "Resample2d :  input1_size (img?) = torch.Size([8, 3, 128, 128]), input2_size (flow?) = torch.Size([8, 2, 128, 128])\n"
     ]
    },
    {
     "name": "stderr",
     "output_type": "stream",
     "text": [
      "Epoch 3/5 - Training:  92%|███████████████████████████████████████████████████▌    | 103/112 [6:10:20<32:26, 216.27s/it]"
     ]
    },
    {
     "name": "stdout",
     "output_type": "stream",
     "text": [
      "Resample2d :  input1_size (img?) = torch.Size([8, 3, 128, 128]), input2_size (flow?) = torch.Size([8, 2, 128, 128])\n"
     ]
    },
    {
     "name": "stderr",
     "output_type": "stream",
     "text": [
      "Epoch 3/5 - Training:  93%|████████████████████████████████████████████████████    | 104/112 [6:13:55<28:46, 215.86s/it]"
     ]
    },
    {
     "name": "stdout",
     "output_type": "stream",
     "text": [
      "Resample2d :  input1_size (img?) = torch.Size([8, 3, 128, 128]), input2_size (flow?) = torch.Size([8, 2, 128, 128])\n"
     ]
    },
    {
     "name": "stderr",
     "output_type": "stream",
     "text": [
      "Epoch 3/5 - Training:  94%|████████████████████████████████████████████████████▌   | 105/112 [6:17:33<25:15, 216.48s/it]"
     ]
    },
    {
     "name": "stdout",
     "output_type": "stream",
     "text": [
      "Resample2d :  input1_size (img?) = torch.Size([8, 3, 128, 128]), input2_size (flow?) = torch.Size([8, 2, 128, 128])\n"
     ]
    },
    {
     "name": "stderr",
     "output_type": "stream",
     "text": [
      "Epoch 3/5 - Training:  95%|█████████████████████████████████████████████████████   | 106/112 [6:21:09<21:39, 216.52s/it]"
     ]
    },
    {
     "name": "stdout",
     "output_type": "stream",
     "text": [
      "Resample2d :  input1_size (img?) = torch.Size([8, 3, 128, 128]), input2_size (flow?) = torch.Size([8, 2, 128, 128])\n"
     ]
    },
    {
     "name": "stderr",
     "output_type": "stream",
     "text": [
      "Epoch 3/5 - Training:  96%|█████████████████████████████████████████████████████▌  | 107/112 [6:24:46<18:03, 216.63s/it]"
     ]
    },
    {
     "name": "stdout",
     "output_type": "stream",
     "text": [
      "Resample2d :  input1_size (img?) = torch.Size([8, 3, 128, 128]), input2_size (flow?) = torch.Size([8, 2, 128, 128])\n"
     ]
    },
    {
     "name": "stderr",
     "output_type": "stream",
     "text": [
      "Epoch 3/5 - Training:  96%|██████████████████████████████████████████████████████  | 108/112 [6:28:22<14:25, 216.30s/it]"
     ]
    },
    {
     "name": "stdout",
     "output_type": "stream",
     "text": [
      "Resample2d :  input1_size (img?) = torch.Size([8, 3, 128, 128]), input2_size (flow?) = torch.Size([8, 2, 128, 128])\n"
     ]
    },
    {
     "name": "stderr",
     "output_type": "stream",
     "text": [
      "Epoch 3/5 - Training:  97%|██████████████████████████████████████████████████████▌ | 109/112 [6:31:56<10:46, 215.64s/it]"
     ]
    },
    {
     "name": "stdout",
     "output_type": "stream",
     "text": [
      "Resample2d :  input1_size (img?) = torch.Size([8, 3, 128, 128]), input2_size (flow?) = torch.Size([8, 2, 128, 128])\n"
     ]
    },
    {
     "name": "stderr",
     "output_type": "stream",
     "text": [
      "Epoch 3/5 - Training:  98%|███████████████████████████████████████████████████████ | 110/112 [6:35:34<07:13, 216.51s/it]"
     ]
    },
    {
     "name": "stdout",
     "output_type": "stream",
     "text": [
      "Resample2d :  input1_size (img?) = torch.Size([8, 3, 128, 128]), input2_size (flow?) = torch.Size([8, 2, 128, 128])\n"
     ]
    },
    {
     "name": "stderr",
     "output_type": "stream",
     "text": [
      "Epoch 3/5 - Training:  99%|███████████████████████████████████████████████████████▌| 111/112 [6:39:12<03:36, 216.78s/it]"
     ]
    },
    {
     "name": "stdout",
     "output_type": "stream",
     "text": [
      "Resample2d :  input1_size (img?) = torch.Size([8, 3, 128, 128]), input2_size (flow?) = torch.Size([8, 2, 128, 128])\n"
     ]
    },
    {
     "name": "stderr",
     "output_type": "stream",
     "text": [
      "                                                                                                                        \r"
     ]
    },
    {
     "name": "stdout",
     "output_type": "stream",
     "text": [
      "Resample2d :  input1_size (img?) = torch.Size([8, 3, 128, 128]), input2_size (flow?) = torch.Size([8, 2, 128, 128])\n"
     ]
    },
    {
     "name": "stderr",
     "output_type": "stream",
     "text": [
      "Epoch 3/5 - Validation:   9%|█████▎                                                     | 1/11 [03:34<35:42, 214.24s/it]"
     ]
    },
    {
     "name": "stdout",
     "output_type": "stream",
     "text": [
      "Resample2d :  input1_size (img?) = torch.Size([8, 3, 128, 128]), input2_size (flow?) = torch.Size([8, 2, 128, 128])\n"
     ]
    },
    {
     "name": "stderr",
     "output_type": "stream",
     "text": [
      "Epoch 3/5 - Validation:  18%|██████████▋                                                | 2/11 [07:11<32:26, 216.25s/it]"
     ]
    },
    {
     "name": "stdout",
     "output_type": "stream",
     "text": [
      "Resample2d :  input1_size (img?) = torch.Size([8, 3, 128, 128]), input2_size (flow?) = torch.Size([8, 2, 128, 128])\n"
     ]
    },
    {
     "name": "stderr",
     "output_type": "stream",
     "text": [
      "Epoch 3/5 - Validation:  27%|████████████████                                           | 3/11 [10:51<29:01, 217.64s/it]"
     ]
    },
    {
     "name": "stdout",
     "output_type": "stream",
     "text": [
      "Resample2d :  input1_size (img?) = torch.Size([8, 3, 128, 128]), input2_size (flow?) = torch.Size([8, 2, 128, 128])\n"
     ]
    },
    {
     "name": "stderr",
     "output_type": "stream",
     "text": [
      "Epoch 3/5 - Validation:  36%|█████████████████████▍                                     | 4/11 [14:28<25:22, 217.50s/it]"
     ]
    },
    {
     "name": "stdout",
     "output_type": "stream",
     "text": [
      "Resample2d :  input1_size (img?) = torch.Size([8, 3, 128, 128]), input2_size (flow?) = torch.Size([8, 2, 128, 128])\n"
     ]
    },
    {
     "name": "stderr",
     "output_type": "stream",
     "text": [
      "Epoch 3/5 - Validation:  45%|██████████████████████████▊                                | 5/11 [18:03<21:39, 216.57s/it]"
     ]
    },
    {
     "name": "stdout",
     "output_type": "stream",
     "text": [
      "Resample2d :  input1_size (img?) = torch.Size([8, 3, 128, 128]), input2_size (flow?) = torch.Size([8, 2, 128, 128])\n"
     ]
    },
    {
     "name": "stderr",
     "output_type": "stream",
     "text": [
      "Epoch 3/5 - Validation:  55%|████████████████████████████████▏                          | 6/11 [21:36<17:57, 215.46s/it]"
     ]
    },
    {
     "name": "stdout",
     "output_type": "stream",
     "text": [
      "Resample2d :  input1_size (img?) = torch.Size([8, 3, 128, 128]), input2_size (flow?) = torch.Size([8, 2, 128, 128])\n"
     ]
    },
    {
     "name": "stderr",
     "output_type": "stream",
     "text": [
      "Epoch 3/5 - Validation:  64%|█████████████████████████████████████▌                     | 7/11 [25:08<14:17, 214.36s/it]"
     ]
    },
    {
     "name": "stdout",
     "output_type": "stream",
     "text": [
      "Resample2d :  input1_size (img?) = torch.Size([8, 3, 128, 128]), input2_size (flow?) = torch.Size([8, 2, 128, 128])\n"
     ]
    },
    {
     "name": "stderr",
     "output_type": "stream",
     "text": [
      "Epoch 3/5 - Validation:  73%|██████████████████████████████████████████▉                | 8/11 [28:45<10:45, 215.07s/it]"
     ]
    },
    {
     "name": "stdout",
     "output_type": "stream",
     "text": [
      "Resample2d :  input1_size (img?) = torch.Size([8, 3, 128, 128]), input2_size (flow?) = torch.Size([8, 2, 128, 128])\n"
     ]
    },
    {
     "name": "stderr",
     "output_type": "stream",
     "text": [
      "Epoch 3/5 - Validation:  82%|████████████████████████████████████████████████▎          | 9/11 [32:17<07:08, 214.10s/it]"
     ]
    },
    {
     "name": "stdout",
     "output_type": "stream",
     "text": [
      "Resample2d :  input1_size (img?) = torch.Size([8, 3, 128, 128]), input2_size (flow?) = torch.Size([8, 2, 128, 128])\n"
     ]
    },
    {
     "name": "stderr",
     "output_type": "stream",
     "text": [
      "Epoch 3/5 - Validation:  91%|████████████████████████████████████████████████████▋     | 10/11 [35:52<03:34, 214.41s/it]"
     ]
    },
    {
     "name": "stdout",
     "output_type": "stream",
     "text": [
      "Resample2d :  input1_size (img?) = torch.Size([8, 3, 128, 128]), input2_size (flow?) = torch.Size([8, 2, 128, 128])\n"
     ]
    },
    {
     "name": "stderr",
     "output_type": "stream",
     "text": [
      "                                                                                                                        \r"
     ]
    },
    {
     "name": "stdout",
     "output_type": "stream",
     "text": [
      "Resample2d :  input1_size (img?) = torch.Size([8, 3, 128, 128]), input2_size (flow?) = torch.Size([8, 2, 128, 128])\n",
      "Epoch 3/5, Train Loss: nan, Validation Loss: nan\n"
     ]
    },
    {
     "name": "stderr",
     "output_type": "stream",
     "text": [
      "Epoch 4/5 - Training:   1%|▌                                                         | 1/112 [03:33<6:35:28, 213.77s/it]"
     ]
    },
    {
     "name": "stdout",
     "output_type": "stream",
     "text": [
      "Resample2d :  input1_size (img?) = torch.Size([8, 3, 128, 128]), input2_size (flow?) = torch.Size([8, 2, 128, 128])\n"
     ]
    },
    {
     "name": "stderr",
     "output_type": "stream",
     "text": [
      "Epoch 4/5 - Training:   2%|█                                                         | 2/112 [07:07<6:31:44, 213.68s/it]"
     ]
    },
    {
     "name": "stdout",
     "output_type": "stream",
     "text": [
      "Resample2d :  input1_size (img?) = torch.Size([8, 3, 128, 128]), input2_size (flow?) = torch.Size([8, 2, 128, 128])\n"
     ]
    },
    {
     "name": "stderr",
     "output_type": "stream",
     "text": [
      "Epoch 4/5 - Training:   3%|█▌                                                        | 3/112 [10:43<6:29:52, 214.61s/it]"
     ]
    },
    {
     "name": "stdout",
     "output_type": "stream",
     "text": [
      "Resample2d :  input1_size (img?) = torch.Size([8, 3, 128, 128]), input2_size (flow?) = torch.Size([8, 2, 128, 128])\n"
     ]
    },
    {
     "name": "stderr",
     "output_type": "stream",
     "text": [
      "Epoch 4/5 - Training:   4%|██                                                        | 4/112 [14:17<6:25:48, 214.34s/it]"
     ]
    },
    {
     "name": "stdout",
     "output_type": "stream",
     "text": [
      "Resample2d :  input1_size (img?) = torch.Size([8, 3, 128, 128]), input2_size (flow?) = torch.Size([8, 2, 128, 128])\n"
     ]
    },
    {
     "name": "stderr",
     "output_type": "stream",
     "text": [
      "Epoch 4/5 - Training:   4%|██▌                                                       | 5/112 [17:52<6:23:04, 214.81s/it]"
     ]
    },
    {
     "name": "stdout",
     "output_type": "stream",
     "text": [
      "Resample2d :  input1_size (img?) = torch.Size([8, 3, 128, 128]), input2_size (flow?) = torch.Size([8, 2, 128, 128])\n"
     ]
    },
    {
     "name": "stderr",
     "output_type": "stream",
     "text": [
      "Epoch 4/5 - Training:   5%|███                                                       | 6/112 [21:29<6:20:25, 215.33s/it]"
     ]
    },
    {
     "name": "stdout",
     "output_type": "stream",
     "text": [
      "Resample2d :  input1_size (img?) = torch.Size([8, 3, 128, 128]), input2_size (flow?) = torch.Size([8, 2, 128, 128])\n"
     ]
    },
    {
     "name": "stderr",
     "output_type": "stream",
     "text": [
      "Epoch 4/5 - Training:   6%|███▋                                                      | 7/112 [25:06<6:17:57, 215.97s/it]"
     ]
    },
    {
     "name": "stdout",
     "output_type": "stream",
     "text": [
      "Resample2d :  input1_size (img?) = torch.Size([8, 3, 128, 128]), input2_size (flow?) = torch.Size([8, 2, 128, 128])\n"
     ]
    },
    {
     "name": "stderr",
     "output_type": "stream",
     "text": [
      "Epoch 4/5 - Training:   7%|████▏                                                     | 8/112 [28:48<6:17:39, 217.88s/it]"
     ]
    },
    {
     "name": "stdout",
     "output_type": "stream",
     "text": [
      "Resample2d :  input1_size (img?) = torch.Size([8, 3, 128, 128]), input2_size (flow?) = torch.Size([8, 2, 128, 128])\n"
     ]
    },
    {
     "name": "stderr",
     "output_type": "stream",
     "text": [
      "Epoch 4/5 - Training:   8%|████▋                                                     | 9/112 [32:23<6:12:35, 217.05s/it]"
     ]
    },
    {
     "name": "stdout",
     "output_type": "stream",
     "text": [
      "Resample2d :  input1_size (img?) = torch.Size([8, 3, 128, 128]), input2_size (flow?) = torch.Size([8, 2, 128, 128])\n"
     ]
    },
    {
     "name": "stderr",
     "output_type": "stream",
     "text": [
      "Epoch 4/5 - Training:   9%|█████                                                    | 10/112 [35:59<6:08:31, 216.78s/it]"
     ]
    },
    {
     "name": "stdout",
     "output_type": "stream",
     "text": [
      "Resample2d :  input1_size (img?) = torch.Size([8, 3, 128, 128]), input2_size (flow?) = torch.Size([8, 2, 128, 128])\n"
     ]
    },
    {
     "name": "stderr",
     "output_type": "stream",
     "text": [
      "Epoch 4/5 - Training:  10%|█████▌                                                   | 11/112 [39:41<6:07:44, 218.46s/it]"
     ]
    },
    {
     "name": "stdout",
     "output_type": "stream",
     "text": [
      "Resample2d :  input1_size (img?) = torch.Size([8, 3, 128, 128]), input2_size (flow?) = torch.Size([8, 2, 128, 128])\n"
     ]
    },
    {
     "name": "stderr",
     "output_type": "stream",
     "text": [
      "Epoch 4/5 - Training:  11%|██████                                                   | 12/112 [43:18<6:03:21, 218.01s/it]"
     ]
    },
    {
     "name": "stdout",
     "output_type": "stream",
     "text": [
      "Resample2d :  input1_size (img?) = torch.Size([8, 3, 128, 128]), input2_size (flow?) = torch.Size([8, 2, 128, 128])\n"
     ]
    },
    {
     "name": "stderr",
     "output_type": "stream",
     "text": [
      "Epoch 4/5 - Training:  12%|██████▌                                                  | 13/112 [46:54<5:58:33, 217.30s/it]"
     ]
    },
    {
     "name": "stdout",
     "output_type": "stream",
     "text": [
      "Resample2d :  input1_size (img?) = torch.Size([8, 3, 128, 128]), input2_size (flow?) = torch.Size([8, 2, 128, 128])\n"
     ]
    },
    {
     "name": "stderr",
     "output_type": "stream",
     "text": [
      "Epoch 4/5 - Training:  12%|███████▏                                                 | 14/112 [50:34<5:56:03, 217.99s/it]"
     ]
    },
    {
     "name": "stdout",
     "output_type": "stream",
     "text": [
      "Resample2d :  input1_size (img?) = torch.Size([8, 3, 128, 128]), input2_size (flow?) = torch.Size([8, 2, 128, 128])\n"
     ]
    },
    {
     "name": "stderr",
     "output_type": "stream",
     "text": [
      "Epoch 4/5 - Training:  13%|███████▋                                                 | 15/112 [54:17<5:54:48, 219.47s/it]"
     ]
    },
    {
     "name": "stdout",
     "output_type": "stream",
     "text": [
      "Resample2d :  input1_size (img?) = torch.Size([8, 3, 128, 128]), input2_size (flow?) = torch.Size([8, 2, 128, 128])\n"
     ]
    },
    {
     "name": "stderr",
     "output_type": "stream",
     "text": [
      "Epoch 4/5 - Training:  14%|████████▏                                                | 16/112 [58:00<5:52:50, 220.53s/it]"
     ]
    },
    {
     "name": "stdout",
     "output_type": "stream",
     "text": [
      "Resample2d :  input1_size (img?) = torch.Size([8, 3, 128, 128]), input2_size (flow?) = torch.Size([8, 2, 128, 128])\n"
     ]
    },
    {
     "name": "stderr",
     "output_type": "stream",
     "text": [
      "Epoch 4/5 - Training:  15%|████████▎                                              | 17/112 [1:01:43<5:50:37, 221.45s/it]"
     ]
    },
    {
     "name": "stdout",
     "output_type": "stream",
     "text": [
      "Resample2d :  input1_size (img?) = torch.Size([8, 3, 128, 128]), input2_size (flow?) = torch.Size([8, 2, 128, 128])\n"
     ]
    },
    {
     "name": "stderr",
     "output_type": "stream",
     "text": [
      "Epoch 4/5 - Training:  16%|████████▊                                              | 18/112 [1:05:28<5:48:42, 222.58s/it]"
     ]
    },
    {
     "name": "stdout",
     "output_type": "stream",
     "text": [
      "Resample2d :  input1_size (img?) = torch.Size([8, 3, 128, 128]), input2_size (flow?) = torch.Size([8, 2, 128, 128])\n"
     ]
    },
    {
     "name": "stderr",
     "output_type": "stream",
     "text": [
      "Epoch 4/5 - Training:  17%|█████████▎                                             | 19/112 [1:09:10<5:44:42, 222.40s/it]"
     ]
    },
    {
     "name": "stdout",
     "output_type": "stream",
     "text": [
      "Resample2d :  input1_size (img?) = torch.Size([8, 3, 128, 128]), input2_size (flow?) = torch.Size([8, 2, 128, 128])\n"
     ]
    },
    {
     "name": "stderr",
     "output_type": "stream",
     "text": [
      "Epoch 4/5 - Training:  18%|█████████▊                                             | 20/112 [1:12:49<5:39:14, 221.25s/it]"
     ]
    },
    {
     "name": "stdout",
     "output_type": "stream",
     "text": [
      "Resample2d :  input1_size (img?) = torch.Size([8, 3, 128, 128]), input2_size (flow?) = torch.Size([8, 2, 128, 128])\n"
     ]
    },
    {
     "name": "stderr",
     "output_type": "stream",
     "text": [
      "Epoch 4/5 - Training:  19%|██████████▎                                            | 21/112 [1:16:24<5:32:55, 219.51s/it]"
     ]
    },
    {
     "name": "stdout",
     "output_type": "stream",
     "text": [
      "Resample2d :  input1_size (img?) = torch.Size([8, 3, 128, 128]), input2_size (flow?) = torch.Size([8, 2, 128, 128])\n"
     ]
    },
    {
     "name": "stderr",
     "output_type": "stream",
     "text": [
      "Epoch 4/5 - Training:  20%|██████████▊                                            | 22/112 [1:20:01<5:27:53, 218.60s/it]"
     ]
    },
    {
     "name": "stdout",
     "output_type": "stream",
     "text": [
      "Resample2d :  input1_size (img?) = torch.Size([8, 3, 128, 128]), input2_size (flow?) = torch.Size([8, 2, 128, 128])\n"
     ]
    },
    {
     "name": "stderr",
     "output_type": "stream",
     "text": [
      "Epoch 4/5 - Training:  21%|███████████▎                                           | 23/112 [1:23:37<5:23:21, 217.99s/it]"
     ]
    },
    {
     "name": "stdout",
     "output_type": "stream",
     "text": [
      "Resample2d :  input1_size (img?) = torch.Size([8, 3, 128, 128]), input2_size (flow?) = torch.Size([8, 2, 128, 128])\n"
     ]
    },
    {
     "name": "stderr",
     "output_type": "stream",
     "text": [
      "Epoch 4/5 - Training:  21%|███████████▊                                           | 24/112 [1:27:16<5:19:48, 218.05s/it]"
     ]
    },
    {
     "name": "stdout",
     "output_type": "stream",
     "text": [
      "Resample2d :  input1_size (img?) = torch.Size([8, 3, 128, 128]), input2_size (flow?) = torch.Size([8, 2, 128, 128])\n"
     ]
    },
    {
     "name": "stderr",
     "output_type": "stream",
     "text": [
      "Epoch 4/5 - Training:  22%|████████████▎                                          | 25/112 [1:30:48<5:13:32, 216.24s/it]"
     ]
    },
    {
     "name": "stdout",
     "output_type": "stream",
     "text": [
      "Resample2d :  input1_size (img?) = torch.Size([8, 3, 128, 128]), input2_size (flow?) = torch.Size([8, 2, 128, 128])\n"
     ]
    },
    {
     "name": "stderr",
     "output_type": "stream",
     "text": [
      "Epoch 4/5 - Training:  23%|████████████▊                                          | 26/112 [1:34:38<5:15:50, 220.35s/it]"
     ]
    },
    {
     "name": "stdout",
     "output_type": "stream",
     "text": [
      "Resample2d :  input1_size (img?) = torch.Size([8, 3, 128, 128]), input2_size (flow?) = torch.Size([8, 2, 128, 128])\n"
     ]
    },
    {
     "name": "stderr",
     "output_type": "stream",
     "text": [
      "Epoch 4/5 - Training:  24%|█████████████                                         | 27/112 [2:17:38<21:55:09, 928.34s/it]"
     ]
    },
    {
     "name": "stdout",
     "output_type": "stream",
     "text": [
      "Resample2d :  input1_size (img?) = torch.Size([8, 3, 128, 128]), input2_size (flow?) = torch.Size([8, 2, 128, 128])\n"
     ]
    },
    {
     "name": "stderr",
     "output_type": "stream",
     "text": [
      "Epoch 4/5 - Training:  25%|█████████████▌                                        | 28/112 [2:21:46<16:53:58, 724.27s/it]"
     ]
    },
    {
     "name": "stdout",
     "output_type": "stream",
     "text": [
      "Resample2d :  input1_size (img?) = torch.Size([8, 3, 128, 128]), input2_size (flow?) = torch.Size([8, 2, 128, 128])\n"
     ]
    },
    {
     "name": "stderr",
     "output_type": "stream",
     "text": [
      "Epoch 4/5 - Training:  26%|█████████████▉                                        | 29/112 [2:25:22<13:10:56, 571.77s/it]"
     ]
    },
    {
     "name": "stdout",
     "output_type": "stream",
     "text": [
      "Resample2d :  input1_size (img?) = torch.Size([8, 3, 128, 128]), input2_size (flow?) = torch.Size([8, 2, 128, 128])\n"
     ]
    },
    {
     "name": "stderr",
     "output_type": "stream",
     "text": [
      "Epoch 4/5 - Training:  27%|██████████████▍                                       | 30/112 [2:28:58<10:35:26, 464.96s/it]"
     ]
    },
    {
     "name": "stdout",
     "output_type": "stream",
     "text": [
      "Resample2d :  input1_size (img?) = torch.Size([8, 3, 128, 128]), input2_size (flow?) = torch.Size([8, 2, 128, 128])\n"
     ]
    },
    {
     "name": "stderr",
     "output_type": "stream",
     "text": [
      "Epoch 4/5 - Training:  28%|███████████████▏                                       | 31/112 [2:32:38<8:48:37, 391.57s/it]"
     ]
    },
    {
     "name": "stdout",
     "output_type": "stream",
     "text": [
      "Resample2d :  input1_size (img?) = torch.Size([8, 3, 128, 128]), input2_size (flow?) = torch.Size([8, 2, 128, 128])\n"
     ]
    },
    {
     "name": "stderr",
     "output_type": "stream",
     "text": [
      "Epoch 4/5 - Training:  29%|███████████████▋                                       | 32/112 [2:36:15<7:32:13, 339.17s/it]"
     ]
    },
    {
     "name": "stdout",
     "output_type": "stream",
     "text": [
      "Resample2d :  input1_size (img?) = torch.Size([8, 3, 128, 128]), input2_size (flow?) = torch.Size([8, 2, 128, 128])\n"
     ]
    },
    {
     "name": "stderr",
     "output_type": "stream",
     "text": [
      "Epoch 4/5 - Training:  29%|████████████████▏                                      | 33/112 [2:39:50<6:37:28, 301.88s/it]"
     ]
    },
    {
     "name": "stdout",
     "output_type": "stream",
     "text": [
      "Resample2d :  input1_size (img?) = torch.Size([8, 3, 128, 128]), input2_size (flow?) = torch.Size([8, 2, 128, 128])\n"
     ]
    },
    {
     "name": "stderr",
     "output_type": "stream",
     "text": [
      "Epoch 4/5 - Training:  30%|████████████████▋                                      | 34/112 [2:43:11<5:53:20, 271.81s/it]"
     ]
    },
    {
     "name": "stdout",
     "output_type": "stream",
     "text": [
      "Resample2d :  input1_size (img?) = torch.Size([8, 3, 128, 128]), input2_size (flow?) = torch.Size([8, 2, 128, 128])\n"
     ]
    },
    {
     "name": "stderr",
     "output_type": "stream",
     "text": [
      "Epoch 4/5 - Training:  31%|█████████████████▏                                     | 35/112 [2:46:27<5:19:19, 248.83s/it]"
     ]
    },
    {
     "name": "stdout",
     "output_type": "stream",
     "text": [
      "Resample2d :  input1_size (img?) = torch.Size([8, 3, 128, 128]), input2_size (flow?) = torch.Size([8, 2, 128, 128])\n"
     ]
    },
    {
     "name": "stderr",
     "output_type": "stream",
     "text": [
      "Epoch 4/5 - Training:  32%|█████████████████▋                                     | 36/112 [2:49:44<4:55:38, 233.40s/it]"
     ]
    },
    {
     "name": "stdout",
     "output_type": "stream",
     "text": [
      "Resample2d :  input1_size (img?) = torch.Size([8, 3, 128, 128]), input2_size (flow?) = torch.Size([8, 2, 128, 128])\n"
     ]
    },
    {
     "name": "stderr",
     "output_type": "stream",
     "text": [
      "Epoch 4/5 - Training:  33%|██████████████████▏                                    | 37/112 [2:53:05<4:39:38, 223.71s/it]"
     ]
    },
    {
     "name": "stdout",
     "output_type": "stream",
     "text": [
      "Resample2d :  input1_size (img?) = torch.Size([8, 3, 128, 128]), input2_size (flow?) = torch.Size([8, 2, 128, 128])\n"
     ]
    },
    {
     "name": "stderr",
     "output_type": "stream",
     "text": [
      "Epoch 4/5 - Training:  34%|██████████████████▋                                    | 38/112 [2:56:39<4:32:18, 220.79s/it]"
     ]
    },
    {
     "name": "stdout",
     "output_type": "stream",
     "text": [
      "Resample2d :  input1_size (img?) = torch.Size([8, 3, 128, 128]), input2_size (flow?) = torch.Size([8, 2, 128, 128])\n"
     ]
    },
    {
     "name": "stderr",
     "output_type": "stream",
     "text": [
      "Epoch 4/5 - Training:  35%|███████████████████▏                                   | 39/112 [3:00:26<4:31:01, 222.76s/it]"
     ]
    },
    {
     "name": "stdout",
     "output_type": "stream",
     "text": [
      "Resample2d :  input1_size (img?) = torch.Size([8, 3, 128, 128]), input2_size (flow?) = torch.Size([8, 2, 128, 128])\n"
     ]
    },
    {
     "name": "stderr",
     "output_type": "stream",
     "text": [
      "Epoch 4/5 - Training:  36%|███████████████████▋                                   | 40/112 [3:04:13<4:28:43, 223.93s/it]"
     ]
    },
    {
     "name": "stdout",
     "output_type": "stream",
     "text": [
      "Resample2d :  input1_size (img?) = torch.Size([8, 3, 128, 128]), input2_size (flow?) = torch.Size([8, 2, 128, 128])\n"
     ]
    },
    {
     "name": "stderr",
     "output_type": "stream",
     "text": [
      "Epoch 4/5 - Training:  37%|████████████████████▏                                  | 41/112 [3:08:07<4:28:23, 226.81s/it]"
     ]
    },
    {
     "name": "stdout",
     "output_type": "stream",
     "text": [
      "Resample2d :  input1_size (img?) = torch.Size([8, 3, 128, 128]), input2_size (flow?) = torch.Size([8, 2, 128, 128])\n"
     ]
    },
    {
     "name": "stderr",
     "output_type": "stream",
     "text": [
      "Epoch 4/5 - Training:  38%|████████████████████▋                                  | 42/112 [3:11:56<4:25:42, 227.75s/it]"
     ]
    },
    {
     "name": "stdout",
     "output_type": "stream",
     "text": [
      "Resample2d :  input1_size (img?) = torch.Size([8, 3, 128, 128]), input2_size (flow?) = torch.Size([8, 2, 128, 128])\n"
     ]
    },
    {
     "name": "stderr",
     "output_type": "stream",
     "text": [
      "Epoch 4/5 - Training:  38%|█████████████████████                                  | 43/112 [3:15:41<4:20:37, 226.63s/it]"
     ]
    },
    {
     "name": "stdout",
     "output_type": "stream",
     "text": [
      "Resample2d :  input1_size (img?) = torch.Size([8, 3, 128, 128]), input2_size (flow?) = torch.Size([8, 2, 128, 128])\n"
     ]
    },
    {
     "name": "stderr",
     "output_type": "stream",
     "text": [
      "Epoch 4/5 - Training:  39%|█████████████████████▌                                 | 44/112 [3:19:29<4:17:19, 227.05s/it]"
     ]
    },
    {
     "name": "stdout",
     "output_type": "stream",
     "text": [
      "Resample2d :  input1_size (img?) = torch.Size([8, 3, 128, 128]), input2_size (flow?) = torch.Size([8, 2, 128, 128])\n"
     ]
    },
    {
     "name": "stderr",
     "output_type": "stream",
     "text": [
      "Epoch 4/5 - Training:  40%|██████████████████████                                 | 45/112 [3:23:15<4:13:23, 226.92s/it]"
     ]
    },
    {
     "name": "stdout",
     "output_type": "stream",
     "text": [
      "Resample2d :  input1_size (img?) = torch.Size([8, 3, 128, 128]), input2_size (flow?) = torch.Size([8, 2, 128, 128])\n"
     ]
    },
    {
     "name": "stderr",
     "output_type": "stream",
     "text": [
      "Epoch 4/5 - Training:  41%|██████████████████████▌                                | 46/112 [3:27:09<4:11:51, 228.96s/it]"
     ]
    },
    {
     "name": "stdout",
     "output_type": "stream",
     "text": [
      "Resample2d :  input1_size (img?) = torch.Size([8, 3, 128, 128]), input2_size (flow?) = torch.Size([8, 2, 128, 128])\n"
     ]
    },
    {
     "name": "stderr",
     "output_type": "stream",
     "text": [
      "Epoch 4/5 - Training:  42%|███████████████████████                                | 47/112 [3:31:04<4:09:59, 230.76s/it]"
     ]
    },
    {
     "name": "stdout",
     "output_type": "stream",
     "text": [
      "Resample2d :  input1_size (img?) = torch.Size([8, 3, 128, 128]), input2_size (flow?) = torch.Size([8, 2, 128, 128])\n"
     ]
    },
    {
     "name": "stderr",
     "output_type": "stream",
     "text": [
      "Epoch 4/5 - Training:  43%|███████████████████████▌                               | 48/112 [3:34:59<4:07:25, 231.96s/it]"
     ]
    },
    {
     "name": "stdout",
     "output_type": "stream",
     "text": [
      "Resample2d :  input1_size (img?) = torch.Size([8, 3, 128, 128]), input2_size (flow?) = torch.Size([8, 2, 128, 128])\n"
     ]
    },
    {
     "name": "stderr",
     "output_type": "stream",
     "text": [
      "Epoch 4/5 - Training:  44%|████████████████████████                               | 49/112 [3:39:05<4:08:00, 236.20s/it]"
     ]
    },
    {
     "name": "stdout",
     "output_type": "stream",
     "text": [
      "Resample2d :  input1_size (img?) = torch.Size([8, 3, 128, 128]), input2_size (flow?) = torch.Size([8, 2, 128, 128])\n"
     ]
    },
    {
     "name": "stderr",
     "output_type": "stream",
     "text": [
      "Epoch 4/5 - Training:  45%|████████████████████████▌                              | 50/112 [3:42:53<4:01:38, 233.85s/it]"
     ]
    },
    {
     "name": "stdout",
     "output_type": "stream",
     "text": [
      "Resample2d :  input1_size (img?) = torch.Size([8, 3, 128, 128]), input2_size (flow?) = torch.Size([8, 2, 128, 128])\n"
     ]
    },
    {
     "name": "stderr",
     "output_type": "stream",
     "text": [
      "Epoch 4/5 - Training:  46%|█████████████████████████                              | 51/112 [3:46:47<3:57:43, 233.82s/it]"
     ]
    },
    {
     "name": "stdout",
     "output_type": "stream",
     "text": [
      "Resample2d :  input1_size (img?) = torch.Size([8, 3, 128, 128]), input2_size (flow?) = torch.Size([8, 2, 128, 128])\n"
     ]
    },
    {
     "name": "stderr",
     "output_type": "stream",
     "text": [
      "Epoch 4/5 - Training:  46%|█████████████████████████▌                             | 52/112 [3:50:44<3:54:52, 234.87s/it]"
     ]
    },
    {
     "name": "stdout",
     "output_type": "stream",
     "text": [
      "Resample2d :  input1_size (img?) = torch.Size([8, 3, 128, 128]), input2_size (flow?) = torch.Size([8, 2, 128, 128])\n"
     ]
    },
    {
     "name": "stderr",
     "output_type": "stream",
     "text": [
      "Epoch 4/5 - Training:  47%|██████████████████████████                             | 53/112 [3:54:38<3:50:39, 234.56s/it]"
     ]
    },
    {
     "name": "stdout",
     "output_type": "stream",
     "text": [
      "Resample2d :  input1_size (img?) = torch.Size([8, 3, 128, 128]), input2_size (flow?) = torch.Size([8, 2, 128, 128])\n"
     ]
    },
    {
     "name": "stderr",
     "output_type": "stream",
     "text": [
      "Epoch 4/5 - Training:  48%|██████████████████████████▌                            | 54/112 [3:58:35<3:47:31, 235.37s/it]"
     ]
    },
    {
     "name": "stdout",
     "output_type": "stream",
     "text": [
      "Resample2d :  input1_size (img?) = torch.Size([8, 3, 128, 128]), input2_size (flow?) = torch.Size([8, 2, 128, 128])\n"
     ]
    },
    {
     "name": "stderr",
     "output_type": "stream",
     "text": [
      "Epoch 4/5 - Training:  49%|███████████████████████████                            | 55/112 [4:02:22<3:41:07, 232.76s/it]"
     ]
    },
    {
     "name": "stdout",
     "output_type": "stream",
     "text": [
      "Resample2d :  input1_size (img?) = torch.Size([8, 3, 128, 128]), input2_size (flow?) = torch.Size([8, 2, 128, 128])\n"
     ]
    },
    {
     "name": "stderr",
     "output_type": "stream",
     "text": [
      "Epoch 4/5 - Training:  50%|███████████████████████████▌                           | 56/112 [4:06:13<3:36:47, 232.28s/it]"
     ]
    },
    {
     "name": "stdout",
     "output_type": "stream",
     "text": [
      "Resample2d :  input1_size (img?) = torch.Size([8, 3, 128, 128]), input2_size (flow?) = torch.Size([8, 2, 128, 128])\n"
     ]
    },
    {
     "name": "stderr",
     "output_type": "stream",
     "text": [
      "Epoch 4/5 - Training:  51%|███████████████████████████▉                           | 57/112 [4:10:06<3:33:03, 232.42s/it]"
     ]
    },
    {
     "name": "stdout",
     "output_type": "stream",
     "text": [
      "Resample2d :  input1_size (img?) = torch.Size([8, 3, 128, 128]), input2_size (flow?) = torch.Size([8, 2, 128, 128])\n"
     ]
    },
    {
     "name": "stderr",
     "output_type": "stream",
     "text": [
      "Epoch 4/5 - Training:  52%|████████████████████████████▍                          | 58/112 [4:13:56<3:28:28, 231.64s/it]"
     ]
    },
    {
     "name": "stdout",
     "output_type": "stream",
     "text": [
      "Resample2d :  input1_size (img?) = torch.Size([8, 3, 128, 128]), input2_size (flow?) = torch.Size([8, 2, 128, 128])\n"
     ]
    },
    {
     "name": "stderr",
     "output_type": "stream",
     "text": [
      "Epoch 4/5 - Training:  53%|████████████████████████████▉                          | 59/112 [4:17:40<3:22:40, 229.44s/it]"
     ]
    },
    {
     "name": "stdout",
     "output_type": "stream",
     "text": [
      "Resample2d :  input1_size (img?) = torch.Size([8, 3, 128, 128]), input2_size (flow?) = torch.Size([8, 2, 128, 128])\n"
     ]
    },
    {
     "name": "stderr",
     "output_type": "stream",
     "text": [
      "Epoch 4/5 - Training:  54%|█████████████████████████████▍                         | 60/112 [4:21:23<3:17:08, 227.47s/it]"
     ]
    },
    {
     "name": "stdout",
     "output_type": "stream",
     "text": [
      "Resample2d :  input1_size (img?) = torch.Size([8, 3, 128, 128]), input2_size (flow?) = torch.Size([8, 2, 128, 128])\n"
     ]
    },
    {
     "name": "stderr",
     "output_type": "stream",
     "text": [
      "Epoch 4/5 - Training:  54%|█████████████████████████████▉                         | 61/112 [4:25:07<3:12:32, 226.52s/it]"
     ]
    },
    {
     "name": "stdout",
     "output_type": "stream",
     "text": [
      "Resample2d :  input1_size (img?) = torch.Size([8, 3, 128, 128]), input2_size (flow?) = torch.Size([8, 2, 128, 128])\n"
     ]
    },
    {
     "name": "stderr",
     "output_type": "stream",
     "text": [
      "Epoch 4/5 - Training:  55%|██████████████████████████████▍                        | 62/112 [4:28:51<3:08:08, 225.77s/it]"
     ]
    },
    {
     "name": "stdout",
     "output_type": "stream",
     "text": [
      "Resample2d :  input1_size (img?) = torch.Size([8, 3, 128, 128]), input2_size (flow?) = torch.Size([8, 2, 128, 128])\n"
     ]
    },
    {
     "name": "stderr",
     "output_type": "stream",
     "text": [
      "Epoch 4/5 - Training:  56%|██████████████████████████████▉                        | 63/112 [4:32:34<3:03:44, 225.00s/it]"
     ]
    },
    {
     "name": "stdout",
     "output_type": "stream",
     "text": [
      "Resample2d :  input1_size (img?) = torch.Size([8, 3, 128, 128]), input2_size (flow?) = torch.Size([8, 2, 128, 128])\n"
     ]
    },
    {
     "name": "stderr",
     "output_type": "stream",
     "text": [
      "Epoch 4/5 - Training:  57%|███████████████████████████████▍                       | 64/112 [4:36:08<2:57:20, 221.67s/it]"
     ]
    },
    {
     "name": "stdout",
     "output_type": "stream",
     "text": [
      "Resample2d :  input1_size (img?) = torch.Size([8, 3, 128, 128]), input2_size (flow?) = torch.Size([8, 2, 128, 128])\n"
     ]
    },
    {
     "name": "stderr",
     "output_type": "stream",
     "text": [
      "Epoch 4/5 - Training:  58%|███████████████████████████████▉                       | 65/112 [4:39:40<2:51:21, 218.76s/it]"
     ]
    },
    {
     "name": "stdout",
     "output_type": "stream",
     "text": [
      "Resample2d :  input1_size (img?) = torch.Size([8, 3, 128, 128]), input2_size (flow?) = torch.Size([8, 2, 128, 128])\n"
     ]
    },
    {
     "name": "stderr",
     "output_type": "stream",
     "text": [
      "Epoch 4/5 - Training:  59%|████████████████████████████████▍                      | 66/112 [4:43:20<2:47:59, 219.12s/it]"
     ]
    },
    {
     "name": "stdout",
     "output_type": "stream",
     "text": [
      "Resample2d :  input1_size (img?) = torch.Size([8, 3, 128, 128]), input2_size (flow?) = torch.Size([8, 2, 128, 128])\n"
     ]
    },
    {
     "name": "stderr",
     "output_type": "stream",
     "text": [
      "Epoch 4/5 - Training:  60%|████████████████████████████████▉                      | 67/112 [4:47:08<2:46:14, 221.65s/it]"
     ]
    },
    {
     "name": "stdout",
     "output_type": "stream",
     "text": [
      "Resample2d :  input1_size (img?) = torch.Size([8, 3, 128, 128]), input2_size (flow?) = torch.Size([8, 2, 128, 128])\n"
     ]
    },
    {
     "name": "stderr",
     "output_type": "stream",
     "text": [
      "Epoch 4/5 - Training:  61%|█████████████████████████████████▍                     | 68/112 [4:50:56<2:44:04, 223.74s/it]"
     ]
    },
    {
     "name": "stdout",
     "output_type": "stream",
     "text": [
      "Resample2d :  input1_size (img?) = torch.Size([8, 3, 128, 128]), input2_size (flow?) = torch.Size([8, 2, 128, 128])\n"
     ]
    },
    {
     "name": "stderr",
     "output_type": "stream",
     "text": [
      "Epoch 4/5 - Training:  62%|█████████████████████████████████▉                     | 69/112 [4:54:43<2:41:01, 224.69s/it]"
     ]
    },
    {
     "name": "stdout",
     "output_type": "stream",
     "text": [
      "Resample2d :  input1_size (img?) = torch.Size([8, 3, 128, 128]), input2_size (flow?) = torch.Size([8, 2, 128, 128])\n"
     ]
    },
    {
     "name": "stderr",
     "output_type": "stream",
     "text": [
      "Epoch 4/5 - Training:  62%|██████████████████████████████████▍                    | 70/112 [4:58:16<2:34:41, 220.98s/it]"
     ]
    },
    {
     "name": "stdout",
     "output_type": "stream",
     "text": [
      "Resample2d :  input1_size (img?) = torch.Size([8, 3, 128, 128]), input2_size (flow?) = torch.Size([8, 2, 128, 128])\n"
     ]
    },
    {
     "name": "stderr",
     "output_type": "stream",
     "text": [
      "Epoch 4/5 - Training:  63%|██████████████████████████████████▊                    | 71/112 [5:01:51<2:29:55, 219.39s/it]"
     ]
    },
    {
     "name": "stdout",
     "output_type": "stream",
     "text": [
      "Resample2d :  input1_size (img?) = torch.Size([8, 3, 128, 128]), input2_size (flow?) = torch.Size([8, 2, 128, 128])\n"
     ]
    },
    {
     "name": "stderr",
     "output_type": "stream",
     "text": [
      "Epoch 4/5 - Training:  64%|███████████████████████████████████▎                   | 72/112 [5:05:43<2:28:40, 223.02s/it]"
     ]
    },
    {
     "name": "stdout",
     "output_type": "stream",
     "text": [
      "Resample2d :  input1_size (img?) = torch.Size([8, 3, 128, 128]), input2_size (flow?) = torch.Size([8, 2, 128, 128])\n"
     ]
    },
    {
     "name": "stderr",
     "output_type": "stream",
     "text": [
      "Epoch 4/5 - Training:  65%|███████████████████████████████████▊                   | 73/112 [5:09:32<2:26:10, 224.89s/it]"
     ]
    },
    {
     "name": "stdout",
     "output_type": "stream",
     "text": [
      "Resample2d :  input1_size (img?) = torch.Size([8, 3, 128, 128]), input2_size (flow?) = torch.Size([8, 2, 128, 128])\n"
     ]
    },
    {
     "name": "stderr",
     "output_type": "stream",
     "text": [
      "Epoch 4/5 - Training:  66%|████████████████████████████████████▎                  | 74/112 [5:13:17<2:22:32, 225.05s/it]"
     ]
    },
    {
     "name": "stdout",
     "output_type": "stream",
     "text": [
      "Resample2d :  input1_size (img?) = torch.Size([8, 3, 128, 128]), input2_size (flow?) = torch.Size([8, 2, 128, 128])\n"
     ]
    },
    {
     "name": "stderr",
     "output_type": "stream",
     "text": [
      "Epoch 4/5 - Training:  67%|████████████████████████████████████▊                  | 75/112 [5:17:04<2:19:00, 225.43s/it]"
     ]
    },
    {
     "name": "stdout",
     "output_type": "stream",
     "text": [
      "Resample2d :  input1_size (img?) = torch.Size([8, 3, 128, 128]), input2_size (flow?) = torch.Size([8, 2, 128, 128])\n"
     ]
    },
    {
     "name": "stderr",
     "output_type": "stream",
     "text": [
      "Epoch 4/5 - Training:  68%|█████████████████████████████████████▎                 | 76/112 [5:20:52<2:15:44, 226.23s/it]"
     ]
    },
    {
     "name": "stdout",
     "output_type": "stream",
     "text": [
      "Resample2d :  input1_size (img?) = torch.Size([8, 3, 128, 128]), input2_size (flow?) = torch.Size([8, 2, 128, 128])\n"
     ]
    },
    {
     "name": "stderr",
     "output_type": "stream",
     "text": [
      "Epoch 4/5 - Training:  69%|█████████████████████████████████████▊                 | 77/112 [5:24:47<2:13:33, 228.95s/it]"
     ]
    },
    {
     "name": "stdout",
     "output_type": "stream",
     "text": [
      "Resample2d :  input1_size (img?) = torch.Size([8, 3, 128, 128]), input2_size (flow?) = torch.Size([8, 2, 128, 128])\n"
     ]
    },
    {
     "name": "stderr",
     "output_type": "stream",
     "text": [
      "Epoch 4/5 - Training:  70%|██████████████████████████████████████▎                | 78/112 [5:28:47<2:11:37, 232.26s/it]"
     ]
    },
    {
     "name": "stdout",
     "output_type": "stream",
     "text": [
      "Resample2d :  input1_size (img?) = torch.Size([8, 3, 128, 128]), input2_size (flow?) = torch.Size([8, 2, 128, 128])\n"
     ]
    },
    {
     "name": "stderr",
     "output_type": "stream",
     "text": [
      "Epoch 4/5 - Training:  71%|██████████████████████████████████████▊                | 79/112 [5:32:48<2:09:05, 234.72s/it]"
     ]
    },
    {
     "name": "stdout",
     "output_type": "stream",
     "text": [
      "Resample2d :  input1_size (img?) = torch.Size([8, 3, 128, 128]), input2_size (flow?) = torch.Size([8, 2, 128, 128])\n"
     ]
    },
    {
     "name": "stderr",
     "output_type": "stream",
     "text": [
      "Epoch 4/5 - Training:  71%|███████████████████████████████████████▎               | 80/112 [5:36:47<2:06:00, 236.27s/it]"
     ]
    },
    {
     "name": "stdout",
     "output_type": "stream",
     "text": [
      "Resample2d :  input1_size (img?) = torch.Size([8, 3, 128, 128]), input2_size (flow?) = torch.Size([8, 2, 128, 128])\n"
     ]
    },
    {
     "name": "stderr",
     "output_type": "stream",
     "text": [
      "Epoch 4/5 - Training:  72%|███████████████████████████████████████▊               | 81/112 [5:40:46<2:02:22, 236.87s/it]"
     ]
    },
    {
     "name": "stdout",
     "output_type": "stream",
     "text": [
      "Resample2d :  input1_size (img?) = torch.Size([8, 3, 128, 128]), input2_size (flow?) = torch.Size([8, 2, 128, 128])\n"
     ]
    },
    {
     "name": "stderr",
     "output_type": "stream",
     "text": [
      "Epoch 4/5 - Training:  73%|████████████████████████████████████████▎              | 82/112 [5:44:22<1:55:18, 230.63s/it]"
     ]
    },
    {
     "name": "stdout",
     "output_type": "stream",
     "text": [
      "Resample2d :  input1_size (img?) = torch.Size([8, 3, 128, 128]), input2_size (flow?) = torch.Size([8, 2, 128, 128])\n"
     ]
    },
    {
     "name": "stderr",
     "output_type": "stream",
     "text": [
      "Epoch 4/5 - Training:  74%|████████████████████████████████████████▊              | 83/112 [5:47:58<1:49:22, 226.28s/it]"
     ]
    },
    {
     "name": "stdout",
     "output_type": "stream",
     "text": [
      "Resample2d :  input1_size (img?) = torch.Size([8, 3, 128, 128]), input2_size (flow?) = torch.Size([8, 2, 128, 128])\n"
     ]
    },
    {
     "name": "stderr",
     "output_type": "stream",
     "text": [
      "Epoch 4/5 - Training:  75%|█████████████████████████████████████████▎             | 84/112 [5:51:34<1:44:07, 223.12s/it]"
     ]
    },
    {
     "name": "stdout",
     "output_type": "stream",
     "text": [
      "Resample2d :  input1_size (img?) = torch.Size([8, 3, 128, 128]), input2_size (flow?) = torch.Size([8, 2, 128, 128])\n"
     ]
    },
    {
     "name": "stderr",
     "output_type": "stream",
     "text": [
      "Epoch 4/5 - Training:  76%|█████████████████████████████████████████▋             | 85/112 [5:55:07<1:39:03, 220.11s/it]"
     ]
    },
    {
     "name": "stdout",
     "output_type": "stream",
     "text": [
      "Resample2d :  input1_size (img?) = torch.Size([8, 3, 128, 128]), input2_size (flow?) = torch.Size([8, 2, 128, 128])\n"
     ]
    },
    {
     "name": "stderr",
     "output_type": "stream",
     "text": [
      "Epoch 4/5 - Training:  77%|██████████████████████████████████████████▏            | 86/112 [5:58:39<1:34:25, 217.90s/it]"
     ]
    },
    {
     "name": "stdout",
     "output_type": "stream",
     "text": [
      "Resample2d :  input1_size (img?) = torch.Size([8, 3, 128, 128]), input2_size (flow?) = torch.Size([8, 2, 128, 128])\n"
     ]
    },
    {
     "name": "stderr",
     "output_type": "stream",
     "text": [
      "Epoch 4/5 - Training:  78%|██████████████████████████████████████████▋            | 87/112 [6:02:15<1:30:27, 217.12s/it]"
     ]
    },
    {
     "name": "stdout",
     "output_type": "stream",
     "text": [
      "Resample2d :  input1_size (img?) = torch.Size([8, 3, 128, 128]), input2_size (flow?) = torch.Size([8, 2, 128, 128])\n"
     ]
    },
    {
     "name": "stderr",
     "output_type": "stream",
     "text": [
      "Epoch 4/5 - Training:  79%|███████████████████████████████████████████▏           | 88/112 [6:05:52<1:26:52, 217.20s/it]"
     ]
    },
    {
     "name": "stdout",
     "output_type": "stream",
     "text": [
      "Resample2d :  input1_size (img?) = torch.Size([8, 3, 128, 128]), input2_size (flow?) = torch.Size([8, 2, 128, 128])\n"
     ]
    },
    {
     "name": "stderr",
     "output_type": "stream",
     "text": [
      "Epoch 4/5 - Training:  79%|███████████████████████████████████████████▋           | 89/112 [6:09:25<1:22:44, 215.85s/it]"
     ]
    },
    {
     "name": "stdout",
     "output_type": "stream",
     "text": [
      "Resample2d :  input1_size (img?) = torch.Size([8, 3, 128, 128]), input2_size (flow?) = torch.Size([8, 2, 128, 128])\n"
     ]
    },
    {
     "name": "stderr",
     "output_type": "stream",
     "text": [
      "Epoch 4/5 - Training:  80%|████████████████████████████████████████████▏          | 90/112 [6:12:56<1:18:36, 214.37s/it]"
     ]
    },
    {
     "name": "stdout",
     "output_type": "stream",
     "text": [
      "Resample2d :  input1_size (img?) = torch.Size([8, 3, 128, 128]), input2_size (flow?) = torch.Size([8, 2, 128, 128])\n"
     ]
    },
    {
     "name": "stderr",
     "output_type": "stream",
     "text": [
      "Epoch 4/5 - Training:  81%|████████████████████████████████████████████▋          | 91/112 [6:16:27<1:14:41, 213.38s/it]"
     ]
    },
    {
     "name": "stdout",
     "output_type": "stream",
     "text": [
      "Resample2d :  input1_size (img?) = torch.Size([8, 3, 128, 128]), input2_size (flow?) = torch.Size([8, 2, 128, 128])\n"
     ]
    },
    {
     "name": "stderr",
     "output_type": "stream",
     "text": [
      "Epoch 4/5 - Training:  82%|█████████████████████████████████████████████▏         | 92/112 [6:19:59<1:11:00, 213.03s/it]"
     ]
    },
    {
     "name": "stdout",
     "output_type": "stream",
     "text": [
      "Resample2d :  input1_size (img?) = torch.Size([8, 3, 128, 128]), input2_size (flow?) = torch.Size([8, 2, 128, 128])\n"
     ]
    },
    {
     "name": "stderr",
     "output_type": "stream",
     "text": [
      "Epoch 4/5 - Training:  83%|█████████████████████████████████████████████▋         | 93/112 [6:23:30<1:07:15, 212.38s/it]"
     ]
    },
    {
     "name": "stdout",
     "output_type": "stream",
     "text": [
      "Resample2d :  input1_size (img?) = torch.Size([8, 3, 128, 128]), input2_size (flow?) = torch.Size([8, 2, 128, 128])\n"
     ]
    },
    {
     "name": "stderr",
     "output_type": "stream",
     "text": [
      "Epoch 4/5 - Training:  84%|██████████████████████████████████████████████▏        | 94/112 [6:27:05<1:03:57, 213.17s/it]"
     ]
    },
    {
     "name": "stdout",
     "output_type": "stream",
     "text": [
      "Resample2d :  input1_size (img?) = torch.Size([8, 3, 128, 128]), input2_size (flow?) = torch.Size([8, 2, 128, 128])\n"
     ]
    },
    {
     "name": "stderr",
     "output_type": "stream",
     "text": [
      "Epoch 4/5 - Training:  85%|██████████████████████████████████████████████▋        | 95/112 [6:30:39<1:00:28, 213.44s/it]"
     ]
    },
    {
     "name": "stdout",
     "output_type": "stream",
     "text": [
      "Resample2d :  input1_size (img?) = torch.Size([8, 3, 128, 128]), input2_size (flow?) = torch.Size([8, 2, 128, 128])\n"
     ]
    },
    {
     "name": "stderr",
     "output_type": "stream",
     "text": [
      "Epoch 4/5 - Training:  86%|████████████████████████████████████████████████▊        | 96/112 [6:34:15<57:06, 214.17s/it]"
     ]
    },
    {
     "name": "stdout",
     "output_type": "stream",
     "text": [
      "Resample2d :  input1_size (img?) = torch.Size([8, 3, 128, 128]), input2_size (flow?) = torch.Size([8, 2, 128, 128])\n"
     ]
    },
    {
     "name": "stderr",
     "output_type": "stream",
     "text": [
      "Epoch 4/5 - Training:  87%|█████████████████████████████████████████████████▎       | 97/112 [6:37:47<53:21, 213.46s/it]"
     ]
    },
    {
     "name": "stdout",
     "output_type": "stream",
     "text": [
      "Resample2d :  input1_size (img?) = torch.Size([8, 3, 128, 128]), input2_size (flow?) = torch.Size([8, 2, 128, 128])\n"
     ]
    },
    {
     "name": "stderr",
     "output_type": "stream",
     "text": [
      "Epoch 4/5 - Training:  88%|█████████████████████████████████████████████████▉       | 98/112 [6:41:23<50:01, 214.37s/it]"
     ]
    },
    {
     "name": "stdout",
     "output_type": "stream",
     "text": [
      "Resample2d :  input1_size (img?) = torch.Size([8, 3, 128, 128]), input2_size (flow?) = torch.Size([8, 2, 128, 128])\n"
     ]
    },
    {
     "name": "stderr",
     "output_type": "stream",
     "text": [
      "Epoch 4/5 - Training:  88%|██████████████████████████████████████████████████▍      | 99/112 [6:45:00<46:36, 215.12s/it]"
     ]
    },
    {
     "name": "stdout",
     "output_type": "stream",
     "text": [
      "Resample2d :  input1_size (img?) = torch.Size([8, 3, 128, 128]), input2_size (flow?) = torch.Size([8, 2, 128, 128])\n"
     ]
    },
    {
     "name": "stderr",
     "output_type": "stream",
     "text": [
      "Epoch 4/5 - Training:  89%|██████████████████████████████████████████████████      | 100/112 [6:48:40<43:19, 216.61s/it]"
     ]
    },
    {
     "name": "stdout",
     "output_type": "stream",
     "text": [
      "Resample2d :  input1_size (img?) = torch.Size([8, 3, 128, 128]), input2_size (flow?) = torch.Size([8, 2, 128, 128])\n"
     ]
    },
    {
     "name": "stderr",
     "output_type": "stream",
     "text": [
      "Epoch 4/5 - Training:  90%|██████████████████████████████████████████████████▌     | 101/112 [6:52:21<39:58, 218.01s/it]"
     ]
    },
    {
     "name": "stdout",
     "output_type": "stream",
     "text": [
      "Resample2d :  input1_size (img?) = torch.Size([8, 3, 128, 128]), input2_size (flow?) = torch.Size([8, 2, 128, 128])\n"
     ]
    },
    {
     "name": "stderr",
     "output_type": "stream",
     "text": [
      "Epoch 4/5 - Training:  91%|███████████████████████████████████████████████████     | 102/112 [6:56:02<36:26, 218.67s/it]"
     ]
    },
    {
     "name": "stdout",
     "output_type": "stream",
     "text": [
      "Resample2d :  input1_size (img?) = torch.Size([8, 3, 128, 128]), input2_size (flow?) = torch.Size([8, 2, 128, 128])\n"
     ]
    },
    {
     "name": "stderr",
     "output_type": "stream",
     "text": [
      "Epoch 4/5 - Training:  92%|███████████████████████████████████████████████████▌    | 103/112 [6:59:43<32:54, 219.35s/it]"
     ]
    },
    {
     "name": "stdout",
     "output_type": "stream",
     "text": [
      "Resample2d :  input1_size (img?) = torch.Size([8, 3, 128, 128]), input2_size (flow?) = torch.Size([8, 2, 128, 128])\n"
     ]
    },
    {
     "name": "stderr",
     "output_type": "stream",
     "text": [
      "Epoch 4/5 - Training:  93%|████████████████████████████████████████████████████    | 104/112 [7:03:21<29:13, 219.13s/it]"
     ]
    },
    {
     "name": "stdout",
     "output_type": "stream",
     "text": [
      "Resample2d :  input1_size (img?) = torch.Size([8, 3, 128, 128]), input2_size (flow?) = torch.Size([8, 2, 128, 128])\n"
     ]
    },
    {
     "name": "stderr",
     "output_type": "stream",
     "text": [
      "Epoch 4/5 - Training:  94%|████████████████████████████████████████████████████▌   | 105/112 [7:07:02<25:37, 219.60s/it]"
     ]
    },
    {
     "name": "stdout",
     "output_type": "stream",
     "text": [
      "Resample2d :  input1_size (img?) = torch.Size([8, 3, 128, 128]), input2_size (flow?) = torch.Size([8, 2, 128, 128])\n"
     ]
    },
    {
     "name": "stderr",
     "output_type": "stream",
     "text": [
      "Epoch 4/5 - Training:  95%|█████████████████████████████████████████████████████   | 106/112 [7:10:39<21:52, 218.77s/it]"
     ]
    },
    {
     "name": "stdout",
     "output_type": "stream",
     "text": [
      "Resample2d :  input1_size (img?) = torch.Size([8, 3, 128, 128]), input2_size (flow?) = torch.Size([8, 2, 128, 128])\n"
     ]
    },
    {
     "name": "stderr",
     "output_type": "stream",
     "text": [
      "Epoch 4/5 - Training:  96%|█████████████████████████████████████████████████████▌  | 107/112 [7:14:17<18:12, 218.59s/it]"
     ]
    },
    {
     "name": "stdout",
     "output_type": "stream",
     "text": [
      "Resample2d :  input1_size (img?) = torch.Size([8, 3, 128, 128]), input2_size (flow?) = torch.Size([8, 2, 128, 128])\n"
     ]
    },
    {
     "name": "stderr",
     "output_type": "stream",
     "text": [
      "Epoch 4/5 - Training:  96%|██████████████████████████████████████████████████████  | 108/112 [7:17:58<14:37, 219.44s/it]"
     ]
    },
    {
     "name": "stdout",
     "output_type": "stream",
     "text": [
      "Resample2d :  input1_size (img?) = torch.Size([8, 3, 128, 128]), input2_size (flow?) = torch.Size([8, 2, 128, 128])\n"
     ]
    },
    {
     "name": "stderr",
     "output_type": "stream",
     "text": [
      "Epoch 4/5 - Training:  97%|██████████████████████████████████████████████████████▌ | 109/112 [7:21:35<10:55, 218.54s/it]"
     ]
    },
    {
     "name": "stdout",
     "output_type": "stream",
     "text": [
      "Resample2d :  input1_size (img?) = torch.Size([8, 3, 128, 128]), input2_size (flow?) = torch.Size([8, 2, 128, 128])\n"
     ]
    },
    {
     "name": "stderr",
     "output_type": "stream",
     "text": [
      "Epoch 4/5 - Training:  98%|███████████████████████████████████████████████████████ | 110/112 [7:25:11<07:15, 217.79s/it]"
     ]
    },
    {
     "name": "stdout",
     "output_type": "stream",
     "text": [
      "Resample2d :  input1_size (img?) = torch.Size([8, 3, 128, 128]), input2_size (flow?) = torch.Size([8, 2, 128, 128])\n"
     ]
    },
    {
     "name": "stderr",
     "output_type": "stream",
     "text": [
      "Epoch 4/5 - Training:  99%|███████████████████████████████████████████████████████▌| 111/112 [7:28:46<03:37, 217.06s/it]"
     ]
    },
    {
     "name": "stdout",
     "output_type": "stream",
     "text": [
      "Resample2d :  input1_size (img?) = torch.Size([8, 3, 128, 128]), input2_size (flow?) = torch.Size([8, 2, 128, 128])\n"
     ]
    },
    {
     "name": "stderr",
     "output_type": "stream",
     "text": [
      "                                                                                                                        \r"
     ]
    },
    {
     "name": "stdout",
     "output_type": "stream",
     "text": [
      "Resample2d :  input1_size (img?) = torch.Size([8, 3, 128, 128]), input2_size (flow?) = torch.Size([8, 2, 128, 128])\n"
     ]
    },
    {
     "name": "stderr",
     "output_type": "stream",
     "text": [
      "Epoch 4/5 - Validation:   9%|█████▎                                                     | 1/11 [03:33<35:31, 213.11s/it]"
     ]
    },
    {
     "name": "stdout",
     "output_type": "stream",
     "text": [
      "Resample2d :  input1_size (img?) = torch.Size([8, 3, 128, 128]), input2_size (flow?) = torch.Size([8, 2, 128, 128])\n"
     ]
    },
    {
     "name": "stderr",
     "output_type": "stream",
     "text": [
      "Epoch 4/5 - Validation:  18%|██████████▋                                                | 2/11 [07:06<31:59, 213.31s/it]"
     ]
    },
    {
     "name": "stdout",
     "output_type": "stream",
     "text": [
      "Resample2d :  input1_size (img?) = torch.Size([8, 3, 128, 128]), input2_size (flow?) = torch.Size([8, 2, 128, 128])\n"
     ]
    },
    {
     "name": "stderr",
     "output_type": "stream",
     "text": [
      "Epoch 4/5 - Validation:  27%|████████████████                                           | 3/11 [10:44<28:45, 215.65s/it]"
     ]
    },
    {
     "name": "stdout",
     "output_type": "stream",
     "text": [
      "Resample2d :  input1_size (img?) = torch.Size([8, 3, 128, 128]), input2_size (flow?) = torch.Size([8, 2, 128, 128])\n"
     ]
    },
    {
     "name": "stderr",
     "output_type": "stream",
     "text": [
      "Epoch 4/5 - Validation:  36%|█████████████████████▍                                     | 4/11 [14:23<25:16, 216.70s/it]"
     ]
    },
    {
     "name": "stdout",
     "output_type": "stream",
     "text": [
      "Resample2d :  input1_size (img?) = torch.Size([8, 3, 128, 128]), input2_size (flow?) = torch.Size([8, 2, 128, 128])\n"
     ]
    },
    {
     "name": "stderr",
     "output_type": "stream",
     "text": [
      "Epoch 4/5 - Validation:  45%|██████████████████████████▊                                | 5/11 [17:58<21:37, 216.17s/it]"
     ]
    },
    {
     "name": "stdout",
     "output_type": "stream",
     "text": [
      "Resample2d :  input1_size (img?) = torch.Size([8, 3, 128, 128]), input2_size (flow?) = torch.Size([8, 2, 128, 128])\n"
     ]
    },
    {
     "name": "stderr",
     "output_type": "stream",
     "text": [
      "Epoch 4/5 - Validation:  55%|████████████████████████████████▏                          | 6/11 [21:32<17:57, 215.44s/it]"
     ]
    },
    {
     "name": "stdout",
     "output_type": "stream",
     "text": [
      "Resample2d :  input1_size (img?) = torch.Size([8, 3, 128, 128]), input2_size (flow?) = torch.Size([8, 2, 128, 128])\n"
     ]
    },
    {
     "name": "stderr",
     "output_type": "stream",
     "text": [
      "Epoch 4/5 - Validation:  64%|█████████████████████████████████████▌                     | 7/11 [25:08<14:21, 215.49s/it]"
     ]
    },
    {
     "name": "stdout",
     "output_type": "stream",
     "text": [
      "Resample2d :  input1_size (img?) = torch.Size([8, 3, 128, 128]), input2_size (flow?) = torch.Size([8, 2, 128, 128])\n"
     ]
    },
    {
     "name": "stderr",
     "output_type": "stream",
     "text": [
      "Epoch 4/5 - Validation:  73%|██████████████████████████████████████████▉                | 8/11 [28:43<10:46, 215.34s/it]"
     ]
    },
    {
     "name": "stdout",
     "output_type": "stream",
     "text": [
      "Resample2d :  input1_size (img?) = torch.Size([8, 3, 128, 128]), input2_size (flow?) = torch.Size([8, 2, 128, 128])\n"
     ]
    },
    {
     "name": "stderr",
     "output_type": "stream",
     "text": [
      "Epoch 4/5 - Validation:  82%|████████████████████████████████████████████████▎          | 9/11 [32:19<07:11, 215.59s/it]"
     ]
    },
    {
     "name": "stdout",
     "output_type": "stream",
     "text": [
      "Resample2d :  input1_size (img?) = torch.Size([8, 3, 128, 128]), input2_size (flow?) = torch.Size([8, 2, 128, 128])\n"
     ]
    },
    {
     "name": "stderr",
     "output_type": "stream",
     "text": [
      "Epoch 4/5 - Validation:  91%|████████████████████████████████████████████████████▋     | 10/11 [36:15<03:41, 221.93s/it]"
     ]
    },
    {
     "name": "stdout",
     "output_type": "stream",
     "text": [
      "Resample2d :  input1_size (img?) = torch.Size([8, 3, 128, 128]), input2_size (flow?) = torch.Size([8, 2, 128, 128])\n"
     ]
    },
    {
     "name": "stderr",
     "output_type": "stream",
     "text": [
      "                                                                                                                        \r"
     ]
    },
    {
     "name": "stdout",
     "output_type": "stream",
     "text": [
      "Resample2d :  input1_size (img?) = torch.Size([8, 3, 128, 128]), input2_size (flow?) = torch.Size([8, 2, 128, 128])\n",
      "Epoch 4/5, Train Loss: nan, Validation Loss: nan\n"
     ]
    },
    {
     "name": "stderr",
     "output_type": "stream",
     "text": [
      "Epoch 5/5 - Training:   1%|▌                                                         | 1/112 [04:00<7:25:32, 240.83s/it]"
     ]
    },
    {
     "name": "stdout",
     "output_type": "stream",
     "text": [
      "Resample2d :  input1_size (img?) = torch.Size([8, 3, 128, 128]), input2_size (flow?) = torch.Size([8, 2, 128, 128])\n"
     ]
    },
    {
     "name": "stderr",
     "output_type": "stream",
     "text": [
      "Epoch 5/5 - Training:   2%|█                                                         | 2/112 [07:58<7:18:02, 238.93s/it]"
     ]
    },
    {
     "name": "stdout",
     "output_type": "stream",
     "text": [
      "Resample2d :  input1_size (img?) = torch.Size([8, 3, 128, 128]), input2_size (flow?) = torch.Size([8, 2, 128, 128])\n"
     ]
    },
    {
     "name": "stderr",
     "output_type": "stream",
     "text": [
      "Epoch 5/5 - Training:   3%|█▌                                                        | 3/112 [11:55<7:12:13, 237.92s/it]"
     ]
    },
    {
     "name": "stdout",
     "output_type": "stream",
     "text": [
      "Resample2d :  input1_size (img?) = torch.Size([8, 3, 128, 128]), input2_size (flow?) = torch.Size([8, 2, 128, 128])\n"
     ]
    },
    {
     "name": "stderr",
     "output_type": "stream",
     "text": [
      "Epoch 5/5 - Training:   4%|██                                                        | 4/112 [15:53<7:08:45, 238.20s/it]"
     ]
    },
    {
     "name": "stdout",
     "output_type": "stream",
     "text": [
      "Resample2d :  input1_size (img?) = torch.Size([8, 3, 128, 128]), input2_size (flow?) = torch.Size([8, 2, 128, 128])\n"
     ]
    },
    {
     "name": "stderr",
     "output_type": "stream",
     "text": [
      "Epoch 5/5 - Training:   4%|██▌                                                       | 5/112 [19:54<7:06:07, 238.95s/it]"
     ]
    },
    {
     "name": "stdout",
     "output_type": "stream",
     "text": [
      "Resample2d :  input1_size (img?) = torch.Size([8, 3, 128, 128]), input2_size (flow?) = torch.Size([8, 2, 128, 128])\n"
     ]
    },
    {
     "name": "stderr",
     "output_type": "stream",
     "text": [
      "Epoch 5/5 - Training:   5%|███                                                       | 6/112 [23:50<7:00:36, 238.08s/it]"
     ]
    },
    {
     "name": "stdout",
     "output_type": "stream",
     "text": [
      "Resample2d :  input1_size (img?) = torch.Size([8, 3, 128, 128]), input2_size (flow?) = torch.Size([8, 2, 128, 128])\n"
     ]
    },
    {
     "name": "stderr",
     "output_type": "stream",
     "text": [
      "Epoch 5/5 - Training:   6%|███▋                                                      | 7/112 [27:48<6:56:37, 238.07s/it]"
     ]
    },
    {
     "name": "stdout",
     "output_type": "stream",
     "text": [
      "Resample2d :  input1_size (img?) = torch.Size([8, 3, 128, 128]), input2_size (flow?) = torch.Size([8, 2, 128, 128])\n"
     ]
    },
    {
     "name": "stderr",
     "output_type": "stream",
     "text": [
      "Epoch 5/5 - Training:   7%|████▏                                                     | 8/112 [31:48<6:53:31, 238.58s/it]"
     ]
    },
    {
     "name": "stdout",
     "output_type": "stream",
     "text": [
      "Resample2d :  input1_size (img?) = torch.Size([8, 3, 128, 128]), input2_size (flow?) = torch.Size([8, 2, 128, 128])\n"
     ]
    },
    {
     "name": "stderr",
     "output_type": "stream",
     "text": [
      "Epoch 5/5 - Training:   8%|████▋                                                     | 9/112 [35:26<6:38:36, 232.20s/it]"
     ]
    },
    {
     "name": "stdout",
     "output_type": "stream",
     "text": [
      "Resample2d :  input1_size (img?) = torch.Size([8, 3, 128, 128]), input2_size (flow?) = torch.Size([8, 2, 128, 128])\n"
     ]
    },
    {
     "name": "stderr",
     "output_type": "stream",
     "text": [
      "Epoch 5/5 - Training:   9%|█████                                                    | 10/112 [39:02<6:26:16, 227.22s/it]"
     ]
    },
    {
     "name": "stdout",
     "output_type": "stream",
     "text": [
      "Resample2d :  input1_size (img?) = torch.Size([8, 3, 128, 128]), input2_size (flow?) = torch.Size([8, 2, 128, 128])\n"
     ]
    },
    {
     "name": "stderr",
     "output_type": "stream",
     "text": [
      "Epoch 5/5 - Training:  10%|█████▌                                                   | 11/112 [42:34<6:14:41, 222.59s/it]"
     ]
    },
    {
     "name": "stdout",
     "output_type": "stream",
     "text": [
      "Resample2d :  input1_size (img?) = torch.Size([8, 3, 128, 128]), input2_size (flow?) = torch.Size([8, 2, 128, 128])\n"
     ]
    },
    {
     "name": "stderr",
     "output_type": "stream",
     "text": [
      "Epoch 5/5 - Training:  11%|██████                                                   | 12/112 [46:10<6:07:45, 220.66s/it]"
     ]
    },
    {
     "name": "stdout",
     "output_type": "stream",
     "text": [
      "Resample2d :  input1_size (img?) = torch.Size([8, 3, 128, 128]), input2_size (flow?) = torch.Size([8, 2, 128, 128])\n"
     ]
    },
    {
     "name": "stderr",
     "output_type": "stream",
     "text": [
      "Epoch 5/5 - Training:  12%|██████▌                                                  | 13/112 [49:44<6:00:51, 218.70s/it]"
     ]
    },
    {
     "name": "stdout",
     "output_type": "stream",
     "text": [
      "Resample2d :  input1_size (img?) = torch.Size([8, 3, 128, 128]), input2_size (flow?) = torch.Size([8, 2, 128, 128])\n"
     ]
    },
    {
     "name": "stderr",
     "output_type": "stream",
     "text": [
      "Epoch 5/5 - Training:  12%|███████▏                                                 | 14/112 [53:21<5:56:09, 218.05s/it]"
     ]
    },
    {
     "name": "stdout",
     "output_type": "stream",
     "text": [
      "Resample2d :  input1_size (img?) = torch.Size([8, 3, 128, 128]), input2_size (flow?) = torch.Size([8, 2, 128, 128])\n"
     ]
    },
    {
     "name": "stderr",
     "output_type": "stream",
     "text": [
      "Epoch 5/5 - Training:  13%|███████▋                                                 | 15/112 [56:53<5:49:24, 216.13s/it]"
     ]
    },
    {
     "name": "stdout",
     "output_type": "stream",
     "text": [
      "Resample2d :  input1_size (img?) = torch.Size([8, 3, 128, 128]), input2_size (flow?) = torch.Size([8, 2, 128, 128])\n"
     ]
    },
    {
     "name": "stderr",
     "output_type": "stream",
     "text": [
      "Epoch 5/5 - Training:  14%|███████▊                                               | 16/112 [1:00:28<5:45:28, 215.92s/it]"
     ]
    },
    {
     "name": "stdout",
     "output_type": "stream",
     "text": [
      "Resample2d :  input1_size (img?) = torch.Size([8, 3, 128, 128]), input2_size (flow?) = torch.Size([8, 2, 128, 128])\n"
     ]
    },
    {
     "name": "stderr",
     "output_type": "stream",
     "text": [
      "Epoch 5/5 - Training:  15%|████████▎                                              | 17/112 [1:04:06<5:42:53, 216.56s/it]"
     ]
    },
    {
     "name": "stdout",
     "output_type": "stream",
     "text": [
      "Resample2d :  input1_size (img?) = torch.Size([8, 3, 128, 128]), input2_size (flow?) = torch.Size([8, 2, 128, 128])\n"
     ]
    },
    {
     "name": "stderr",
     "output_type": "stream",
     "text": [
      "Epoch 5/5 - Training:  16%|████████▊                                              | 18/112 [1:07:43<5:39:13, 216.53s/it]"
     ]
    },
    {
     "name": "stdout",
     "output_type": "stream",
     "text": [
      "Resample2d :  input1_size (img?) = torch.Size([8, 3, 128, 128]), input2_size (flow?) = torch.Size([8, 2, 128, 128])\n"
     ]
    },
    {
     "name": "stderr",
     "output_type": "stream",
     "text": [
      "Epoch 5/5 - Training:  17%|█████████▎                                             | 19/112 [1:11:21<5:36:39, 217.19s/it]"
     ]
    },
    {
     "name": "stdout",
     "output_type": "stream",
     "text": [
      "Resample2d :  input1_size (img?) = torch.Size([8, 3, 128, 128]), input2_size (flow?) = torch.Size([8, 2, 128, 128])\n"
     ]
    },
    {
     "name": "stderr",
     "output_type": "stream",
     "text": [
      "Epoch 5/5 - Training:  18%|█████████▊                                             | 20/112 [1:14:57<5:32:23, 216.78s/it]"
     ]
    },
    {
     "name": "stdout",
     "output_type": "stream",
     "text": [
      "Resample2d :  input1_size (img?) = torch.Size([8, 3, 128, 128]), input2_size (flow?) = torch.Size([8, 2, 128, 128])\n"
     ]
    },
    {
     "name": "stderr",
     "output_type": "stream",
     "text": [
      "Epoch 5/5 - Training:  19%|██████████▎                                            | 21/112 [1:18:34<5:28:50, 216.82s/it]"
     ]
    },
    {
     "name": "stdout",
     "output_type": "stream",
     "text": [
      "Resample2d :  input1_size (img?) = torch.Size([8, 3, 128, 128]), input2_size (flow?) = torch.Size([8, 2, 128, 128])\n"
     ]
    },
    {
     "name": "stderr",
     "output_type": "stream",
     "text": [
      "Epoch 5/5 - Training:  20%|██████████▊                                            | 22/112 [1:22:07<5:23:20, 215.56s/it]"
     ]
    },
    {
     "name": "stdout",
     "output_type": "stream",
     "text": [
      "Resample2d :  input1_size (img?) = torch.Size([8, 3, 128, 128]), input2_size (flow?) = torch.Size([8, 2, 128, 128])\n"
     ]
    },
    {
     "name": "stderr",
     "output_type": "stream",
     "text": [
      "Epoch 5/5 - Training:  21%|███████████▎                                           | 23/112 [1:25:40<5:18:52, 214.97s/it]"
     ]
    },
    {
     "name": "stdout",
     "output_type": "stream",
     "text": [
      "Resample2d :  input1_size (img?) = torch.Size([8, 3, 128, 128]), input2_size (flow?) = torch.Size([8, 2, 128, 128])\n"
     ]
    },
    {
     "name": "stderr",
     "output_type": "stream",
     "text": [
      "Epoch 5/5 - Training:  21%|███████████▊                                           | 24/112 [1:29:17<5:16:01, 215.48s/it]"
     ]
    },
    {
     "name": "stdout",
     "output_type": "stream",
     "text": [
      "Resample2d :  input1_size (img?) = torch.Size([8, 3, 128, 128]), input2_size (flow?) = torch.Size([8, 2, 128, 128])\n"
     ]
    },
    {
     "name": "stderr",
     "output_type": "stream",
     "text": [
      "Epoch 5/5 - Training:  22%|████████████▎                                          | 25/112 [1:32:53<5:12:37, 215.61s/it]"
     ]
    },
    {
     "name": "stdout",
     "output_type": "stream",
     "text": [
      "Resample2d :  input1_size (img?) = torch.Size([8, 3, 128, 128]), input2_size (flow?) = torch.Size([8, 2, 128, 128])\n"
     ]
    },
    {
     "name": "stderr",
     "output_type": "stream",
     "text": [
      "Epoch 5/5 - Training:  23%|████████████▊                                          | 26/112 [1:36:31<5:09:56, 216.24s/it]"
     ]
    },
    {
     "name": "stdout",
     "output_type": "stream",
     "text": [
      "Resample2d :  input1_size (img?) = torch.Size([8, 3, 128, 128]), input2_size (flow?) = torch.Size([8, 2, 128, 128])\n"
     ]
    },
    {
     "name": "stderr",
     "output_type": "stream",
     "text": [
      "Epoch 5/5 - Training:  24%|█████████████▎                                         | 27/112 [1:40:07<5:06:15, 216.18s/it]"
     ]
    },
    {
     "name": "stdout",
     "output_type": "stream",
     "text": [
      "Resample2d :  input1_size (img?) = torch.Size([8, 3, 128, 128]), input2_size (flow?) = torch.Size([8, 2, 128, 128])\n"
     ]
    },
    {
     "name": "stderr",
     "output_type": "stream",
     "text": [
      "Epoch 5/5 - Training:  25%|█████████████▊                                         | 28/112 [1:43:42<5:02:14, 215.88s/it]"
     ]
    },
    {
     "name": "stdout",
     "output_type": "stream",
     "text": [
      "Resample2d :  input1_size (img?) = torch.Size([8, 3, 128, 128]), input2_size (flow?) = torch.Size([8, 2, 128, 128])\n"
     ]
    },
    {
     "name": "stderr",
     "output_type": "stream",
     "text": [
      "Epoch 5/5 - Training:  26%|██████████████▏                                        | 29/112 [1:47:19<4:59:05, 216.21s/it]"
     ]
    },
    {
     "name": "stdout",
     "output_type": "stream",
     "text": [
      "Resample2d :  input1_size (img?) = torch.Size([8, 3, 128, 128]), input2_size (flow?) = torch.Size([8, 2, 128, 128])\n"
     ]
    },
    {
     "name": "stderr",
     "output_type": "stream",
     "text": [
      "Epoch 5/5 - Training:  27%|██████████████▋                                        | 30/112 [1:50:56<4:55:56, 216.54s/it]"
     ]
    },
    {
     "name": "stdout",
     "output_type": "stream",
     "text": [
      "Resample2d :  input1_size (img?) = torch.Size([8, 3, 128, 128]), input2_size (flow?) = torch.Size([8, 2, 128, 128])\n"
     ]
    },
    {
     "name": "stderr",
     "output_type": "stream",
     "text": [
      "Epoch 5/5 - Training:  28%|███████████████▏                                       | 31/112 [1:54:32<4:52:03, 216.33s/it]"
     ]
    },
    {
     "name": "stdout",
     "output_type": "stream",
     "text": [
      "Resample2d :  input1_size (img?) = torch.Size([8, 3, 128, 128]), input2_size (flow?) = torch.Size([8, 2, 128, 128])\n"
     ]
    },
    {
     "name": "stderr",
     "output_type": "stream",
     "text": [
      "Epoch 5/5 - Training:  29%|███████████████▋                                       | 32/112 [1:58:06<4:47:32, 215.66s/it]"
     ]
    },
    {
     "name": "stdout",
     "output_type": "stream",
     "text": [
      "Resample2d :  input1_size (img?) = torch.Size([8, 3, 128, 128]), input2_size (flow?) = torch.Size([8, 2, 128, 128])\n"
     ]
    },
    {
     "name": "stderr",
     "output_type": "stream",
     "text": [
      "Epoch 5/5 - Training:  29%|████████████████▏                                      | 33/112 [2:01:44<4:44:46, 216.29s/it]"
     ]
    },
    {
     "name": "stdout",
     "output_type": "stream",
     "text": [
      "Resample2d :  input1_size (img?) = torch.Size([8, 3, 128, 128]), input2_size (flow?) = torch.Size([8, 2, 128, 128])\n"
     ]
    },
    {
     "name": "stderr",
     "output_type": "stream",
     "text": [
      "Epoch 5/5 - Training:  30%|████████████████▋                                      | 34/112 [2:05:18<4:40:13, 215.55s/it]"
     ]
    },
    {
     "name": "stdout",
     "output_type": "stream",
     "text": [
      "Resample2d :  input1_size (img?) = torch.Size([8, 3, 128, 128]), input2_size (flow?) = torch.Size([8, 2, 128, 128])\n"
     ]
    },
    {
     "name": "stderr",
     "output_type": "stream",
     "text": [
      "Epoch 5/5 - Training:  31%|█████████████████▏                                     | 35/112 [2:08:52<4:36:20, 215.33s/it]"
     ]
    },
    {
     "name": "stdout",
     "output_type": "stream",
     "text": [
      "Resample2d :  input1_size (img?) = torch.Size([8, 3, 128, 128]), input2_size (flow?) = torch.Size([8, 2, 128, 128])\n"
     ]
    },
    {
     "name": "stderr",
     "output_type": "stream",
     "text": [
      "Epoch 5/5 - Training:  32%|█████████████████▋                                     | 36/112 [2:12:26<4:32:15, 214.94s/it]"
     ]
    },
    {
     "name": "stdout",
     "output_type": "stream",
     "text": [
      "Resample2d :  input1_size (img?) = torch.Size([8, 3, 128, 128]), input2_size (flow?) = torch.Size([8, 2, 128, 128])\n"
     ]
    },
    {
     "name": "stderr",
     "output_type": "stream",
     "text": [
      "Epoch 5/5 - Training:  33%|██████████████████▏                                    | 37/112 [2:16:02<4:28:42, 214.97s/it]"
     ]
    },
    {
     "name": "stdout",
     "output_type": "stream",
     "text": [
      "Resample2d :  input1_size (img?) = torch.Size([8, 3, 128, 128]), input2_size (flow?) = torch.Size([8, 2, 128, 128])\n"
     ]
    },
    {
     "name": "stderr",
     "output_type": "stream",
     "text": [
      "Epoch 5/5 - Training:  34%|██████████████████▋                                    | 38/112 [2:19:33<4:23:53, 213.97s/it]"
     ]
    },
    {
     "name": "stdout",
     "output_type": "stream",
     "text": [
      "Resample2d :  input1_size (img?) = torch.Size([8, 3, 128, 128]), input2_size (flow?) = torch.Size([8, 2, 128, 128])\n"
     ]
    },
    {
     "name": "stderr",
     "output_type": "stream",
     "text": [
      "Epoch 5/5 - Training:  35%|███████████████████▏                                   | 39/112 [2:23:09<4:21:04, 214.58s/it]"
     ]
    },
    {
     "name": "stdout",
     "output_type": "stream",
     "text": [
      "Resample2d :  input1_size (img?) = torch.Size([8, 3, 128, 128]), input2_size (flow?) = torch.Size([8, 2, 128, 128])\n"
     ]
    },
    {
     "name": "stderr",
     "output_type": "stream",
     "text": [
      "Epoch 5/5 - Training:  36%|███████████████████▋                                   | 40/112 [2:26:41<4:16:21, 213.64s/it]"
     ]
    },
    {
     "name": "stdout",
     "output_type": "stream",
     "text": [
      "Resample2d :  input1_size (img?) = torch.Size([8, 3, 128, 128]), input2_size (flow?) = torch.Size([8, 2, 128, 128])\n"
     ]
    },
    {
     "name": "stderr",
     "output_type": "stream",
     "text": [
      "Epoch 5/5 - Training:  37%|████████████████████▏                                  | 41/112 [2:30:15<4:13:14, 214.01s/it]"
     ]
    },
    {
     "name": "stdout",
     "output_type": "stream",
     "text": [
      "Resample2d :  input1_size (img?) = torch.Size([8, 3, 128, 128]), input2_size (flow?) = torch.Size([8, 2, 128, 128])\n"
     ]
    },
    {
     "name": "stderr",
     "output_type": "stream",
     "text": [
      "Epoch 5/5 - Training:  38%|████████████████████▋                                  | 42/112 [2:33:51<4:10:02, 214.32s/it]"
     ]
    },
    {
     "name": "stdout",
     "output_type": "stream",
     "text": [
      "Resample2d :  input1_size (img?) = torch.Size([8, 3, 128, 128]), input2_size (flow?) = torch.Size([8, 2, 128, 128])\n"
     ]
    },
    {
     "name": "stderr",
     "output_type": "stream",
     "text": [
      "Epoch 5/5 - Training:  38%|█████████████████████                                  | 43/112 [2:37:28<4:07:24, 215.13s/it]"
     ]
    },
    {
     "name": "stdout",
     "output_type": "stream",
     "text": [
      "Resample2d :  input1_size (img?) = torch.Size([8, 3, 128, 128]), input2_size (flow?) = torch.Size([8, 2, 128, 128])\n"
     ]
    },
    {
     "name": "stderr",
     "output_type": "stream",
     "text": [
      "Epoch 5/5 - Training:  39%|█████████████████████▌                                 | 44/112 [2:41:02<4:03:30, 214.85s/it]"
     ]
    },
    {
     "name": "stdout",
     "output_type": "stream",
     "text": [
      "Resample2d :  input1_size (img?) = torch.Size([8, 3, 128, 128]), input2_size (flow?) = torch.Size([8, 2, 128, 128])\n"
     ]
    },
    {
     "name": "stderr",
     "output_type": "stream",
     "text": [
      "Epoch 5/5 - Training:  40%|██████████████████████                                 | 45/112 [2:44:36<3:59:39, 214.62s/it]"
     ]
    },
    {
     "name": "stdout",
     "output_type": "stream",
     "text": [
      "Resample2d :  input1_size (img?) = torch.Size([8, 3, 128, 128]), input2_size (flow?) = torch.Size([8, 2, 128, 128])\n"
     ]
    },
    {
     "name": "stderr",
     "output_type": "stream",
     "text": [
      "Epoch 5/5 - Training:  41%|██████████████████████▌                                | 46/112 [2:48:09<3:55:42, 214.28s/it]"
     ]
    },
    {
     "name": "stdout",
     "output_type": "stream",
     "text": [
      "Resample2d :  input1_size (img?) = torch.Size([8, 3, 128, 128]), input2_size (flow?) = torch.Size([8, 2, 128, 128])\n"
     ]
    },
    {
     "name": "stderr",
     "output_type": "stream",
     "text": [
      "Epoch 5/5 - Training:  42%|███████████████████████                                | 47/112 [2:51:43<3:52:04, 214.22s/it]"
     ]
    },
    {
     "name": "stdout",
     "output_type": "stream",
     "text": [
      "Resample2d :  input1_size (img?) = torch.Size([8, 3, 128, 128]), input2_size (flow?) = torch.Size([8, 2, 128, 128])\n"
     ]
    },
    {
     "name": "stderr",
     "output_type": "stream",
     "text": [
      "Epoch 5/5 - Training:  43%|███████████████████████▌                               | 48/112 [2:55:17<3:48:16, 214.01s/it]"
     ]
    },
    {
     "name": "stdout",
     "output_type": "stream",
     "text": [
      "Resample2d :  input1_size (img?) = torch.Size([8, 3, 128, 128]), input2_size (flow?) = torch.Size([8, 2, 128, 128])\n"
     ]
    },
    {
     "name": "stderr",
     "output_type": "stream",
     "text": [
      "Epoch 5/5 - Training:  44%|████████████████████████                               | 49/112 [2:58:50<3:44:28, 213.79s/it]"
     ]
    },
    {
     "name": "stdout",
     "output_type": "stream",
     "text": [
      "Resample2d :  input1_size (img?) = torch.Size([8, 3, 128, 128]), input2_size (flow?) = torch.Size([8, 2, 128, 128])\n"
     ]
    },
    {
     "name": "stderr",
     "output_type": "stream",
     "text": [
      "Epoch 5/5 - Training:  45%|████████████████████████▌                              | 50/112 [3:02:21<3:40:01, 212.93s/it]"
     ]
    },
    {
     "name": "stdout",
     "output_type": "stream",
     "text": [
      "Resample2d :  input1_size (img?) = torch.Size([8, 3, 128, 128]), input2_size (flow?) = torch.Size([8, 2, 128, 128])\n"
     ]
    },
    {
     "name": "stderr",
     "output_type": "stream",
     "text": [
      "Epoch 5/5 - Training:  46%|█████████████████████████                              | 51/112 [3:05:55<3:36:44, 213.19s/it]"
     ]
    },
    {
     "name": "stdout",
     "output_type": "stream",
     "text": [
      "Resample2d :  input1_size (img?) = torch.Size([8, 3, 128, 128]), input2_size (flow?) = torch.Size([8, 2, 128, 128])\n"
     ]
    },
    {
     "name": "stderr",
     "output_type": "stream",
     "text": [
      "Epoch 5/5 - Training:  46%|█████████████████████████▌                             | 52/112 [3:09:26<3:32:41, 212.69s/it]"
     ]
    },
    {
     "name": "stdout",
     "output_type": "stream",
     "text": [
      "Resample2d :  input1_size (img?) = torch.Size([8, 3, 128, 128]), input2_size (flow?) = torch.Size([8, 2, 128, 128])\n"
     ]
    },
    {
     "name": "stderr",
     "output_type": "stream",
     "text": [
      "Epoch 5/5 - Training:  47%|██████████████████████████                             | 53/112 [3:13:00<3:29:29, 213.05s/it]"
     ]
    },
    {
     "name": "stdout",
     "output_type": "stream",
     "text": [
      "Resample2d :  input1_size (img?) = torch.Size([8, 3, 128, 128]), input2_size (flow?) = torch.Size([8, 2, 128, 128])\n"
     ]
    },
    {
     "name": "stderr",
     "output_type": "stream",
     "text": [
      "Epoch 5/5 - Training:  48%|██████████████████████████▌                            | 54/112 [3:16:32<3:25:25, 212.51s/it]"
     ]
    },
    {
     "name": "stdout",
     "output_type": "stream",
     "text": [
      "Resample2d :  input1_size (img?) = torch.Size([8, 3, 128, 128]), input2_size (flow?) = torch.Size([8, 2, 128, 128])\n"
     ]
    },
    {
     "name": "stderr",
     "output_type": "stream",
     "text": [
      "Epoch 5/5 - Training:  49%|███████████████████████████                            | 55/112 [3:20:05<3:22:05, 212.73s/it]"
     ]
    },
    {
     "name": "stdout",
     "output_type": "stream",
     "text": [
      "Resample2d :  input1_size (img?) = torch.Size([8, 3, 128, 128]), input2_size (flow?) = torch.Size([8, 2, 128, 128])\n"
     ]
    },
    {
     "name": "stderr",
     "output_type": "stream",
     "text": [
      "Epoch 5/5 - Training:  50%|███████████████████████████▌                           | 56/112 [3:23:37<3:18:18, 212.47s/it]"
     ]
    },
    {
     "name": "stdout",
     "output_type": "stream",
     "text": [
      "Resample2d :  input1_size (img?) = torch.Size([8, 3, 128, 128]), input2_size (flow?) = torch.Size([8, 2, 128, 128])\n"
     ]
    },
    {
     "name": "stderr",
     "output_type": "stream",
     "text": [
      "Epoch 5/5 - Training:  51%|███████████████████████████▉                           | 57/112 [3:27:11<3:15:11, 212.94s/it]"
     ]
    },
    {
     "name": "stdout",
     "output_type": "stream",
     "text": [
      "Resample2d :  input1_size (img?) = torch.Size([8, 3, 128, 128]), input2_size (flow?) = torch.Size([8, 2, 128, 128])\n"
     ]
    },
    {
     "name": "stderr",
     "output_type": "stream",
     "text": [
      "Epoch 5/5 - Training:  52%|████████████████████████████▍                          | 58/112 [3:30:42<3:11:18, 212.57s/it]"
     ]
    },
    {
     "name": "stdout",
     "output_type": "stream",
     "text": [
      "Resample2d :  input1_size (img?) = torch.Size([8, 3, 128, 128]), input2_size (flow?) = torch.Size([8, 2, 128, 128])\n"
     ]
    },
    {
     "name": "stderr",
     "output_type": "stream",
     "text": [
      "Epoch 5/5 - Training:  53%|████████████████████████████▉                          | 59/112 [3:34:15<3:07:44, 212.55s/it]"
     ]
    },
    {
     "name": "stdout",
     "output_type": "stream",
     "text": [
      "Resample2d :  input1_size (img?) = torch.Size([8, 3, 128, 128]), input2_size (flow?) = torch.Size([8, 2, 128, 128])\n"
     ]
    },
    {
     "name": "stderr",
     "output_type": "stream",
     "text": [
      "Epoch 5/5 - Training:  54%|█████████████████████████████▍                         | 60/112 [3:37:48<3:04:18, 212.66s/it]"
     ]
    },
    {
     "name": "stdout",
     "output_type": "stream",
     "text": [
      "Resample2d :  input1_size (img?) = torch.Size([8, 3, 128, 128]), input2_size (flow?) = torch.Size([8, 2, 128, 128])\n"
     ]
    },
    {
     "name": "stderr",
     "output_type": "stream",
     "text": [
      "Epoch 5/5 - Training:  54%|█████████████████████████████▉                         | 61/112 [3:41:26<3:02:13, 214.38s/it]"
     ]
    },
    {
     "name": "stdout",
     "output_type": "stream",
     "text": [
      "Resample2d :  input1_size (img?) = torch.Size([8, 3, 128, 128]), input2_size (flow?) = torch.Size([8, 2, 128, 128])\n"
     ]
    },
    {
     "name": "stderr",
     "output_type": "stream",
     "text": [
      "Epoch 5/5 - Training:  55%|██████████████████████████████▍                        | 62/112 [3:44:59<2:58:19, 213.98s/it]"
     ]
    },
    {
     "name": "stdout",
     "output_type": "stream",
     "text": [
      "Resample2d :  input1_size (img?) = torch.Size([8, 3, 128, 128]), input2_size (flow?) = torch.Size([8, 2, 128, 128])\n"
     ]
    },
    {
     "name": "stderr",
     "output_type": "stream",
     "text": [
      "Epoch 5/5 - Training:  56%|██████████████████████████████▉                        | 63/112 [3:48:31<2:54:08, 213.24s/it]"
     ]
    },
    {
     "name": "stdout",
     "output_type": "stream",
     "text": [
      "Resample2d :  input1_size (img?) = torch.Size([8, 3, 128, 128]), input2_size (flow?) = torch.Size([8, 2, 128, 128])\n"
     ]
    },
    {
     "name": "stderr",
     "output_type": "stream",
     "text": [
      "Epoch 5/5 - Training:  57%|███████████████████████████████▍                       | 64/112 [3:52:03<2:50:14, 212.80s/it]"
     ]
    },
    {
     "name": "stdout",
     "output_type": "stream",
     "text": [
      "Resample2d :  input1_size (img?) = torch.Size([8, 3, 128, 128]), input2_size (flow?) = torch.Size([8, 2, 128, 128])\n"
     ]
    },
    {
     "name": "stderr",
     "output_type": "stream",
     "text": [
      "Epoch 5/5 - Training:  58%|███████████████████████████████▉                       | 65/112 [3:55:32<2:45:59, 211.91s/it]"
     ]
    },
    {
     "name": "stdout",
     "output_type": "stream",
     "text": [
      "Resample2d :  input1_size (img?) = torch.Size([8, 3, 128, 128]), input2_size (flow?) = torch.Size([8, 2, 128, 128])\n"
     ]
    },
    {
     "name": "stderr",
     "output_type": "stream",
     "text": [
      "Epoch 5/5 - Training:  59%|████████████████████████████████▍                      | 66/112 [3:59:06<2:42:51, 212.43s/it]"
     ]
    },
    {
     "name": "stdout",
     "output_type": "stream",
     "text": [
      "Resample2d :  input1_size (img?) = torch.Size([8, 3, 128, 128]), input2_size (flow?) = torch.Size([8, 2, 128, 128])\n"
     ]
    },
    {
     "name": "stderr",
     "output_type": "stream",
     "text": [
      "Epoch 5/5 - Training:  60%|████████████████████████████████▉                      | 67/112 [4:02:39<2:39:29, 212.65s/it]"
     ]
    },
    {
     "name": "stdout",
     "output_type": "stream",
     "text": [
      "Resample2d :  input1_size (img?) = torch.Size([8, 3, 128, 128]), input2_size (flow?) = torch.Size([8, 2, 128, 128])\n"
     ]
    },
    {
     "name": "stderr",
     "output_type": "stream",
     "text": [
      "Epoch 5/5 - Training:  61%|█████████████████████████████████▍                     | 68/112 [4:06:13<2:36:08, 212.91s/it]"
     ]
    },
    {
     "name": "stdout",
     "output_type": "stream",
     "text": [
      "Resample2d :  input1_size (img?) = torch.Size([8, 3, 128, 128]), input2_size (flow?) = torch.Size([8, 2, 128, 128])\n"
     ]
    },
    {
     "name": "stderr",
     "output_type": "stream",
     "text": [
      "Epoch 5/5 - Training:  62%|█████████████████████████████████▉                     | 69/112 [4:09:49<2:33:23, 214.02s/it]"
     ]
    },
    {
     "name": "stdout",
     "output_type": "stream",
     "text": [
      "Resample2d :  input1_size (img?) = torch.Size([8, 3, 128, 128]), input2_size (flow?) = torch.Size([8, 2, 128, 128])\n"
     ]
    },
    {
     "name": "stderr",
     "output_type": "stream",
     "text": [
      "Epoch 5/5 - Training:  62%|██████████████████████████████████▍                    | 70/112 [4:13:26<2:30:18, 214.72s/it]"
     ]
    },
    {
     "name": "stdout",
     "output_type": "stream",
     "text": [
      "Resample2d :  input1_size (img?) = torch.Size([8, 3, 128, 128]), input2_size (flow?) = torch.Size([8, 2, 128, 128])\n"
     ]
    },
    {
     "name": "stderr",
     "output_type": "stream",
     "text": [
      "Epoch 5/5 - Training:  63%|██████████████████████████████████▊                    | 71/112 [4:16:58<2:26:15, 214.04s/it]"
     ]
    },
    {
     "name": "stdout",
     "output_type": "stream",
     "text": [
      "Resample2d :  input1_size (img?) = torch.Size([8, 3, 128, 128]), input2_size (flow?) = torch.Size([8, 2, 128, 128])\n"
     ]
    },
    {
     "name": "stderr",
     "output_type": "stream",
     "text": [
      "Epoch 5/5 - Training:  64%|███████████████████████████████████▎                   | 72/112 [4:20:36<2:23:30, 215.25s/it]"
     ]
    },
    {
     "name": "stdout",
     "output_type": "stream",
     "text": [
      "Resample2d :  input1_size (img?) = torch.Size([8, 3, 128, 128]), input2_size (flow?) = torch.Size([8, 2, 128, 128])\n"
     ]
    },
    {
     "name": "stderr",
     "output_type": "stream",
     "text": [
      "Epoch 5/5 - Training:  65%|███████████████████████████████████▊                   | 73/112 [4:24:14<2:20:26, 216.07s/it]"
     ]
    },
    {
     "name": "stdout",
     "output_type": "stream",
     "text": [
      "Resample2d :  input1_size (img?) = torch.Size([8, 3, 128, 128]), input2_size (flow?) = torch.Size([8, 2, 128, 128])\n"
     ]
    },
    {
     "name": "stderr",
     "output_type": "stream",
     "text": [
      "Epoch 5/5 - Training:  66%|████████████████████████████████████▎                  | 74/112 [4:27:48<2:16:22, 215.34s/it]"
     ]
    },
    {
     "name": "stdout",
     "output_type": "stream",
     "text": [
      "Resample2d :  input1_size (img?) = torch.Size([8, 3, 128, 128]), input2_size (flow?) = torch.Size([8, 2, 128, 128])\n"
     ]
    },
    {
     "name": "stderr",
     "output_type": "stream",
     "text": [
      "Epoch 5/5 - Training:  67%|████████████████████████████████████▊                  | 75/112 [4:31:25<2:13:07, 215.88s/it]"
     ]
    },
    {
     "name": "stdout",
     "output_type": "stream",
     "text": [
      "Resample2d :  input1_size (img?) = torch.Size([8, 3, 128, 128]), input2_size (flow?) = torch.Size([8, 2, 128, 128])\n"
     ]
    },
    {
     "name": "stderr",
     "output_type": "stream",
     "text": [
      "Epoch 5/5 - Training:  68%|█████████████████████████████████████▎                 | 76/112 [4:35:00<2:09:19, 215.55s/it]"
     ]
    },
    {
     "name": "stdout",
     "output_type": "stream",
     "text": [
      "Resample2d :  input1_size (img?) = torch.Size([8, 3, 128, 128]), input2_size (flow?) = torch.Size([8, 2, 128, 128])\n"
     ]
    },
    {
     "name": "stderr",
     "output_type": "stream",
     "text": [
      "Epoch 5/5 - Training:  69%|█████████████████████████████████████▊                 | 77/112 [4:38:36<2:05:46, 215.62s/it]"
     ]
    },
    {
     "name": "stdout",
     "output_type": "stream",
     "text": [
      "Resample2d :  input1_size (img?) = torch.Size([8, 3, 128, 128]), input2_size (flow?) = torch.Size([8, 2, 128, 128])\n"
     ]
    },
    {
     "name": "stderr",
     "output_type": "stream",
     "text": [
      "Epoch 5/5 - Training:  70%|██████████████████████████████████████▎                | 78/112 [4:42:20<2:03:46, 218.42s/it]"
     ]
    },
    {
     "name": "stdout",
     "output_type": "stream",
     "text": [
      "Resample2d :  input1_size (img?) = torch.Size([8, 3, 128, 128]), input2_size (flow?) = torch.Size([8, 2, 128, 128])\n"
     ]
    },
    {
     "name": "stderr",
     "output_type": "stream",
     "text": [
      "Epoch 5/5 - Training:  71%|██████████████████████████████████████▊                | 79/112 [4:46:07<2:01:31, 220.96s/it]"
     ]
    },
    {
     "name": "stdout",
     "output_type": "stream",
     "text": [
      "Resample2d :  input1_size (img?) = torch.Size([8, 3, 128, 128]), input2_size (flow?) = torch.Size([8, 2, 128, 128])\n"
     ]
    },
    {
     "name": "stderr",
     "output_type": "stream",
     "text": [
      "Epoch 5/5 - Training:  71%|███████████████████████████████████████▎               | 80/112 [4:49:42<1:56:46, 218.94s/it]"
     ]
    },
    {
     "name": "stdout",
     "output_type": "stream",
     "text": [
      "Resample2d :  input1_size (img?) = torch.Size([8, 3, 128, 128]), input2_size (flow?) = torch.Size([8, 2, 128, 128])\n"
     ]
    },
    {
     "name": "stderr",
     "output_type": "stream",
     "text": [
      "Epoch 5/5 - Training:  72%|███████████████████████████████████████▊               | 81/112 [4:53:11<1:51:41, 216.19s/it]"
     ]
    },
    {
     "name": "stdout",
     "output_type": "stream",
     "text": [
      "Resample2d :  input1_size (img?) = torch.Size([8, 3, 128, 128]), input2_size (flow?) = torch.Size([8, 2, 128, 128])\n"
     ]
    },
    {
     "name": "stderr",
     "output_type": "stream",
     "text": [
      "Epoch 5/5 - Training:  73%|████████████████████████████████████████▎              | 82/112 [4:56:45<1:47:43, 215.44s/it]"
     ]
    },
    {
     "name": "stdout",
     "output_type": "stream",
     "text": [
      "Resample2d :  input1_size (img?) = torch.Size([8, 3, 128, 128]), input2_size (flow?) = torch.Size([8, 2, 128, 128])\n"
     ]
    },
    {
     "name": "stderr",
     "output_type": "stream",
     "text": [
      "Epoch 5/5 - Training:  74%|████████████████████████████████████████▊              | 83/112 [5:00:20<1:44:05, 215.35s/it]"
     ]
    },
    {
     "name": "stdout",
     "output_type": "stream",
     "text": [
      "Resample2d :  input1_size (img?) = torch.Size([8, 3, 128, 128]), input2_size (flow?) = torch.Size([8, 2, 128, 128])\n"
     ]
    },
    {
     "name": "stderr",
     "output_type": "stream",
     "text": [
      "Epoch 5/5 - Training:  75%|█████████████████████████████████████████▎             | 84/112 [5:03:53<1:40:05, 214.48s/it]"
     ]
    },
    {
     "name": "stdout",
     "output_type": "stream",
     "text": [
      "Resample2d :  input1_size (img?) = torch.Size([8, 3, 128, 128]), input2_size (flow?) = torch.Size([8, 2, 128, 128])\n"
     ]
    },
    {
     "name": "stderr",
     "output_type": "stream",
     "text": [
      "Epoch 5/5 - Training:  76%|█████████████████████████████████████████▋             | 85/112 [5:07:24<1:36:01, 213.41s/it]"
     ]
    },
    {
     "name": "stdout",
     "output_type": "stream",
     "text": [
      "Resample2d :  input1_size (img?) = torch.Size([8, 3, 128, 128]), input2_size (flow?) = torch.Size([8, 2, 128, 128])\n"
     ]
    },
    {
     "name": "stderr",
     "output_type": "stream",
     "text": [
      "Epoch 5/5 - Training:  77%|██████████████████████████████████████████▏            | 86/112 [5:11:00<1:32:52, 214.33s/it]"
     ]
    },
    {
     "name": "stdout",
     "output_type": "stream",
     "text": [
      "Resample2d :  input1_size (img?) = torch.Size([8, 3, 128, 128]), input2_size (flow?) = torch.Size([8, 2, 128, 128])\n"
     ]
    },
    {
     "name": "stderr",
     "output_type": "stream",
     "text": [
      "Epoch 5/5 - Training:  78%|██████████████████████████████████████████▋            | 87/112 [5:14:37<1:29:40, 215.22s/it]"
     ]
    },
    {
     "name": "stdout",
     "output_type": "stream",
     "text": [
      "Resample2d :  input1_size (img?) = torch.Size([8, 3, 128, 128]), input2_size (flow?) = torch.Size([8, 2, 128, 128])\n"
     ]
    },
    {
     "name": "stderr",
     "output_type": "stream",
     "text": [
      "Epoch 5/5 - Training:  79%|███████████████████████████████████████████▏           | 88/112 [5:18:14<1:26:15, 215.63s/it]"
     ]
    },
    {
     "name": "stdout",
     "output_type": "stream",
     "text": [
      "Resample2d :  input1_size (img?) = torch.Size([8, 3, 128, 128]), input2_size (flow?) = torch.Size([8, 2, 128, 128])\n"
     ]
    },
    {
     "name": "stderr",
     "output_type": "stream",
     "text": [
      "Epoch 5/5 - Training:  79%|███████████████████████████████████████████▋           | 89/112 [5:21:53<1:23:00, 216.53s/it]"
     ]
    },
    {
     "name": "stdout",
     "output_type": "stream",
     "text": [
      "Resample2d :  input1_size (img?) = torch.Size([8, 3, 128, 128]), input2_size (flow?) = torch.Size([8, 2, 128, 128])\n"
     ]
    },
    {
     "name": "stderr",
     "output_type": "stream",
     "text": [
      "Epoch 5/5 - Training:  80%|████████████████████████████████████████████▏          | 90/112 [5:25:28<1:19:17, 216.24s/it]"
     ]
    },
    {
     "name": "stdout",
     "output_type": "stream",
     "text": [
      "Resample2d :  input1_size (img?) = torch.Size([8, 3, 128, 128]), input2_size (flow?) = torch.Size([8, 2, 128, 128])\n"
     ]
    },
    {
     "name": "stderr",
     "output_type": "stream",
     "text": [
      "Epoch 5/5 - Training:  81%|████████████████████████████████████████████▋          | 91/112 [5:29:04<1:15:40, 216.23s/it]"
     ]
    },
    {
     "name": "stdout",
     "output_type": "stream",
     "text": [
      "Resample2d :  input1_size (img?) = torch.Size([8, 3, 128, 128]), input2_size (flow?) = torch.Size([8, 2, 128, 128])\n"
     ]
    },
    {
     "name": "stderr",
     "output_type": "stream",
     "text": [
      "Epoch 5/5 - Training:  82%|█████████████████████████████████████████████▏         | 92/112 [5:32:39<1:11:56, 215.81s/it]"
     ]
    },
    {
     "name": "stdout",
     "output_type": "stream",
     "text": [
      "Resample2d :  input1_size (img?) = torch.Size([8, 3, 128, 128]), input2_size (flow?) = torch.Size([8, 2, 128, 128])\n"
     ]
    },
    {
     "name": "stderr",
     "output_type": "stream",
     "text": [
      "Epoch 5/5 - Training:  83%|█████████████████████████████████████████████▋         | 93/112 [5:36:13<1:08:12, 215.38s/it]"
     ]
    },
    {
     "name": "stdout",
     "output_type": "stream",
     "text": [
      "Resample2d :  input1_size (img?) = torch.Size([8, 3, 128, 128]), input2_size (flow?) = torch.Size([8, 2, 128, 128])\n"
     ]
    },
    {
     "name": "stderr",
     "output_type": "stream",
     "text": [
      "Epoch 5/5 - Training:  84%|██████████████████████████████████████████████▏        | 94/112 [5:39:52<1:04:51, 216.22s/it]"
     ]
    },
    {
     "name": "stdout",
     "output_type": "stream",
     "text": [
      "Resample2d :  input1_size (img?) = torch.Size([8, 3, 128, 128]), input2_size (flow?) = torch.Size([8, 2, 128, 128])\n"
     ]
    },
    {
     "name": "stderr",
     "output_type": "stream",
     "text": [
      "Epoch 5/5 - Training:  85%|██████████████████████████████████████████████▋        | 95/112 [5:43:35<1:01:53, 218.44s/it]"
     ]
    },
    {
     "name": "stdout",
     "output_type": "stream",
     "text": [
      "Resample2d :  input1_size (img?) = torch.Size([8, 3, 128, 128]), input2_size (flow?) = torch.Size([8, 2, 128, 128])\n"
     ]
    },
    {
     "name": "stderr",
     "output_type": "stream",
     "text": [
      "Epoch 5/5 - Training:  86%|████████████████████████████████████████████████▊        | 96/112 [5:47:13<58:10, 218.15s/it]"
     ]
    },
    {
     "name": "stdout",
     "output_type": "stream",
     "text": [
      "Resample2d :  input1_size (img?) = torch.Size([8, 3, 128, 128]), input2_size (flow?) = torch.Size([8, 2, 128, 128])\n"
     ]
    },
    {
     "name": "stderr",
     "output_type": "stream",
     "text": [
      "Epoch 5/5 - Training:  87%|█████████████████████████████████████████████████▎       | 97/112 [5:50:47<54:16, 217.09s/it]"
     ]
    },
    {
     "name": "stdout",
     "output_type": "stream",
     "text": [
      "Resample2d :  input1_size (img?) = torch.Size([8, 3, 128, 128]), input2_size (flow?) = torch.Size([8, 2, 128, 128])\n"
     ]
    },
    {
     "name": "stderr",
     "output_type": "stream",
     "text": [
      "Epoch 5/5 - Training:  88%|█████████████████████████████████████████████████▉       | 98/112 [5:54:22<50:30, 216.48s/it]"
     ]
    },
    {
     "name": "stdout",
     "output_type": "stream",
     "text": [
      "Resample2d :  input1_size (img?) = torch.Size([8, 3, 128, 128]), input2_size (flow?) = torch.Size([8, 2, 128, 128])\n"
     ]
    },
    {
     "name": "stderr",
     "output_type": "stream",
     "text": [
      "Epoch 5/5 - Training:  88%|██████████████████████████████████████████████████▍      | 99/112 [5:57:57<46:48, 216.02s/it]"
     ]
    },
    {
     "name": "stdout",
     "output_type": "stream",
     "text": [
      "Resample2d :  input1_size (img?) = torch.Size([8, 3, 128, 128]), input2_size (flow?) = torch.Size([8, 2, 128, 128])\n"
     ]
    },
    {
     "name": "stderr",
     "output_type": "stream",
     "text": [
      "Epoch 5/5 - Training:  89%|██████████████████████████████████████████████████      | 100/112 [6:01:32<43:06, 215.50s/it]"
     ]
    },
    {
     "name": "stdout",
     "output_type": "stream",
     "text": [
      "Resample2d :  input1_size (img?) = torch.Size([8, 3, 128, 128]), input2_size (flow?) = torch.Size([8, 2, 128, 128])\n"
     ]
    },
    {
     "name": "stderr",
     "output_type": "stream",
     "text": [
      "Epoch 5/5 - Training:  90%|██████████████████████████████████████████████████▌     | 101/112 [6:05:05<39:24, 214.98s/it]"
     ]
    },
    {
     "name": "stdout",
     "output_type": "stream",
     "text": [
      "Resample2d :  input1_size (img?) = torch.Size([8, 3, 128, 128]), input2_size (flow?) = torch.Size([8, 2, 128, 128])\n"
     ]
    },
    {
     "name": "stderr",
     "output_type": "stream",
     "text": [
      "Epoch 5/5 - Training:  91%|███████████████████████████████████████████████████     | 102/112 [6:08:42<35:54, 215.42s/it]"
     ]
    },
    {
     "name": "stdout",
     "output_type": "stream",
     "text": [
      "Resample2d :  input1_size (img?) = torch.Size([8, 3, 128, 128]), input2_size (flow?) = torch.Size([8, 2, 128, 128])\n"
     ]
    },
    {
     "name": "stderr",
     "output_type": "stream",
     "text": [
      "Epoch 5/5 - Training:  92%|███████████████████████████████████████████████████▌    | 103/112 [6:12:14<32:11, 214.56s/it]"
     ]
    },
    {
     "name": "stdout",
     "output_type": "stream",
     "text": [
      "Resample2d :  input1_size (img?) = torch.Size([8, 3, 128, 128]), input2_size (flow?) = torch.Size([8, 2, 128, 128])\n"
     ]
    },
    {
     "name": "stderr",
     "output_type": "stream",
     "text": [
      "Epoch 5/5 - Training:  93%|████████████████████████████████████████████████████    | 104/112 [6:15:50<28:38, 214.77s/it]"
     ]
    },
    {
     "name": "stdout",
     "output_type": "stream",
     "text": [
      "Resample2d :  input1_size (img?) = torch.Size([8, 3, 128, 128]), input2_size (flow?) = torch.Size([8, 2, 128, 128])\n"
     ]
    },
    {
     "name": "stderr",
     "output_type": "stream",
     "text": [
      "Epoch 5/5 - Training:  94%|████████████████████████████████████████████████████▌   | 105/112 [6:19:24<25:02, 214.57s/it]"
     ]
    },
    {
     "name": "stdout",
     "output_type": "stream",
     "text": [
      "Resample2d :  input1_size (img?) = torch.Size([8, 3, 128, 128]), input2_size (flow?) = torch.Size([8, 2, 128, 128])\n"
     ]
    },
    {
     "name": "stderr",
     "output_type": "stream",
     "text": [
      "Epoch 5/5 - Training:  95%|█████████████████████████████████████████████████████   | 106/112 [6:22:57<21:24, 214.14s/it]"
     ]
    },
    {
     "name": "stdout",
     "output_type": "stream",
     "text": [
      "Resample2d :  input1_size (img?) = torch.Size([8, 3, 128, 128]), input2_size (flow?) = torch.Size([8, 2, 128, 128])\n"
     ]
    },
    {
     "name": "stderr",
     "output_type": "stream",
     "text": [
      "Epoch 5/5 - Training:  96%|█████████████████████████████████████████████████████▌  | 107/112 [6:26:30<17:49, 213.88s/it]"
     ]
    },
    {
     "name": "stdout",
     "output_type": "stream",
     "text": [
      "Resample2d :  input1_size (img?) = torch.Size([8, 3, 128, 128]), input2_size (flow?) = torch.Size([8, 2, 128, 128])\n"
     ]
    },
    {
     "name": "stderr",
     "output_type": "stream",
     "text": [
      "Epoch 5/5 - Training:  96%|██████████████████████████████████████████████████████  | 108/112 [6:30:10<14:23, 215.76s/it]"
     ]
    },
    {
     "name": "stdout",
     "output_type": "stream",
     "text": [
      "Resample2d :  input1_size (img?) = torch.Size([8, 3, 128, 128]), input2_size (flow?) = torch.Size([8, 2, 128, 128])\n"
     ]
    },
    {
     "name": "stderr",
     "output_type": "stream",
     "text": [
      "Epoch 5/5 - Training:  97%|██████████████████████████████████████████████████████▌ | 109/112 [6:33:49<10:50, 216.74s/it]"
     ]
    },
    {
     "name": "stdout",
     "output_type": "stream",
     "text": [
      "Resample2d :  input1_size (img?) = torch.Size([8, 3, 128, 128]), input2_size (flow?) = torch.Size([8, 2, 128, 128])\n"
     ]
    },
    {
     "name": "stderr",
     "output_type": "stream",
     "text": [
      "Epoch 5/5 - Training:  98%|███████████████████████████████████████████████████████ | 110/112 [6:37:27<07:13, 216.95s/it]"
     ]
    },
    {
     "name": "stdout",
     "output_type": "stream",
     "text": [
      "Resample2d :  input1_size (img?) = torch.Size([8, 3, 128, 128]), input2_size (flow?) = torch.Size([8, 2, 128, 128])\n"
     ]
    },
    {
     "name": "stderr",
     "output_type": "stream",
     "text": [
      "Epoch 5/5 - Training:  99%|███████████████████████████████████████████████████████▌| 111/112 [6:41:03<03:36, 216.73s/it]"
     ]
    },
    {
     "name": "stdout",
     "output_type": "stream",
     "text": [
      "Resample2d :  input1_size (img?) = torch.Size([8, 3, 128, 128]), input2_size (flow?) = torch.Size([8, 2, 128, 128])\n"
     ]
    },
    {
     "name": "stderr",
     "output_type": "stream",
     "text": [
      "                                                                                                                        \r"
     ]
    },
    {
     "name": "stdout",
     "output_type": "stream",
     "text": [
      "Resample2d :  input1_size (img?) = torch.Size([8, 3, 128, 128]), input2_size (flow?) = torch.Size([8, 2, 128, 128])\n"
     ]
    },
    {
     "name": "stderr",
     "output_type": "stream",
     "text": [
      "Epoch 5/5 - Validation:   9%|█████▎                                                     | 1/11 [03:35<35:56, 215.62s/it]"
     ]
    },
    {
     "name": "stdout",
     "output_type": "stream",
     "text": [
      "Resample2d :  input1_size (img?) = torch.Size([8, 3, 128, 128]), input2_size (flow?) = torch.Size([8, 2, 128, 128])\n"
     ]
    },
    {
     "name": "stderr",
     "output_type": "stream",
     "text": [
      "Epoch 5/5 - Validation:  18%|██████████▋                                                | 2/11 [07:09<32:09, 214.35s/it]"
     ]
    },
    {
     "name": "stdout",
     "output_type": "stream",
     "text": [
      "Resample2d :  input1_size (img?) = torch.Size([8, 3, 128, 128]), input2_size (flow?) = torch.Size([8, 2, 128, 128])\n"
     ]
    },
    {
     "name": "stderr",
     "output_type": "stream",
     "text": [
      "Epoch 5/5 - Validation:  27%|████████████████                                           | 3/11 [10:40<28:23, 212.97s/it]"
     ]
    },
    {
     "name": "stdout",
     "output_type": "stream",
     "text": [
      "Resample2d :  input1_size (img?) = torch.Size([8, 3, 128, 128]), input2_size (flow?) = torch.Size([8, 2, 128, 128])\n"
     ]
    },
    {
     "name": "stderr",
     "output_type": "stream",
     "text": [
      "Epoch 5/5 - Validation:  36%|█████████████████████▍                                     | 4/11 [14:11<24:46, 212.40s/it]"
     ]
    },
    {
     "name": "stdout",
     "output_type": "stream",
     "text": [
      "Resample2d :  input1_size (img?) = torch.Size([8, 3, 128, 128]), input2_size (flow?) = torch.Size([8, 2, 128, 128])\n"
     ]
    },
    {
     "name": "stderr",
     "output_type": "stream",
     "text": [
      "Epoch 5/5 - Validation:  45%|██████████████████████████▊                                | 5/11 [17:45<21:16, 212.81s/it]"
     ]
    },
    {
     "name": "stdout",
     "output_type": "stream",
     "text": [
      "Resample2d :  input1_size (img?) = torch.Size([8, 3, 128, 128]), input2_size (flow?) = torch.Size([8, 2, 128, 128])\n"
     ]
    },
    {
     "name": "stderr",
     "output_type": "stream",
     "text": [
      "Epoch 5/5 - Validation:  55%|████████████████████████████████▏                          | 6/11 [21:16<17:41, 212.33s/it]"
     ]
    },
    {
     "name": "stdout",
     "output_type": "stream",
     "text": [
      "Resample2d :  input1_size (img?) = torch.Size([8, 3, 128, 128]), input2_size (flow?) = torch.Size([8, 2, 128, 128])\n"
     ]
    },
    {
     "name": "stderr",
     "output_type": "stream",
     "text": [
      "Epoch 5/5 - Validation:  64%|█████████████████████████████████████▌                     | 7/11 [24:46<14:06, 211.58s/it]"
     ]
    },
    {
     "name": "stdout",
     "output_type": "stream",
     "text": [
      "Resample2d :  input1_size (img?) = torch.Size([8, 3, 128, 128]), input2_size (flow?) = torch.Size([8, 2, 128, 128])\n"
     ]
    },
    {
     "name": "stderr",
     "output_type": "stream",
     "text": [
      "Epoch 5/5 - Validation:  73%|██████████████████████████████████████████▉                | 8/11 [28:17<10:33, 211.26s/it]"
     ]
    },
    {
     "name": "stdout",
     "output_type": "stream",
     "text": [
      "Resample2d :  input1_size (img?) = torch.Size([8, 3, 128, 128]), input2_size (flow?) = torch.Size([8, 2, 128, 128])\n"
     ]
    },
    {
     "name": "stderr",
     "output_type": "stream",
     "text": [
      "Epoch 5/5 - Validation:  82%|████████████████████████████████████████████████▎          | 9/11 [31:55<07:06, 213.35s/it]"
     ]
    },
    {
     "name": "stdout",
     "output_type": "stream",
     "text": [
      "Resample2d :  input1_size (img?) = torch.Size([8, 3, 128, 128]), input2_size (flow?) = torch.Size([8, 2, 128, 128])\n"
     ]
    },
    {
     "name": "stderr",
     "output_type": "stream",
     "text": [
      "Epoch 5/5 - Validation:  91%|████████████████████████████████████████████████████▋     | 10/11 [35:35<03:35, 215.29s/it]"
     ]
    },
    {
     "name": "stdout",
     "output_type": "stream",
     "text": [
      "Resample2d :  input1_size (img?) = torch.Size([8, 3, 128, 128]), input2_size (flow?) = torch.Size([8, 2, 128, 128])\n"
     ]
    },
    {
     "name": "stderr",
     "output_type": "stream",
     "text": [
      "                                                                                                                        "
     ]
    },
    {
     "name": "stdout",
     "output_type": "stream",
     "text": [
      "Resample2d :  input1_size (img?) = torch.Size([8, 3, 128, 128]), input2_size (flow?) = torch.Size([8, 2, 128, 128])\n",
      "Epoch 5/5, Train Loss: nan, Validation Loss: nan\n"
     ]
    },
    {
     "name": "stderr",
     "output_type": "stream",
     "text": [
      "\r"
     ]
    }
   ],
   "source": [
    "#check if cuda is available:\n",
    "if torch.cuda.is_available():\n",
    "    device = 'cuda:{}'.format(args.gpu_id)\n",
    "else:\n",
    "    device = 'cpu'\n",
    "\n",
    "#x.requires_grad\n",
    "#pretrained DRN model:\n",
    "model = DRNSeg(2)\n",
    "state_dict = torch.load(args.model_path, map_location=device)\n",
    "state_dict['model'].requires_grad = True\n",
    "model.load_state_dict(state_dict['model'])\n",
    "\n",
    "#set optimizer\n",
    "optimizer = torch.optim.Adam(model.parameters(),args.lr,(args.b1,args.b2))\n",
    "loss_total = L_tot(s_epe = 1.0 , s_ms = 15.0 , s_rec = 1.5 , flow_factor=1.05).cuda()\n",
    "best_val_loss = float('inf')\n",
    "best_model_path = 'best_model.pth'\n",
    "\n",
    "num_epochs = 5\n",
    "\n",
    "for name, param in model.named_parameters():\n",
    "    param.requires_grad = True\n",
    "\n",
    "\n",
    "\n",
    "for epoch in range(num_epochs):\n",
    "    model.train()  # Set model to training mode\n",
    "    train_loss = 0.0\n",
    "\n",
    "    # Training loop with tqdm progress bar\n",
    "    for batch in tqdm(train_loader, desc=f\"Epoch {epoch+1}/{num_epochs} - Training\", leave=False):\n",
    "        model.cuda()\n",
    "        batch = [t.cuda() for t in batch]\n",
    "        batch = [Variable(t.data, requires_grad=False) for t in batch]\n",
    "        Xo , Xm , Umo , M = batch\n",
    "        optimizer.zero_grad()  # Zero the gradients\n",
    "        outputs = model(Xm).to(device=device)  # Forward pass\n",
    "        outputs = Variable(outputs.data, requires_grad=True)\n",
    "        loss = loss_total(outputs,Xo,Xm,Umo,M) # Compute loss\n",
    "        loss.requires_grad = True\n",
    "        loss.backward()  # Backward pass\n",
    "        optimizer.step()  # Update weights\n",
    "\n",
    "        train_loss += loss.item()  # Accumulate loss\n",
    "\n",
    "    # Validation phase\n",
    "    model.eval()  # Set model to evaluation mode\n",
    "    val_loss = 0.0\n",
    "    with torch.no_grad():  # Disable gradient computation\n",
    "        for batch in tqdm(val_loader, desc=f\"Epoch {epoch+1}/{num_epochs} - Validation\", leave=False):\n",
    "            model.cuda()\n",
    "            batch = [t.cuda() for t in batch]\n",
    "            Xo , Xm , Umo , M = batch\n",
    "            outputs = model(Xm).to(device=device)  # Forward pass\n",
    "            loss = loss_total(outputs,Xo,Xm,Umo,M) # Compute loss\n",
    "            val_loss += loss.item()  # Accumulate loss\n",
    "\n",
    "    val_loss /= len(val_loader)  # Calculate average validation loss\n",
    "\n",
    "    # Save the best model\n",
    "    if val_loss < best_val_loss:\n",
    "        best_val_loss = val_loss\n",
    "        torch.save(model.state_dict(), best_model_path)  # Save best model checkpoint\n",
    "        print(f'Saved best model with loss: {best_val_loss:.4f}')\n",
    "\n",
    "    # Print epoch summary\n",
    "    print(f'Epoch {epoch+1}/{num_epochs}, Train Loss: {train_loss/len(train_loader):.4f}, Validation Loss: {val_loss:.4f}')\n"
   ]
  },
  {
   "cell_type": "code",
   "execution_count": null,
   "id": "32ba1fde-864d-4820-bcda-b43c72c9234f",
   "metadata": {},
   "outputs": [],
   "source": []
  },
  {
   "cell_type": "code",
   "execution_count": null,
   "id": "c12d9519-784f-4640-ae99-8a988cbc5a1b",
   "metadata": {},
   "outputs": [],
   "source": []
  }
 ],
 "metadata": {
  "kernelspec": {
   "display_name": "Python 3 (ipykernel)",
   "language": "python",
   "name": "python3"
  },
  "language_info": {
   "codemirror_mode": {
    "name": "ipython",
    "version": 3
   },
   "file_extension": ".py",
   "mimetype": "text/x-python",
   "name": "python",
   "nbconvert_exporter": "python",
   "pygments_lexer": "ipython3",
   "version": "3.10.13"
  }
 },
 "nbformat": 4,
 "nbformat_minor": 5
}
