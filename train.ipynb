{
 "cells": [
  {
   "cell_type": "markdown",
   "id": "e8c649c8-a92f-485a-952e-4b91344c43fe",
   "metadata": {},
   "source": [
    "## imports"
   ]
  },
  {
   "cell_type": "code",
   "execution_count": 3,
   "id": "6cb86fa8-a635-462a-b69e-2bd4e65d7150",
   "metadata": {},
   "outputs": [],
   "source": [
    "from modules.DRNSeg import DRNSeg\n",
    "import argparse\n",
    "import os\n",
    "import sys\n",
    "import numpy as np\n",
    "import torch\n",
    "import torchvision.transforms as transforms\n",
    "from PIL import Image"
   ]
  },
  {
   "cell_type": "markdown",
   "id": "f5835ed2-0bff-41d9-b93b-d6fff6df7577",
   "metadata": {},
   "source": [
    "## Args\n",
    "TO DO: chagne it to parser instead"
   ]
  },
  {
   "cell_type": "code",
   "execution_count": 17,
   "id": "f118e053-8051-4cc1-aaed-5a44cbb3c2f4",
   "metadata": {},
   "outputs": [],
   "source": [
    "class Args():\n",
    "    def __init__(self,model_path,gpu_id=0,lr=1e-4,b1=0.9,b2=0.999):\n",
    "        self.lr = lr\n",
    "        self.b1 = b1\n",
    "        self.b2 = b2\n",
    "        self.gpu_id=gpu_id\n",
    "        self.model_path =model_path\n",
    "        \n",
    "args = Args(\"../checkpoints/DRN/local.pth\")       "
   ]
  },
  {
   "cell_type": "code",
   "execution_count": 24,
   "id": "52ed6587-29db-496f-83e7-90dfbc5e4e38",
   "metadata": {},
   "outputs": [
    {
     "ename": "TypeError",
     "evalue": "print_dic() takes 0 positional arguments but 2 were given",
     "output_type": "error",
     "traceback": [
      "\u001b[0;31m---------------------------------------------------------------------------\u001b[0m",
      "\u001b[0;31mTypeError\u001b[0m                                 Traceback (most recent call last)",
      "Cell \u001b[0;32mIn[24], line 4\u001b[0m\n\u001b[1;32m      2\u001b[0m     \u001b[38;5;28mprint\u001b[39m(kwargs[\u001b[38;5;124m'\u001b[39m\u001b[38;5;124ma\u001b[39m\u001b[38;5;124m'\u001b[39m])\n\u001b[1;32m      3\u001b[0m     \u001b[38;5;28mprint\u001b[39m(kwargs)\n\u001b[0;32m----> 4\u001b[0m \u001b[43mprint_dic\u001b[49m\u001b[43m(\u001b[49m\u001b[38;5;241;43m1\u001b[39;49m\u001b[43m,\u001b[49m\u001b[38;5;241;43m2\u001b[39;49m\u001b[43m)\u001b[49m    \n",
      "\u001b[0;31mTypeError\u001b[0m: print_dic() takes 0 positional arguments but 2 were given"
     ]
    }
   ],
   "source": [
    "\n",
    "def print_dic(**kwargs):\n",
    "    print(kwargs['a'])\n",
    "    print(kwargs)\n",
    "print_dic(1,2)    "
   ]
  },
  {
   "cell_type": "markdown",
   "id": "d998edce-0090-4495-ae96-d817eb5c1fbf",
   "metadata": {},
   "source": [
    "## Train"
   ]
  },
  {
   "cell_type": "code",
   "execution_count": 21,
   "id": "9ab366aa-9d30-44f3-ab7d-a6973f09922a",
   "metadata": {},
   "outputs": [],
   "source": [
    "#check if cuda is available:\n",
    "if torch.cuda.is_available():\n",
    "    device = 'cuda:{}'.format(args.gpu_id)\n",
    "else:\n",
    "    device = 'cpu'\n",
    "    \n",
    "#pretrained DRN model:\n",
    "model = DRNSeg(2)\n",
    "state_dict = torch.load(args.model_path, map_location=device)\n",
    "model.load_state_dict(state_dict['model'])\n",
    "\n",
    "#set optimizer\n",
    "optimizer = torch.optim.Adam(model.parameters(),args.lr,(args.b1,args.b2))\n",
    "\n",
    "loss = \n"
   ]
  },
  {
   "cell_type": "code",
   "execution_count": null,
   "id": "18b7971e-270c-4ba0-884f-41567fdc2a6a",
   "metadata": {},
   "outputs": [],
   "source": []
  }
 ],
 "metadata": {
  "kernelspec": {
   "display_name": "Python 3 (ipykernel)",
   "language": "python",
   "name": "python3"
  },
  "language_info": {
   "codemirror_mode": {
    "name": "ipython",
    "version": 3
   },
   "file_extension": ".py",
   "mimetype": "text/x-python",
   "name": "python",
   "nbconvert_exporter": "python",
   "pygments_lexer": "ipython3",
   "version": "3.10.14"
  }
 },
 "nbformat": 4,
 "nbformat_minor": 5
}
